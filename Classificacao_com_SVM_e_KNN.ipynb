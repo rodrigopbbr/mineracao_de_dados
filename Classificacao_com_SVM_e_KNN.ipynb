{
  "nbformat": 4,
  "nbformat_minor": 0,
  "metadata": {
    "celltoolbar": "Slideshow",
    "kernelspec": {
      "display_name": "Python [conda env:root] *",
      "language": "python",
      "name": "conda-root-py"
    },
    "language_info": {
      "codemirror_mode": {
        "name": "ipython",
        "version": 3
      },
      "file_extension": ".py",
      "mimetype": "text/x-python",
      "name": "python",
      "nbconvert_exporter": "python",
      "pygments_lexer": "ipython3",
      "version": "3.9.2"
    },
    "rise": {
      "autolaunch": true,
      "enable_chalkboard": true,
      "progress": true,
      "scroll": true,
      "slideNumber": true
    },
    "colab": {
      "name": "Classificacao_com_SVM_e_KNN.ipynb",
      "provenance": [],
      "collapsed_sections": [],
      "include_colab_link": true
    }
  },
  "cells": [
    {
      "cell_type": "markdown",
      "metadata": {
        "id": "view-in-github",
        "colab_type": "text"
      },
      "source": [
        "<a href=\"https://colab.research.google.com/github/rodrigopbbr/mineracao_de_dados/blob/main/Classificacao_com_SVM_e_KNN.ipynb\" target=\"_parent\"><img src=\"https://colab.research.google.com/assets/colab-badge.svg\" alt=\"Open In Colab\"/></a>"
      ]
    },
    {
      "cell_type": "markdown",
      "metadata": {
        "id": "x4LrCb-0IrEc"
      },
      "source": [
        "# Árvores de Decisão (*Decision Trees*)\n",
        "\n",
        "**Objetivos**: Aprender o que é Árvores de Decisão usando a biblioteca `Scikit-Learn`."
      ]
    },
    {
      "cell_type": "markdown",
      "metadata": {
        "id": "sXpWWZ00IrEm"
      },
      "source": [
        "## Exemplo com o Dataset Titanic\n",
        "\n",
        "Contém 891 passageiros reais do Titanic que afundou em 15/04/1912 matando 1502 de 2224 passageiros e tripulação que estavam a bordo.\n",
        "\n",
        "* `survived`: *dummy* `0` ou `1` \n",
        "* `pclass`: Classe do Passageiro\n",
        "    - `1`: Primeira Classe\n",
        "    - `2`: Segunda Classe\n",
        "    - `3`: Terceira Classe\n",
        "* `sex`: Sexo `male` ou `female`\n",
        "* `age`: Idade\n",
        "* `sibsp`: Número de Irmãos (*Siblings*) e Esposas (*spouse*) a bordo\n",
        "* `parch`: Número de pais/filhos a bordo\n",
        "* `fare`: Valor pago pela passagem em libras\n",
        "* `embarked`: Porto que embarcou\n",
        "    - `C`: Cherbourg\n",
        "    - `Q`: Queenstown\n",
        "    - `S`: Southampton)\n",
        "* `class`: Mesmo que `pclass` só que em texto\n",
        "* `adult_male`: *dummy* para `age > 16` e `sex == 'male'`\n",
        "* `deck`: Qual deck a cabine do passageiro se situava\n",
        "* `alive`: Mesmo que survived só que com `yes` ou `no`\n",
        "* `alone`: *dummy* para se viajava sozinho"
      ]
    },
    {
      "cell_type": "markdown",
      "metadata": {
        "id": "CpW6ZFUtIrEo"
      },
      "source": [
        "<img src=\"https://github.com/storopoli/ciencia-de-dados/blob/master/notebooks/images/titanic.png?raw=1\" alt=\"titanic\" style=\"width: 500px;\"/>"
      ]
    },
    {
      "cell_type": "code",
      "metadata": {
        "id": "wXT3hVMzIrEp"
      },
      "source": [
        "# import seaborn as sns\n",
        "import pandas as pd\n",
        "import seaborn as sns\n",
        "from sklearn.model_selection import train_test_split\n",
        "titanic = sns.load_dataset('titanic')\n",
        "\n",
        "feature_names = ['pclass', 'female', 'age', 'fare']\n",
        "titanic['female'] = titanic['sex'].map({'male': 0, 'female': 1})\n",
        "titanic.dropna(subset=feature_names, inplace=True)  #891 para 714\n",
        "\n",
        "X = titanic[feature_names].to_numpy()\n",
        "y = titanic['survived'].to_numpy()\n",
        "\n",
        "#X_train, X_test, y_train, y_test = train_test_split(X, y,\n",
        "#                                                    test_size=0.25,\n",
        "#                                                    random_state=123)\n",
        "## Pode ser usado o estratificado já neste experimento\n",
        "X_train, X_test, y_train, y_test = train_test_split(X, y,\n",
        "                                                    test_size=0.25,\n",
        "                                                    random_state=123,\n",
        "                                                    stratify=y)"
      ],
      "execution_count": null,
      "outputs": []
    },
    {
      "cell_type": "code",
      "metadata": {
        "id": "Lf0Bb5E5IrEr",
        "colab": {
          "base_uri": "https://localhost:8080/"
        },
        "outputId": "3cfe2b05-fd40-4931-e8c2-3dad778964ae"
      },
      "source": [
        "print('Tamanho de X_train: ', X_train.shape)\n",
        "print('Tamanho de X_test: ', X_test.shape)\n",
        "print('Tamanho de y_train: ', y_train.shape)\n",
        "print('Tamanho de y_test: ', y_test.shape)"
      ],
      "execution_count": null,
      "outputs": [
        {
          "output_type": "stream",
          "name": "stdout",
          "text": [
            "Tamanho de X_train:  (535, 4)\n",
            "Tamanho de X_test:  (179, 4)\n",
            "Tamanho de y_train:  (535,)\n",
            "Tamanho de y_test:  (179,)\n"
          ]
        }
      ]
    },
    {
      "cell_type": "markdown",
      "metadata": {
        "id": "px_H_VgKIrEs"
      },
      "source": [
        "### Árvore de Classificação\n",
        "Usar a função do Scikit-Learn [`sklearn.tree.DecisionTreeClassifier()`](https://scikit-learn.org/stable/modules/generated/sklearn.tree.DecisionTreeClassifier.html)\n",
        "\n",
        "#### Argumentos:\n",
        "* `criterion` - `str` - Critério de Impureza (Gini ou Entropia)\n",
        "    * `'gini'` - padrão\n",
        "    * `'entropy'`\n",
        "* `max_depth` - `int` - Profundidade Máxima da Árvore\n",
        "* `min_samples_split` - `int` ou `float` - Quantidade Mínima de Observações para uma Decisão\n",
        "* `min_samples_leaf` - `int` ou `float` - Quantidade Mínima de Observações para que um Nó vire Folha (não tenha mais outros nós abaixo)\n",
        "* `random_state` - `int` - seed do gerador de número randômicos (replicabilidade)\n",
        "\n",
        "#### Retorna:\n",
        "* Objeto `estimator` do Scikit-Learn"
      ]
    },
    {
      "cell_type": "code",
      "metadata": {
        "id": "AGzj5JMrIrEu",
        "colab": {
          "base_uri": "https://localhost:8080/"
        },
        "outputId": "03c4df15-8be3-4907-d91f-a2ad089d24d5"
      },
      "source": [
        "from sklearn.tree import DecisionTreeClassifier\n",
        "\n",
        "clf = DecisionTreeClassifier(max_depth=2,\n",
        "                             min_samples_split=20,\n",
        "                             random_state=123)\n",
        "clf.fit(X_train, y_train)"
      ],
      "execution_count": null,
      "outputs": [
        {
          "output_type": "execute_result",
          "data": {
            "text/plain": [
              "DecisionTreeClassifier(ccp_alpha=0.0, class_weight=None, criterion='gini',\n",
              "                       max_depth=2, max_features=None, max_leaf_nodes=None,\n",
              "                       min_impurity_decrease=0.0, min_impurity_split=None,\n",
              "                       min_samples_leaf=1, min_samples_split=20,\n",
              "                       min_weight_fraction_leaf=0.0, presort='deprecated',\n",
              "                       random_state=123, splitter='best')"
            ]
          },
          "metadata": {},
          "execution_count": 3
        }
      ]
    },
    {
      "cell_type": "markdown",
      "metadata": {
        "id": "gKRWE3y9IrEv"
      },
      "source": [
        "### Acurácia do Modelo\n",
        "Usar a função do Scikit-Learn [`sklearn.metrics.accuracy_score()`](https://scikit-learn.org/stable/modules/generated/sklearn.metrics.accuracy_score.html)\n",
        "\n",
        "Retorna um score de acurácia `float` entre $0$ e $1$\n",
        "\n",
        "#### Argumentos\n",
        "* `y_true`: Classes Verdadeiras\n",
        "    * 2 classes: vetor (1-D)\n",
        "    * Mais que 2 classes: matriz (2-D)\n",
        "* `y_pred`: Classes Previstas pelo Modelo\n",
        "    * 2 classes: vetor (1-D)\n",
        "    * Mais que 2 classes: matriz (2-D)\n",
        "    \n"
      ]
    },
    {
      "cell_type": "code",
      "metadata": {
        "id": "24AD9OlAIrEv",
        "colab": {
          "base_uri": "https://localhost:8080/"
        },
        "outputId": "c05b91ec-8363-4a5f-a46c-8335f33a4674"
      },
      "source": [
        "from sklearn.metrics import accuracy_score\n",
        "\n",
        "y_train_true = y_train\n",
        "y_train_pred = clf.predict(X_train)\n",
        "y_test_true = y_test\n",
        "y_test_pred = clf.predict(X_test)\n",
        "\n",
        "\n",
        "print(f\"Acurácia de Treino: {round(accuracy_score(y_train_true, y_train_pred), 2)}\")\n",
        "print('\\n ---------------------------\\n')\n",
        "print(f\"Acurácia de Teste: {round(accuracy_score(y_test_true, y_test_pred), 2)}\")"
      ],
      "execution_count": null,
      "outputs": [
        {
          "output_type": "stream",
          "name": "stdout",
          "text": [
            "Acurácia de Treino: 0.79\n",
            "\n",
            " ---------------------------\n",
            "\n",
            "Acurácia de Teste: 0.79\n"
          ]
        }
      ]
    },
    {
      "cell_type": "markdown",
      "metadata": {
        "id": "MmDgyTYNIrEw"
      },
      "source": [
        "### Plotando a Árvore\n",
        "\n",
        "Usar a função do Scikit-Learn [`sklearn.tree.plot_tree()`](https://scikit-learn.org/stable/modules/generated/sklearn.tree.plot_tree.html). Usar junto com o `matplotlib.pyplot`.\n",
        "\n",
        "Lembrando nossos features\n",
        "\n",
        "* `X[0]` = `'pclass'`\n",
        "* `X[1]` = `'female'`\n",
        "* `X[2]` = `'age'`\n",
        "* `X[3]` = `'fare'`"
      ]
    },
    {
      "cell_type": "code",
      "metadata": {
        "id": "LrViIvgAIrEw"
      },
      "source": [
        "import matplotlib as mpl\n",
        "mpl.rcParams['figure.dpi'] = 300\n",
        "import matplotlib.pyplot as plt\n",
        "from sklearn.tree import plot_tree\n",
        "\n",
        "plt.figure()\n",
        "plot_tree(clf, filled=True)\n",
        "plt.show()"
      ],
      "execution_count": null,
      "outputs": []
    },
    {
      "cell_type": "markdown",
      "metadata": {
        "id": "pnDQVTakSbR6"
      },
      "source": [
        "#Classificador SVM "
      ]
    },
    {
      "cell_type": "code",
      "metadata": {
        "colab": {
          "base_uri": "https://localhost:8080/"
        },
        "id": "T5YTBXbiSfSG",
        "outputId": "0ff3004a-1ba1-42ff-c361-922acc691a0a"
      },
      "source": [
        "from sklearn.svm import SVC\n",
        "from sklearn.metrics import accuracy_score\n",
        "\n",
        "svc = SVC()\n",
        "svc.fit(X_train, y_train)\n",
        "y_pred = svc.predict(X_test)\n",
        "acc_svc = round(accuracy_score(y_pred, y_test) * 100, 2)\n",
        "print(acc_svc)\n"
      ],
      "execution_count": null,
      "outputs": [
        {
          "output_type": "stream",
          "name": "stdout",
          "text": [
            "62.01\n"
          ]
        }
      ]
    },
    {
      "cell_type": "code",
      "metadata": {
        "colab": {
          "base_uri": "https://localhost:8080/"
        },
        "id": "MGZr6VpvYkjO",
        "outputId": "666baeb9-7014-484e-9953-5024c8ed3ad1"
      },
      "source": [
        "from collections import Counter\n",
        "counter = Counter(y)\n",
        "print(counter) "
      ],
      "execution_count": null,
      "outputs": [
        {
          "output_type": "stream",
          "name": "stdout",
          "text": [
            "Counter({0: 424, 1: 290})\n"
          ]
        }
      ]
    },
    {
      "cell_type": "markdown",
      "metadata": {
        "id": "NFuZcskddDOU"
      },
      "source": [
        "# Classificação com KNN\n"
      ]
    },
    {
      "cell_type": "code",
      "metadata": {
        "colab": {
          "base_uri": "https://localhost:8080/"
        },
        "id": "Of-2knY3dJhb",
        "outputId": "173da1bf-ffd8-4921-bdf8-c2d1dcc23f9f"
      },
      "source": [
        "print('Tamanho de X_train: ', X_train.shape, '\\n')\n",
        "print('Tamanho de X_test: ', X_test.shape, '\\n')\n",
        "print('Tamanho de y_train: ', y_train.shape, '\\n')\n",
        "print('Tamanho de y_test: ', y_test.shape, '\\n')"
      ],
      "execution_count": null,
      "outputs": [
        {
          "output_type": "stream",
          "name": "stdout",
          "text": [
            "Tamanho de X_train:  (535, 4) \n",
            "\n",
            "Tamanho de X_test:  (179, 4) \n",
            "\n",
            "Tamanho de y_train:  (535,) \n",
            "\n",
            "Tamanho de y_test:  (179,) \n",
            "\n"
          ]
        }
      ]
    },
    {
      "cell_type": "code",
      "metadata": {
        "colab": {
          "base_uri": "https://localhost:8080/"
        },
        "id": "7-dy4Q5IdZIz",
        "outputId": "26f40a6d-1ccc-45b5-f8be-32629e3eb3a8"
      },
      "source": [
        "from sklearn.neighbors import KNeighborsClassifier\n",
        "knn = KNeighborsClassifier(n_neighbors=3)\n",
        "knn.fit(X_train,y_train)"
      ],
      "execution_count": null,
      "outputs": [
        {
          "output_type": "execute_result",
          "data": {
            "text/plain": [
              "KNeighborsClassifier(algorithm='auto', leaf_size=30, metric='minkowski',\n",
              "                     metric_params=None, n_jobs=None, n_neighbors=3, p=2,\n",
              "                     weights='uniform')"
            ]
          },
          "metadata": {},
          "execution_count": 30
        }
      ]
    },
    {
      "cell_type": "code",
      "metadata": {
        "colab": {
          "base_uri": "https://localhost:8080/"
        },
        "id": "JKqN__QEdfEW",
        "outputId": "0c5e09cc-1942-4541-9f4d-d647345c33d9"
      },
      "source": [
        "from sklearn.metrics import accuracy_score\n",
        "\n",
        "y_train_true = y_train\n",
        "y_train_pred = knn.predict(X_train)\n",
        "y_test_true = y_test\n",
        "y_test_pred = knn.predict(X_test)\n",
        "\n",
        "\n",
        "print(f\"Acurácia de Treino: {round(accuracy_score(y_train_true, y_train_pred), 2)}\")\n",
        "print('\\n ---------------------------\\n')\n",
        "print(f\"Acurácia de Teste: {round(accuracy_score(y_test_true, y_test_pred), 2)}\")"
      ],
      "execution_count": null,
      "outputs": [
        {
          "output_type": "stream",
          "name": "stdout",
          "text": [
            "Acurácia de Treino: 0.82\n",
            "\n",
            " ---------------------------\n",
            "\n",
            "Acurácia de Teste: 0.66\n"
          ]
        }
      ]
    },
    {
      "cell_type": "markdown",
      "metadata": {
        "id": "dQnxKbw9IrEx"
      },
      "source": [
        "## Atividade - Árvores de Decisão com o dataset [Iris](https://scikit-learn.org/stable/datasets/index.html#iris-dataset)\n",
        "\n",
        "Edgar Anderson coletou os dados para quantificar a variação morfológica das flores de íris de três espécies relacionadas.\n",
        "\n",
        "O conjunto de dados consiste em 50 amostras de cada uma das três espécies de Iris (Setosa, Virginica e Versicolor). Quatro características foram medidas em cada amostra (cm):\n",
        "\n",
        "* $N = 150$\n",
        "* Atributos: 10\n",
        "    * `sepal length (cm)` - Cumprimento da Sépala\n",
        "    * `sepal width (cm)` - Largura da Sépala\n",
        "    * `petal length (cm)` - Cumprimento da Pétala\n",
        "    * `petal width (cm)` - Largua da Sépala\n",
        "* Variável dependente: Tipo de espécie de Iris\n",
        "    * `0` - Setosa\n",
        "    * `1` - Virginica\n",
        "    * `2` Versicolor \n",
        "\n",
        "* Achar a acurácia do modelo e os respectivos coeficientes dos atributos ($\\theta_i$) e viés/constante ($\\theta_0$)\n",
        "\n",
        ">Obs: usar `test_size = 0.25` e `random_state = 123`"
      ]
    },
    {
      "cell_type": "markdown",
      "metadata": {
        "id": "CQhbOqRgIrEx"
      },
      "source": [
        "<img src=\"https://github.com/storopoli/ciencia-de-dados/blob/master/notebooks/images/iris-species.png?raw=1\" alt=\"iris-sepals-petals\" style=\"width: 600px;\"/>"
      ]
    },
    {
      "cell_type": "code",
      "metadata": {
        "id": "7WT0XYTpIrEx"
      },
      "source": [
        "from sklearn.datasets import load_iris\n",
        "\n",
        "iris = load_iris()\n",
        "X = iris['data']\n",
        "y = iris['target']"
      ],
      "execution_count": null,
      "outputs": []
    },
    {
      "cell_type": "code",
      "metadata": {
        "id": "ul11ICp2IrEy",
        "colab": {
          "base_uri": "https://localhost:8080/"
        },
        "outputId": "a3d118a5-1310-40c5-b063-578e66248435"
      },
      "source": [
        "print('Nomes dos Atributos: ', iris['feature_names'], '\\n')\n",
        "print('Tamanho de X: ', X.shape, '\\n')\n",
        "print('Tamanho de y: ', y.shape, '\\n')"
      ],
      "execution_count": null,
      "outputs": [
        {
          "output_type": "stream",
          "name": "stdout",
          "text": [
            "Nomes dos Atributos:  ['sepal length (cm)', 'sepal width (cm)', 'petal length (cm)', 'petal width (cm)'] \n",
            "\n",
            "Tamanho de X:  (150, 4) \n",
            "\n",
            "Tamanho de y:  (150,) \n",
            "\n"
          ]
        }
      ]
    },
    {
      "cell_type": "code",
      "metadata": {
        "id": "H7VqQ_NrIrEy"
      },
      "source": [
        "from sklearn.model_selection import train_test_split\n",
        "\n",
        "X_train, X_test, y_train, y_test = train_test_split(X, y, test_size=0.25, random_state=123)"
      ],
      "execution_count": null,
      "outputs": []
    },
    {
      "cell_type": "code",
      "metadata": {
        "id": "Sr460Z-CIrEy",
        "colab": {
          "base_uri": "https://localhost:8080/"
        },
        "outputId": "97dabbe5-bfd5-42bc-b949-e042061dcc6c"
      },
      "source": [
        "print('Tamanho de X_train: ', X_train.shape, '\\n')\n",
        "print('Tamanho de X_test: ', X_test.shape, '\\n')\n",
        "print('Tamanho de y_train: ', y_train.shape, '\\n')\n",
        "print('Tamanho de y_test: ', y_test.shape, '\\n')"
      ],
      "execution_count": null,
      "outputs": [
        {
          "output_type": "stream",
          "name": "stdout",
          "text": [
            "Tamanho de X_train:  (112, 4) \n",
            "\n",
            "Tamanho de X_test:  (38, 4) \n",
            "\n",
            "Tamanho de y_train:  (112,) \n",
            "\n",
            "Tamanho de y_test:  (38,) \n",
            "\n"
          ]
        }
      ]
    },
    {
      "cell_type": "markdown",
      "metadata": {
        "id": "_12Hqep7QHvZ"
      },
      "source": [
        "#Gerando o modelo"
      ]
    },
    {
      "cell_type": "code",
      "metadata": {
        "colab": {
          "base_uri": "https://localhost:8080/"
        },
        "id": "-X9LOcR_QLWb",
        "outputId": "bb6b95d7-fa50-4d79-c32e-fa33023cabec"
      },
      "source": [
        "from sklearn.tree import DecisionTreeClassifier\n",
        "\n",
        "clf = DecisionTreeClassifier(max_depth=2,\n",
        "                             min_samples_split=20,\n",
        "                             random_state=123)\n",
        "clf.fit(X_train, y_train)"
      ],
      "execution_count": null,
      "outputs": [
        {
          "output_type": "execute_result",
          "data": {
            "text/plain": [
              "DecisionTreeClassifier(ccp_alpha=0.0, class_weight=None, criterion='gini',\n",
              "                       max_depth=2, max_features=None, max_leaf_nodes=None,\n",
              "                       min_impurity_decrease=0.0, min_impurity_split=None,\n",
              "                       min_samples_leaf=1, min_samples_split=20,\n",
              "                       min_weight_fraction_leaf=0.0, presort='deprecated',\n",
              "                       random_state=123, splitter='best')"
            ]
          },
          "metadata": {},
          "execution_count": 18
        }
      ]
    },
    {
      "cell_type": "markdown",
      "metadata": {
        "id": "5wk1AHiOPfad"
      },
      "source": [
        "#Acuracia do modelo"
      ]
    },
    {
      "cell_type": "code",
      "metadata": {
        "colab": {
          "base_uri": "https://localhost:8080/"
        },
        "id": "imCj5sxEPegp",
        "outputId": "786bdd09-4927-4fa1-a1ad-5dad1223ceec"
      },
      "source": [
        "from sklearn.metrics import accuracy_score\n",
        "\n",
        "y_train_true = y_train\n",
        "y_train_pred = clf.predict(X_train)\n",
        "y_test_true = y_test\n",
        "y_test_pred = clf.predict(X_test)\n",
        "\n",
        "\n",
        "print(f\"Acurácia de Treino: {round(accuracy_score(y_train_true, y_train_pred), 2)}\")\n",
        "print('\\n ---------------------------\\n')\n",
        "print(f\"Acurácia de Teste: {round(accuracy_score(y_test_true, y_test_pred), 2)}\")"
      ],
      "execution_count": null,
      "outputs": [
        {
          "output_type": "stream",
          "name": "stdout",
          "text": [
            "Acurácia de Treino: 0.96\n",
            "\n",
            " ---------------------------\n",
            "\n",
            "Acurácia de Teste: 0.95\n"
          ]
        }
      ]
    },
    {
      "cell_type": "markdown",
      "metadata": {
        "id": "3lwejn5bPqQ4"
      },
      "source": [
        "#arvore"
      ]
    },
    {
      "cell_type": "code",
      "metadata": {
        "id": "54FZ0ZvmPsGx"
      },
      "source": [
        "import matplotlib as mpl\n",
        "mpl.rcParams['figure.dpi'] = 300\n",
        "import matplotlib.pyplot as plt\n",
        "from sklearn.tree import plot_tree\n",
        "\n",
        "plt.figure()\n",
        "plot_tree(clf, filled=True)\n",
        "plt.show()"
      ],
      "execution_count": null,
      "outputs": []
    },
    {
      "cell_type": "markdown",
      "metadata": {
        "id": "9pVAv4uSTdmv"
      },
      "source": [
        "# Classificando com SVM"
      ]
    },
    {
      "cell_type": "code",
      "metadata": {
        "colab": {
          "base_uri": "https://localhost:8080/"
        },
        "id": "nPAM_Qg8TjGs",
        "outputId": "1b5d28ea-e315-4b9a-9bd4-7d4094bdd5eb"
      },
      "source": [
        "from sklearn.svm import SVC\n",
        "from sklearn.metrics import accuracy_score\n",
        "\n",
        "svc = SVC()\n",
        "svc.fit(X_train, y_train)\n",
        "y_pred = svc.predict(X_test)\n",
        "acc_svc = round(accuracy_score(y_pred, y_test) * 100, 2)\n",
        "print(acc_svc)\n"
      ],
      "execution_count": null,
      "outputs": [
        {
          "output_type": "stream",
          "name": "stdout",
          "text": [
            "97.37\n"
          ]
        }
      ]
    },
    {
      "cell_type": "markdown",
      "metadata": {
        "id": "-Z2U_Xa5ao1K"
      },
      "source": [
        "# Classifcacao com KNN"
      ]
    },
    {
      "cell_type": "code",
      "metadata": {
        "colab": {
          "base_uri": "https://localhost:8080/"
        },
        "id": "afNwdVyXasPw",
        "outputId": "2788e3f3-4533-48e7-c0d3-a3156b19ebca"
      },
      "source": [
        "print('Tamanho de X_train: ', X_train.shape, '\\n')\n",
        "print('Tamanho de X_test: ', X_test.shape, '\\n')\n",
        "print('Tamanho de y_train: ', y_train.shape, '\\n')\n",
        "print('Tamanho de y_test: ', y_test.shape, '\\n')"
      ],
      "execution_count": null,
      "outputs": [
        {
          "output_type": "stream",
          "name": "stdout",
          "text": [
            "Tamanho de X_train:  (112, 4) \n",
            "\n",
            "Tamanho de X_test:  (38, 4) \n",
            "\n",
            "Tamanho de y_train:  (112,) \n",
            "\n",
            "Tamanho de y_test:  (38,) \n",
            "\n"
          ]
        }
      ]
    },
    {
      "cell_type": "code",
      "metadata": {
        "colab": {
          "base_uri": "https://localhost:8080/"
        },
        "id": "s5UdPnlJcdvE",
        "outputId": "589fee17-7ca7-4207-ad14-eb6c23948472"
      },
      "source": [
        "from sklearn.neighbors import KNeighborsClassifier\n",
        "knn = KNeighborsClassifier(n_neighbors=3)\n",
        "knn.fit(X_train,y_train)"
      ],
      "execution_count": null,
      "outputs": [
        {
          "output_type": "execute_result",
          "data": {
            "text/plain": [
              "KNeighborsClassifier(algorithm='auto', leaf_size=30, metric='minkowski',\n",
              "                     metric_params=None, n_jobs=None, n_neighbors=3, p=2,\n",
              "                     weights='uniform')"
            ]
          },
          "metadata": {},
          "execution_count": 23
        }
      ]
    },
    {
      "cell_type": "code",
      "metadata": {
        "colab": {
          "base_uri": "https://localhost:8080/"
        },
        "id": "oE3MI-2RcsKq",
        "outputId": "cfdd0ad9-4574-4e4c-a940-8cd93f0618a2"
      },
      "source": [
        "from sklearn.metrics import accuracy_score\n",
        "\n",
        "y_train_true = y_train\n",
        "y_train_pred = knn.predict(X_train)\n",
        "y_test_true = y_test\n",
        "y_test_pred = knn.predict(X_test)\n",
        "\n",
        "\n",
        "print(f\"Acurácia de Treino: {round(accuracy_score(y_train_true, y_train_pred), 2)}\")\n",
        "print('\\n ---------------------------\\n')\n",
        "print(f\"Acurácia de Teste: {round(accuracy_score(y_test_true, y_test_pred), 2)}\")"
      ],
      "execution_count": null,
      "outputs": [
        {
          "output_type": "stream",
          "name": "stdout",
          "text": [
            "Acurácia de Treino: 0.98\n",
            "\n",
            " ---------------------------\n",
            "\n",
            "Acurácia de Teste: 0.95\n"
          ]
        }
      ]
    }
  ]
}