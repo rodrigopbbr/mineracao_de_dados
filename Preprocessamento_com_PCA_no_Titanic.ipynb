{
  "nbformat": 4,
  "nbformat_minor": 0,
  "metadata": {
    "colab": {
      "name": "Preprocessamento_com_PCA_no_Titanic.ipynb",
      "provenance": [],
      "collapsed_sections": [
        "21eF3MHxcUEG"
      ],
      "include_colab_link": true
    },
    "kernelspec": {
      "name": "python3",
      "display_name": "Python 3"
    },
    "language_info": {
      "name": "python"
    }
  },
  "cells": [
    {
      "cell_type": "markdown",
      "metadata": {
        "id": "view-in-github",
        "colab_type": "text"
      },
      "source": [
        "<a href=\"https://colab.research.google.com/github/rodrigopbbr/mineracao_de_dados/blob/main/Preprocessamento_com_PCA_no_Titanic.ipynb\" target=\"_parent\"><img src=\"https://colab.research.google.com/assets/colab-badge.svg\" alt=\"Open In Colab\"/></a>"
      ]
    },
    {
      "cell_type": "markdown",
      "metadata": {
        "id": "AhoxfklLtITG"
      },
      "source": [
        "## Exemplo com o Dataset Titanic\n",
        "\n",
        "Contém 891 passageiros reais do Titanic que afundou em 15/04/1912 matando 1502 de 2224 passageiros e tripulação que estavam a bordo.\n",
        "\n",
        "* `survived`: *dummy* `0` ou `1` \n",
        "* `pclass`: Classe do Passageiro\n",
        "    - `1`: Primeira Classe\n",
        "    - `2`: Segunda Classe\n",
        "    - `3`: Terceira Classe\n",
        "* `sex`: Sexo `male` ou `female`\n",
        "* `age`: Idade\n",
        "* `sibsp`: Número de Irmãos (*Siblings*) e Esposas (*spouse*) a bordo\n",
        "* `parch`: Número de pais/filhos a bordo\n",
        "* `fare`: Valor pago pela passagem em libras\n",
        "* `embarked`: Porto que embarcou\n",
        "    - `C`: Cherbourg\n",
        "    - `Q`: Queenstown\n",
        "    - `S`: Southampton)\n",
        "* `class`: Mesmo que `pclass` só que em texto\n",
        "* `adult_male`: *dummy* para `age > 16` e `sex == 'male'`\n",
        "* `deck`: Qual deck a cabine do passageiro se situava\n",
        "* `alive`: Mesmo que survived só que com `yes` ou `no`\n",
        "* `alone`: *dummy* para se viajava sozinho"
      ]
    },
    {
      "cell_type": "markdown",
      "metadata": {
        "id": "rr753UuztITH"
      },
      "source": [
        "<img src=\"https://github.com/storopoli/ciencia-de-dados/blob/master/notebooks/images/titanic.png?raw=1\" alt=\"titanic\" style=\"width: 500px;\"/>"
      ]
    },
    {
      "cell_type": "code",
      "metadata": {
        "id": "cNlhUI6XtITI"
      },
      "source": [
        "# import seaborn as sns\n",
        "import pandas as pd\n",
        "import seaborn as sns\n",
        "import matplotlib.pyplot as plt\n",
        "import plotly.express as px\n",
        "import numpy as np\n",
        "titanic = sns.load_dataset('titanic')\n",
        "\n",
        "\n",
        "\n"
      ],
      "execution_count": null,
      "outputs": []
    },
    {
      "cell_type": "code",
      "metadata": {
        "colab": {
          "base_uri": "https://localhost:8080/"
        },
        "id": "OcSFH0hV1FCY",
        "outputId": "aadb7cf1-b6ef-43cd-ffbe-03dade36887f"
      },
      "source": [
        "titanic.shape"
      ],
      "execution_count": null,
      "outputs": [
        {
          "output_type": "execute_result",
          "data": {
            "text/plain": [
              "(891, 15)"
            ]
          },
          "metadata": {
            "tags": []
          },
          "execution_count": 4
        }
      ]
    },
    {
      "cell_type": "code",
      "metadata": {
        "colab": {
          "base_uri": "https://localhost:8080/"
        },
        "id": "yIcNTCSK26Kk",
        "outputId": "a815fd49-0c51-4dca-c495-197a571681cd"
      },
      "source": [
        "titanic.columns"
      ],
      "execution_count": null,
      "outputs": [
        {
          "output_type": "execute_result",
          "data": {
            "text/plain": [
              "Index(['survived', 'pclass', 'sex', 'age', 'sibsp', 'parch', 'fare',\n",
              "       'embarked', 'class', 'who', 'adult_male', 'deck', 'embark_town',\n",
              "       'alive', 'alone'],\n",
              "      dtype='object')"
            ]
          },
          "metadata": {
            "tags": []
          },
          "execution_count": 5
        }
      ]
    },
    {
      "cell_type": "code",
      "metadata": {
        "colab": {
          "base_uri": "https://localhost:8080/",
          "height": 423
        },
        "id": "nZ7Exv1I3NqR",
        "outputId": "82dfb9cf-2284-485b-948b-4d7291601d63"
      },
      "source": [
        "titanic"
      ],
      "execution_count": null,
      "outputs": [
        {
          "output_type": "execute_result",
          "data": {
            "text/html": [
              "<div>\n",
              "<style scoped>\n",
              "    .dataframe tbody tr th:only-of-type {\n",
              "        vertical-align: middle;\n",
              "    }\n",
              "\n",
              "    .dataframe tbody tr th {\n",
              "        vertical-align: top;\n",
              "    }\n",
              "\n",
              "    .dataframe thead th {\n",
              "        text-align: right;\n",
              "    }\n",
              "</style>\n",
              "<table border=\"1\" class=\"dataframe\">\n",
              "  <thead>\n",
              "    <tr style=\"text-align: right;\">\n",
              "      <th></th>\n",
              "      <th>survived</th>\n",
              "      <th>pclass</th>\n",
              "      <th>sex</th>\n",
              "      <th>age</th>\n",
              "      <th>sibsp</th>\n",
              "      <th>parch</th>\n",
              "      <th>fare</th>\n",
              "      <th>embarked</th>\n",
              "      <th>class</th>\n",
              "      <th>who</th>\n",
              "      <th>adult_male</th>\n",
              "      <th>deck</th>\n",
              "      <th>embark_town</th>\n",
              "      <th>alive</th>\n",
              "      <th>alone</th>\n",
              "    </tr>\n",
              "  </thead>\n",
              "  <tbody>\n",
              "    <tr>\n",
              "      <th>0</th>\n",
              "      <td>0</td>\n",
              "      <td>3</td>\n",
              "      <td>male</td>\n",
              "      <td>22.0</td>\n",
              "      <td>1</td>\n",
              "      <td>0</td>\n",
              "      <td>7.2500</td>\n",
              "      <td>S</td>\n",
              "      <td>Third</td>\n",
              "      <td>man</td>\n",
              "      <td>True</td>\n",
              "      <td>NaN</td>\n",
              "      <td>Southampton</td>\n",
              "      <td>no</td>\n",
              "      <td>False</td>\n",
              "    </tr>\n",
              "    <tr>\n",
              "      <th>1</th>\n",
              "      <td>1</td>\n",
              "      <td>1</td>\n",
              "      <td>female</td>\n",
              "      <td>38.0</td>\n",
              "      <td>1</td>\n",
              "      <td>0</td>\n",
              "      <td>71.2833</td>\n",
              "      <td>C</td>\n",
              "      <td>First</td>\n",
              "      <td>woman</td>\n",
              "      <td>False</td>\n",
              "      <td>C</td>\n",
              "      <td>Cherbourg</td>\n",
              "      <td>yes</td>\n",
              "      <td>False</td>\n",
              "    </tr>\n",
              "    <tr>\n",
              "      <th>2</th>\n",
              "      <td>1</td>\n",
              "      <td>3</td>\n",
              "      <td>female</td>\n",
              "      <td>26.0</td>\n",
              "      <td>0</td>\n",
              "      <td>0</td>\n",
              "      <td>7.9250</td>\n",
              "      <td>S</td>\n",
              "      <td>Third</td>\n",
              "      <td>woman</td>\n",
              "      <td>False</td>\n",
              "      <td>NaN</td>\n",
              "      <td>Southampton</td>\n",
              "      <td>yes</td>\n",
              "      <td>True</td>\n",
              "    </tr>\n",
              "    <tr>\n",
              "      <th>3</th>\n",
              "      <td>1</td>\n",
              "      <td>1</td>\n",
              "      <td>female</td>\n",
              "      <td>35.0</td>\n",
              "      <td>1</td>\n",
              "      <td>0</td>\n",
              "      <td>53.1000</td>\n",
              "      <td>S</td>\n",
              "      <td>First</td>\n",
              "      <td>woman</td>\n",
              "      <td>False</td>\n",
              "      <td>C</td>\n",
              "      <td>Southampton</td>\n",
              "      <td>yes</td>\n",
              "      <td>False</td>\n",
              "    </tr>\n",
              "    <tr>\n",
              "      <th>4</th>\n",
              "      <td>0</td>\n",
              "      <td>3</td>\n",
              "      <td>male</td>\n",
              "      <td>35.0</td>\n",
              "      <td>0</td>\n",
              "      <td>0</td>\n",
              "      <td>8.0500</td>\n",
              "      <td>S</td>\n",
              "      <td>Third</td>\n",
              "      <td>man</td>\n",
              "      <td>True</td>\n",
              "      <td>NaN</td>\n",
              "      <td>Southampton</td>\n",
              "      <td>no</td>\n",
              "      <td>True</td>\n",
              "    </tr>\n",
              "    <tr>\n",
              "      <th>...</th>\n",
              "      <td>...</td>\n",
              "      <td>...</td>\n",
              "      <td>...</td>\n",
              "      <td>...</td>\n",
              "      <td>...</td>\n",
              "      <td>...</td>\n",
              "      <td>...</td>\n",
              "      <td>...</td>\n",
              "      <td>...</td>\n",
              "      <td>...</td>\n",
              "      <td>...</td>\n",
              "      <td>...</td>\n",
              "      <td>...</td>\n",
              "      <td>...</td>\n",
              "      <td>...</td>\n",
              "    </tr>\n",
              "    <tr>\n",
              "      <th>886</th>\n",
              "      <td>0</td>\n",
              "      <td>2</td>\n",
              "      <td>male</td>\n",
              "      <td>27.0</td>\n",
              "      <td>0</td>\n",
              "      <td>0</td>\n",
              "      <td>13.0000</td>\n",
              "      <td>S</td>\n",
              "      <td>Second</td>\n",
              "      <td>man</td>\n",
              "      <td>True</td>\n",
              "      <td>NaN</td>\n",
              "      <td>Southampton</td>\n",
              "      <td>no</td>\n",
              "      <td>True</td>\n",
              "    </tr>\n",
              "    <tr>\n",
              "      <th>887</th>\n",
              "      <td>1</td>\n",
              "      <td>1</td>\n",
              "      <td>female</td>\n",
              "      <td>19.0</td>\n",
              "      <td>0</td>\n",
              "      <td>0</td>\n",
              "      <td>30.0000</td>\n",
              "      <td>S</td>\n",
              "      <td>First</td>\n",
              "      <td>woman</td>\n",
              "      <td>False</td>\n",
              "      <td>B</td>\n",
              "      <td>Southampton</td>\n",
              "      <td>yes</td>\n",
              "      <td>True</td>\n",
              "    </tr>\n",
              "    <tr>\n",
              "      <th>888</th>\n",
              "      <td>0</td>\n",
              "      <td>3</td>\n",
              "      <td>female</td>\n",
              "      <td>NaN</td>\n",
              "      <td>1</td>\n",
              "      <td>2</td>\n",
              "      <td>23.4500</td>\n",
              "      <td>S</td>\n",
              "      <td>Third</td>\n",
              "      <td>woman</td>\n",
              "      <td>False</td>\n",
              "      <td>NaN</td>\n",
              "      <td>Southampton</td>\n",
              "      <td>no</td>\n",
              "      <td>False</td>\n",
              "    </tr>\n",
              "    <tr>\n",
              "      <th>889</th>\n",
              "      <td>1</td>\n",
              "      <td>1</td>\n",
              "      <td>male</td>\n",
              "      <td>26.0</td>\n",
              "      <td>0</td>\n",
              "      <td>0</td>\n",
              "      <td>30.0000</td>\n",
              "      <td>C</td>\n",
              "      <td>First</td>\n",
              "      <td>man</td>\n",
              "      <td>True</td>\n",
              "      <td>C</td>\n",
              "      <td>Cherbourg</td>\n",
              "      <td>yes</td>\n",
              "      <td>True</td>\n",
              "    </tr>\n",
              "    <tr>\n",
              "      <th>890</th>\n",
              "      <td>0</td>\n",
              "      <td>3</td>\n",
              "      <td>male</td>\n",
              "      <td>32.0</td>\n",
              "      <td>0</td>\n",
              "      <td>0</td>\n",
              "      <td>7.7500</td>\n",
              "      <td>Q</td>\n",
              "      <td>Third</td>\n",
              "      <td>man</td>\n",
              "      <td>True</td>\n",
              "      <td>NaN</td>\n",
              "      <td>Queenstown</td>\n",
              "      <td>no</td>\n",
              "      <td>True</td>\n",
              "    </tr>\n",
              "  </tbody>\n",
              "</table>\n",
              "<p>891 rows × 15 columns</p>\n",
              "</div>"
            ],
            "text/plain": [
              "     survived  pclass     sex   age  ...  deck  embark_town  alive  alone\n",
              "0           0       3    male  22.0  ...   NaN  Southampton     no  False\n",
              "1           1       1  female  38.0  ...     C    Cherbourg    yes  False\n",
              "2           1       3  female  26.0  ...   NaN  Southampton    yes   True\n",
              "3           1       1  female  35.0  ...     C  Southampton    yes  False\n",
              "4           0       3    male  35.0  ...   NaN  Southampton     no   True\n",
              "..        ...     ...     ...   ...  ...   ...          ...    ...    ...\n",
              "886         0       2    male  27.0  ...   NaN  Southampton     no   True\n",
              "887         1       1  female  19.0  ...     B  Southampton    yes   True\n",
              "888         0       3  female   NaN  ...   NaN  Southampton     no  False\n",
              "889         1       1    male  26.0  ...     C    Cherbourg    yes   True\n",
              "890         0       3    male  32.0  ...   NaN   Queenstown     no   True\n",
              "\n",
              "[891 rows x 15 columns]"
            ]
          },
          "metadata": {
            "tags": []
          },
          "execution_count": 6
        }
      ]
    },
    {
      "cell_type": "code",
      "metadata": {
        "id": "ZZoeLePl04DU"
      },
      "source": [
        "titanic['female'] = titanic['sex'].map({'male': 0, 'female': 1})\n",
        "\n"
      ],
      "execution_count": null,
      "outputs": []
    },
    {
      "cell_type": "code",
      "metadata": {
        "colab": {
          "base_uri": "https://localhost:8080/",
          "height": 206
        },
        "id": "CCejulae7Ohx",
        "outputId": "2b8476c7-94e0-4c3e-e4a8-95bdd4124431"
      },
      "source": [
        "titanic.head()"
      ],
      "execution_count": null,
      "outputs": [
        {
          "output_type": "execute_result",
          "data": {
            "text/html": [
              "<div>\n",
              "<style scoped>\n",
              "    .dataframe tbody tr th:only-of-type {\n",
              "        vertical-align: middle;\n",
              "    }\n",
              "\n",
              "    .dataframe tbody tr th {\n",
              "        vertical-align: top;\n",
              "    }\n",
              "\n",
              "    .dataframe thead th {\n",
              "        text-align: right;\n",
              "    }\n",
              "</style>\n",
              "<table border=\"1\" class=\"dataframe\">\n",
              "  <thead>\n",
              "    <tr style=\"text-align: right;\">\n",
              "      <th></th>\n",
              "      <th>survived</th>\n",
              "      <th>pclass</th>\n",
              "      <th>sex</th>\n",
              "      <th>age</th>\n",
              "      <th>sibsp</th>\n",
              "      <th>parch</th>\n",
              "      <th>fare</th>\n",
              "      <th>embarked</th>\n",
              "      <th>class</th>\n",
              "      <th>who</th>\n",
              "      <th>adult_male</th>\n",
              "      <th>deck</th>\n",
              "      <th>embark_town</th>\n",
              "      <th>alive</th>\n",
              "      <th>alone</th>\n",
              "      <th>female</th>\n",
              "    </tr>\n",
              "  </thead>\n",
              "  <tbody>\n",
              "    <tr>\n",
              "      <th>0</th>\n",
              "      <td>0</td>\n",
              "      <td>3</td>\n",
              "      <td>male</td>\n",
              "      <td>22.0</td>\n",
              "      <td>1</td>\n",
              "      <td>0</td>\n",
              "      <td>7.2500</td>\n",
              "      <td>S</td>\n",
              "      <td>Third</td>\n",
              "      <td>man</td>\n",
              "      <td>True</td>\n",
              "      <td>NaN</td>\n",
              "      <td>Southampton</td>\n",
              "      <td>no</td>\n",
              "      <td>False</td>\n",
              "      <td>0</td>\n",
              "    </tr>\n",
              "    <tr>\n",
              "      <th>1</th>\n",
              "      <td>1</td>\n",
              "      <td>1</td>\n",
              "      <td>female</td>\n",
              "      <td>38.0</td>\n",
              "      <td>1</td>\n",
              "      <td>0</td>\n",
              "      <td>71.2833</td>\n",
              "      <td>C</td>\n",
              "      <td>First</td>\n",
              "      <td>woman</td>\n",
              "      <td>False</td>\n",
              "      <td>C</td>\n",
              "      <td>Cherbourg</td>\n",
              "      <td>yes</td>\n",
              "      <td>False</td>\n",
              "      <td>1</td>\n",
              "    </tr>\n",
              "    <tr>\n",
              "      <th>2</th>\n",
              "      <td>1</td>\n",
              "      <td>3</td>\n",
              "      <td>female</td>\n",
              "      <td>26.0</td>\n",
              "      <td>0</td>\n",
              "      <td>0</td>\n",
              "      <td>7.9250</td>\n",
              "      <td>S</td>\n",
              "      <td>Third</td>\n",
              "      <td>woman</td>\n",
              "      <td>False</td>\n",
              "      <td>NaN</td>\n",
              "      <td>Southampton</td>\n",
              "      <td>yes</td>\n",
              "      <td>True</td>\n",
              "      <td>1</td>\n",
              "    </tr>\n",
              "    <tr>\n",
              "      <th>3</th>\n",
              "      <td>1</td>\n",
              "      <td>1</td>\n",
              "      <td>female</td>\n",
              "      <td>35.0</td>\n",
              "      <td>1</td>\n",
              "      <td>0</td>\n",
              "      <td>53.1000</td>\n",
              "      <td>S</td>\n",
              "      <td>First</td>\n",
              "      <td>woman</td>\n",
              "      <td>False</td>\n",
              "      <td>C</td>\n",
              "      <td>Southampton</td>\n",
              "      <td>yes</td>\n",
              "      <td>False</td>\n",
              "      <td>1</td>\n",
              "    </tr>\n",
              "    <tr>\n",
              "      <th>4</th>\n",
              "      <td>0</td>\n",
              "      <td>3</td>\n",
              "      <td>male</td>\n",
              "      <td>35.0</td>\n",
              "      <td>0</td>\n",
              "      <td>0</td>\n",
              "      <td>8.0500</td>\n",
              "      <td>S</td>\n",
              "      <td>Third</td>\n",
              "      <td>man</td>\n",
              "      <td>True</td>\n",
              "      <td>NaN</td>\n",
              "      <td>Southampton</td>\n",
              "      <td>no</td>\n",
              "      <td>True</td>\n",
              "      <td>0</td>\n",
              "    </tr>\n",
              "  </tbody>\n",
              "</table>\n",
              "</div>"
            ],
            "text/plain": [
              "   survived  pclass     sex   age  sibsp  ...  deck  embark_town alive  alone female\n",
              "0         0       3    male  22.0      1  ...   NaN  Southampton    no  False      0\n",
              "1         1       1  female  38.0      1  ...     C    Cherbourg   yes  False      1\n",
              "2         1       3  female  26.0      0  ...   NaN  Southampton   yes   True      1\n",
              "3         1       1  female  35.0      1  ...     C  Southampton   yes  False      1\n",
              "4         0       3    male  35.0      0  ...   NaN  Southampton    no   True      0\n",
              "\n",
              "[5 rows x 16 columns]"
            ]
          },
          "metadata": {
            "tags": []
          },
          "execution_count": 8
        }
      ]
    },
    {
      "cell_type": "markdown",
      "metadata": {
        "id": "ryPL7f2EaFIj"
      },
      "source": [
        "#Correlação entre os atributos"
      ]
    },
    {
      "cell_type": "code",
      "metadata": {
        "id": "673mcOO700XH",
        "colab": {
          "base_uri": "https://localhost:8080/",
          "height": 333
        },
        "outputId": "c82c2968-2e89-4955-b735-17066e6326b2"
      },
      "source": [
        "sns.heatmap(titanic.corr(), \n",
        "            xticklabels=titanic.corr().columns.values,\n",
        "            yticklabels=titanic.corr().columns.values)"
      ],
      "execution_count": null,
      "outputs": [
        {
          "output_type": "execute_result",
          "data": {
            "text/plain": [
              "<matplotlib.axes._subplots.AxesSubplot at 0x7fdee7c40110>"
            ]
          },
          "metadata": {
            "tags": []
          },
          "execution_count": 9
        },
        {
          "output_type": "display_data",
          "data": {
            "image/png": "[encoded data removed]",
            "text/plain": [
              "<Figure size 432x288 with 2 Axes>"
            ]
          },
          "metadata": {
            "tags": [],
            "needs_background": "light"
          }
        }
      ]
    },
    {
      "cell_type": "markdown",
      "metadata": {
        "id": "4m2TraK278n3"
      },
      "source": [
        "# Scatter Plot"
      ]
    },
    {
      "cell_type": "code",
      "metadata": {
        "colab": {
          "base_uri": "https://localhost:8080/",
          "height": 542
        },
        "id": "tIzWB_Jec7_j",
        "outputId": "aa0731af-e683-4259-df81-85806799d5e7"
      },
      "source": [
        "scatterplot1 = px.scatter(titanic,x='fare',y='class')\n",
        "scatterplot1.show()"
      ],
      "execution_count": null,
      "outputs": [
        {
          "output_type": "display_data",
          "data": {
            "text/html": [
              "<html>\n",
              "<head><meta charset=\"utf-8\" /></head>\n",
              "<body>\n",
              "    <div>\n",
              "            <script src=\"https://cdnjs.cloudflare.com/ajax/libs/mathjax/2.7.5/MathJax.js?config=TeX-AMS-MML_SVG\"></script><script type=\"text/javascript\">if (window.MathJax) {MathJax.Hub.Config({SVG: {font: \"STIX-Web\"}});}</script>\n",
              "                <script type=\"text/javascript\">window.PlotlyConfig = {MathJaxConfig: 'local'};</script>\n",
              "        <script src=\"https://cdn.plot.ly/plotly-latest.min.js\"></script>    \n",
              "            <div id=\"ea749dc6-38a4-42b5-ad22-6c94269672db\" class=\"plotly-graph-div\" style=\"height:525px; width:100%;\"></div>\n",
              "            <script type=\"text/javascript\">\n",
              "                \n",
              "                    window.PLOTLYENV=window.PLOTLYENV || {};\n",
              "                    \n",
              "                if (document.getElementById(\"ea749dc6-38a4-42b5-ad22-6c94269672db\")) {\n",
              "                    Plotly.newPlot(\n",
              "                        'ea749dc6-38a4-42b5-ad22-6c94269672db',\n",
              "                        [{\"hoverlabel\": {\"namelength\": 0}, \"hovertemplate\": \"fare=%{x}<br>class=%{y}\", \"legendgroup\": \"\", \"marker\": {\"color\": \"#636efa\", \"symbol\": \"circle\"}, \"mode\": \"markers\", \"name\": \"\", \"showlegend\": false, \"type\": \"scatter\", \"x\": [7.25, 71.2833, 7.925, 53.1, 8.05, 8.4583, 51.8625, 21.075, 11.1333, 30.0708, 16.7, 26.55, 8.05, 31.275, 7.8542, 16.0, 29.125, 13.0, 18.0, 7.225, 26.0, 13.0, 8.0292, 35.5, 21.075, 31.3875, 7.225, 263.0, 7.8792, 7.8958, 27.7208, 146.5208, 7.75, 10.5, 82.1708, 52.0, 7.2292, 8.05, 18.0, 11.2417, 9.475, 21.0, 7.8958, 41.5792, 7.8792, 8.05, 15.5, 7.75, 21.6792, 17.8, 39.6875, 7.8, 76.7292, 26.0, 61.9792, 35.5, 10.5, 7.2292, 27.75, 46.9, 7.2292, 80.0, 83.475, 27.9, 27.7208, 15.2458, 10.5, 8.1583, 7.925, 8.6625, 10.5, 46.9, 73.5, 14.4542, 56.4958, 7.65, 7.8958, 8.05, 29.0, 12.475, 9.0, 9.5, 7.7875, 47.1, 10.5, 15.85, 34.375, 8.05, 263.0, 8.05, 8.05, 7.8542, 61.175, 20.575, 7.25, 8.05, 34.6542, 63.3583, 23.0, 26.0, 7.8958, 7.8958, 77.2875, 8.6542, 7.925, 7.8958, 7.65, 7.775, 7.8958, 24.15, 52.0, 14.4542, 8.05, 9.825, 14.4583, 7.925, 7.75, 21.0, 247.5208, 31.275, 73.5, 8.05, 30.0708, 13.0, 77.2875, 11.2417, 7.75, 7.1417, 22.3583, 6.975, 7.8958, 7.05, 14.5, 26.0, 13.0, 15.0458, 26.2833, 53.1, 9.2167, 79.2, 15.2458, 7.75, 15.85, 6.75, 11.5, 36.75, 7.7958, 34.375, 26.0, 13.0, 12.525, 66.6, 8.05, 14.5, 7.3125, 61.3792, 7.7333, 8.05, 8.6625, 69.55, 16.1, 15.75, 7.775, 8.6625, 39.6875, 20.525, 55.0, 27.9, 25.925, 56.4958, 33.5, 29.125, 11.1333, 7.925, 30.6958, 7.8542, 25.4667, 28.7125, 13.0, 0.0, 69.55, 15.05, 31.3875, 39.0, 22.025, 50.0, 15.5, 26.55, 15.5, 7.8958, 13.0, 13.0, 7.8542, 26.0, 27.7208, 146.5208, 7.75, 8.4042, 7.75, 13.0, 9.5, 69.55, 6.4958, 7.225, 8.05, 10.4625, 15.85, 18.7875, 7.75, 31.0, 7.05, 21.0, 7.25, 13.0, 7.75, 113.275, 7.925, 27.0, 76.2917, 10.5, 8.05, 13.0, 8.05, 7.8958, 90.0, 9.35, 10.5, 7.25, 13.0, 25.4667, 83.475, 7.775, 13.5, 31.3875, 10.5, 7.55, 26.0, 26.25, 10.5, 12.275, 14.4542, 15.5, 10.5, 7.125, 7.225, 90.0, 7.775, 14.5, 52.5542, 26.0, 7.25, 10.4625, 26.55, 16.1, 20.2125, 15.2458, 79.2, 86.5, 512.3292, 26.0, 7.75, 31.3875, 79.65, 0.0, 7.75, 10.5, 39.6875, 7.775, 153.4625, 135.6333, 31.0, 0.0, 19.5, 29.7, 7.75, 77.9583, 7.75, 0.0, 29.125, 20.25, 7.75, 7.8542, 9.5, 8.05, 26.0, 8.6625, 9.5, 7.8958, 13.0, 7.75, 78.85, 91.0792, 12.875, 8.85, 7.8958, 27.7208, 7.2292, 151.55, 30.5, 247.5208, 7.75, 23.25, 0.0, 12.35, 8.05, 151.55, 110.8833, 108.9, 24.0, 56.9292, 83.1583, 262.375, 26.0, 7.8958, 26.25, 7.8542, 26.0, 14.0, 164.8667, 134.5, 7.25, 7.8958, 12.35, 29.0, 69.55, 135.6333, 6.2375, 13.0, 20.525, 57.9792, 23.25, 28.5, 153.4625, 18.0, 133.65, 7.8958, 66.6, 134.5, 8.05, 35.5, 26.0, 263.0, 13.0, 13.0, 13.0, 13.0, 13.0, 16.1, 15.9, 8.6625, 9.225, 35.0, 7.2292, 17.8, 7.225, 9.5, 55.0, 13.0, 7.8792, 7.8792, 27.9, 27.7208, 14.4542, 7.05, 15.5, 7.25, 75.25, 7.2292, 7.75, 69.3, 55.4417, 6.4958, 8.05, 135.6333, 21.075, 82.1708, 7.25, 211.5, 4.0125, 7.775, 227.525, 15.7417, 7.925, 52.0, 7.8958, 73.5, 46.9, 13.0, 7.7292, 12.0, 120.0, 7.7958, 7.925, 113.275, 16.7, 7.7958, 7.8542, 26.0, 10.5, 12.65, 7.925, 8.05, 9.825, 15.85, 8.6625, 21.0, 7.75, 18.75, 7.775, 25.4667, 7.8958, 6.8583, 90.0, 0.0, 7.925, 8.05, 32.5, 13.0, 13.0, 24.15, 7.8958, 7.7333, 7.875, 14.4, 20.2125, 7.25, 26.0, 26.0, 7.75, 8.05, 26.55, 16.1, 26.0, 7.125, 55.9, 120.0, 34.375, 18.75, 263.0, 10.5, 26.25, 9.5, 7.775, 13.0, 8.1125, 81.8583, 19.5, 26.55, 19.2583, 30.5, 27.75, 19.9667, 27.75, 89.1042, 8.05, 7.8958, 26.55, 51.8625, 10.5, 7.75, 26.55, 8.05, 38.5, 13.0, 8.05, 7.05, 0.0, 26.55, 7.725, 19.2583, 7.25, 8.6625, 27.75, 13.7917, 9.8375, 52.0, 21.0, 7.0458, 7.5208, 12.2875, 46.9, 0.0, 8.05, 9.5875, 91.0792, 25.4667, 90.0, 29.7, 8.05, 15.9, 19.9667, 7.25, 30.5, 49.5042, 8.05, 14.4583, 78.2667, 15.1, 151.55, 7.7958, 8.6625, 7.75, 7.6292, 9.5875, 86.5, 108.9, 26.0, 26.55, 22.525, 56.4958, 7.75, 8.05, 26.2875, 59.4, 7.4958, 34.0208, 10.5, 24.15, 26.0, 7.8958, 93.5, 7.8958, 7.225, 57.9792, 7.2292, 7.75, 10.5, 221.7792, 7.925, 11.5, 26.0, 7.2292, 7.2292, 22.3583, 8.6625, 26.25, 26.55, 106.425, 14.5, 49.5, 71.0, 31.275, 31.275, 26.0, 106.425, 26.0, 26.0, 13.8625, 20.525, 36.75, 110.8833, 26.0, 7.8292, 7.225, 7.775, 26.55, 39.6, 227.525, 79.65, 17.4, 7.75, 7.8958, 13.5, 8.05, 8.05, 24.15, 7.8958, 21.075, 7.2292, 7.8542, 10.5, 51.4792, 26.3875, 7.75, 8.05, 14.5, 13.0, 55.9, 14.4583, 7.925, 30.0, 110.8833, 26.0, 40.125, 8.7125, 79.65, 15.0, 79.2, 8.05, 8.05, 7.125, 78.2667, 7.25, 7.75, 26.0, 24.15, 33.0, 0.0, 7.225, 56.9292, 27.0, 7.8958, 42.4, 8.05, 26.55, 15.55, 7.8958, 30.5, 41.5792, 153.4625, 31.275, 7.05, 15.5, 7.75, 8.05, 65.0, 14.4, 16.1, 39.0, 10.5, 14.4542, 52.5542, 15.7417, 7.8542, 16.1, 32.3208, 12.35, 77.9583, 7.8958, 7.7333, 30.0, 7.0542, 30.5, 0.0, 27.9, 13.0, 7.925, 26.25, 39.6875, 16.1, 7.8542, 69.3, 27.9, 56.4958, 19.2583, 76.7292, 7.8958, 35.5, 7.55, 7.55, 7.8958, 23.0, 8.4333, 7.8292, 6.75, 73.5, 7.8958, 15.5, 13.0, 113.275, 133.65, 7.225, 25.5875, 7.4958, 7.925, 73.5, 13.0, 7.775, 8.05, 52.0, 39.0, 52.0, 10.5, 13.0, 0.0, 7.775, 8.05, 9.8417, 46.9, 512.3292, 8.1375, 76.7292, 9.225, 46.9, 39.0, 41.5792, 39.6875, 10.1708, 7.7958, 211.3375, 57.0, 13.4167, 56.4958, 7.225, 26.55, 13.5, 8.05, 7.7333, 110.8833, 7.65, 227.525, 26.2875, 14.4542, 7.7417, 7.8542, 26.0, 13.5, 26.2875, 151.55, 15.2458, 49.5042, 26.55, 52.0, 9.4833, 13.0, 7.65, 227.525, 10.5, 15.5, 7.775, 33.0, 7.0542, 13.0, 13.0, 53.1, 8.6625, 21.0, 7.7375, 26.0, 7.925, 211.3375, 18.7875, 0.0, 13.0, 13.0, 16.1, 34.375, 512.3292, 7.8958, 7.8958, 30.0, 78.85, 262.375, 16.1, 7.925, 71.0, 20.25, 13.0, 53.1, 7.75, 23.0, 12.475, 9.5, 7.8958, 65.0, 14.5, 7.7958, 11.5, 8.05, 86.5, 14.5, 7.125, 7.2292, 120.0, 7.775, 77.9583, 39.6, 7.75, 24.15, 8.3625, 9.5, 7.8542, 10.5, 7.225, 23.0, 7.75, 7.75, 12.475, 7.7375, 211.3375, 7.2292, 57.0, 30.0, 23.45, 7.05, 7.25, 7.4958, 29.125, 20.575, 79.2, 7.75, 26.0, 69.55, 30.6958, 7.8958, 13.0, 25.9292, 8.6833, 7.2292, 24.15, 13.0, 26.25, 120.0, 8.5167, 6.975, 7.775, 0.0, 7.775, 13.0, 53.1, 7.8875, 24.15, 10.5, 31.275, 8.05, 0.0, 7.925, 37.0042, 6.45, 27.9, 93.5, 8.6625, 0.0, 12.475, 39.6875, 6.95, 56.4958, 37.0042, 7.75, 80.0, 14.4542, 18.75, 7.2292, 7.8542, 8.3, 83.1583, 8.6625, 8.05, 56.4958, 29.7, 7.925, 10.5, 31.0, 6.4375, 8.6625, 7.55, 69.55, 7.8958, 33.0, 89.1042, 31.275, 7.775, 15.2458, 39.4, 26.0, 9.35, 164.8667, 26.55, 19.2583, 7.2292, 14.1083, 11.5, 25.9292, 69.55, 13.0, 13.0, 13.8583, 50.4958, 9.5, 11.1333, 7.8958, 52.5542, 5.0, 9.0, 24.0, 7.225, 9.8458, 7.8958, 7.8958, 83.1583, 26.0, 7.8958, 10.5167, 10.5, 7.05, 29.125, 13.0, 30.0, 23.45, 30.0, 7.75], \"xaxis\": \"x\", \"y\": [\"Third\", \"First\", \"Third\", \"First\", \"Third\", \"Third\", \"First\", \"Third\", \"Third\", \"Second\", \"Third\", \"First\", \"Third\", \"Third\", \"Third\", \"Second\", \"Third\", \"Second\", \"Third\", \"Third\", \"Second\", \"Second\", \"Third\", \"First\", \"Third\", \"Third\", \"Third\", \"First\", \"Third\", \"Third\", \"First\", \"First\", \"Third\", \"Second\", \"First\", \"First\", \"Third\", \"Third\", \"Third\", \"Third\", \"Third\", \"Second\", \"Third\", \"Second\", \"Third\", \"Third\", \"Third\", \"Third\", \"Third\", \"Third\", \"Third\", \"Third\", \"First\", \"Second\", \"First\", \"First\", \"Second\", \"Third\", \"Second\", \"Third\", \"Third\", \"First\", \"First\", \"Third\", \"First\", \"Third\", \"Second\", \"Third\", \"Third\", \"Third\", \"Second\", \"Third\", \"Second\", \"Third\", \"Third\", \"Third\", \"Third\", \"Third\", \"Second\", \"Third\", \"Third\", \"Third\", \"Third\", \"First\", \"Second\", \"Third\", \"Third\", \"Third\", \"First\", \"Third\", \"Third\", \"Third\", \"First\", \"Third\", \"Third\", \"Third\", \"First\", \"First\", \"Second\", \"Second\", \"Third\", \"Third\", \"First\", \"Third\", \"Third\", \"Third\", \"Third\", \"Third\", \"Third\", \"Third\", \"First\", \"Third\", \"Third\", \"Third\", \"Third\", \"Third\", \"Third\", \"Second\", \"First\", \"Third\", \"Second\", \"Third\", \"Second\", \"Second\", \"First\", \"Third\", \"Third\", \"Third\", \"Third\", \"Third\", \"Third\", \"Third\", \"Third\", \"Second\", \"Second\", \"Second\", \"First\", \"First\", \"Third\", \"First\", \"Third\", \"Third\", \"Third\", \"Third\", \"Second\", \"Second\", \"Third\", \"Third\", \"Second\", \"Second\", \"Second\", \"First\", \"Third\", \"Third\", \"Third\", \"First\", \"Third\", \"Third\", \"Third\", \"Third\", \"Third\", \"Second\", \"Third\", \"Third\", \"Third\", \"Third\", \"First\", \"Third\", \"First\", \"Third\", \"First\", \"Third\", \"Third\", \"Third\", \"First\", \"Third\", \"Third\", \"First\", \"Second\", \"Third\", \"Third\", \"Second\", \"Third\", \"Second\", \"Third\", \"First\", \"Third\", \"First\", \"Third\", \"Third\", \"Second\", \"Second\", \"Third\", \"Second\", \"First\", \"First\", \"Third\", \"Third\", \"Third\", \"Second\", \"Third\", \"Third\", \"Third\", \"Third\", \"Third\", \"Third\", \"Third\", \"Third\", \"Third\", \"First\", \"Third\", \"Second\", \"Third\", \"Second\", \"Third\", \"First\", \"Third\", \"Second\", \"First\", \"Second\", \"Third\", \"Second\", \"Third\", \"Third\", \"First\", \"Third\", \"Second\", \"Third\", \"Second\", \"Third\", \"First\", \"Third\", \"Second\", \"Third\", \"Second\", \"Third\", \"Second\", \"Second\", \"Second\", \"Second\", \"Third\", \"Third\", \"Second\", \"Third\", \"Third\", \"First\", \"Third\", \"Second\", \"First\", \"Second\", \"Third\", \"Third\", \"First\", \"Third\", \"Third\", \"Third\", \"First\", \"First\", \"First\", \"Second\", \"Third\", \"Third\", \"First\", \"First\", \"Third\", \"Second\", \"Third\", \"Third\", \"First\", \"First\", \"First\", \"Third\", \"Second\", \"First\", \"Third\", \"First\", \"Third\", \"Second\", \"Third\", \"Third\", \"Third\", \"Third\", \"Third\", \"Third\", \"First\", \"Third\", \"Third\", \"Third\", \"Second\", \"Third\", \"First\", \"First\", \"Second\", \"Third\", \"Third\", \"First\", \"Third\", \"First\", \"First\", \"First\", \"Third\", \"Third\", \"Third\", \"Second\", \"Third\", \"First\", \"First\", \"First\", \"Second\", \"First\", \"First\", \"First\", \"Second\", \"Third\", \"Second\", \"Third\", \"Second\", \"Second\", \"First\", \"First\", \"Third\", \"Third\", \"Second\", \"Second\", \"Third\", \"First\", \"Third\", \"Second\", \"Third\", \"First\", \"Third\", \"First\", \"First\", \"Third\", \"First\", \"Third\", \"First\", \"First\", \"Third\", \"First\", \"Second\", \"First\", \"Second\", \"Second\", \"Second\", \"Second\", \"Second\", \"Third\", \"Third\", \"Third\", \"Third\", \"First\", \"Third\", \"Third\", \"Third\", \"Third\", \"First\", \"Second\", \"Third\", \"Third\", \"Third\", \"Second\", \"Third\", \"Third\", \"Third\", \"Third\", \"First\", \"Third\", \"Third\", \"First\", \"First\", \"Third\", \"Third\", \"First\", \"Third\", \"First\", \"Third\", \"First\", \"Third\", \"Third\", \"First\", \"Third\", \"Third\", \"First\", \"Third\", \"Second\", \"Third\", \"Second\", \"Third\", \"Second\", \"First\", \"Third\", \"Third\", \"First\", \"Third\", \"Third\", \"Third\", \"Second\", \"Second\", \"Second\", \"Third\", \"Third\", \"Third\", \"Third\", \"Third\", \"Second\", \"Third\", \"Second\", \"Third\", \"Third\", \"Third\", \"Third\", \"First\", \"Second\", \"Third\", \"Third\", \"Second\", \"Second\", \"Second\", \"Third\", \"Third\", \"Third\", \"Third\", \"Third\", \"Third\", \"Third\", \"Second\", \"Second\", \"Third\", \"Third\", \"First\", \"Third\", \"Second\", \"Third\", \"First\", \"First\", \"Third\", \"Second\", \"First\", \"Second\", \"Second\", \"Third\", \"Third\", \"Second\", \"Third\", \"First\", \"Second\", \"First\", \"Third\", \"First\", \"Second\", \"Third\", \"First\", \"First\", \"Third\", \"Third\", \"First\", \"First\", \"Second\", \"Third\", \"First\", \"Third\", \"First\", \"Second\", \"Third\", \"Third\", \"Second\", \"First\", \"Third\", \"Third\", \"Third\", \"Third\", \"Second\", \"Second\", \"Third\", \"First\", \"Second\", \"Third\", \"Third\", \"Third\", \"Third\", \"Second\", \"Third\", \"Third\", \"First\", \"Third\", \"First\", \"First\", \"Third\", \"Third\", \"Third\", \"Third\", \"First\", \"First\", \"Third\", \"Third\", \"First\", \"Third\", \"First\", \"Third\", \"Third\", \"Third\", \"Third\", \"Third\", \"First\", \"First\", \"Second\", \"First\", \"Third\", \"Third\", \"Third\", \"Third\", \"First\", \"First\", \"Third\", \"First\", \"Second\", \"Third\", \"Second\", \"Third\", \"First\", \"Third\", \"Third\", \"First\", \"Third\", \"Third\", \"Second\", \"First\", \"Third\", \"Second\", \"Second\", \"Third\", \"Third\", \"Third\", \"Third\", \"Second\", \"First\", \"First\", \"Third\", \"First\", \"First\", \"Third\", \"Third\", \"Second\", \"First\", \"First\", \"Second\", \"Second\", \"Third\", \"Second\", \"First\", \"Second\", \"Third\", \"Third\", \"Third\", \"First\", \"First\", \"First\", \"First\", \"Third\", \"Third\", \"Third\", \"Second\", \"Third\", \"Third\", \"Third\", \"Third\", \"Third\", \"Third\", \"Third\", \"Second\", \"First\", \"First\", \"Third\", \"Third\", \"Third\", \"Second\", \"First\", \"Third\", \"Third\", \"Second\", \"First\", \"Second\", \"First\", \"Third\", \"First\", \"Second\", \"First\", \"Third\", \"Third\", \"Third\", \"First\", \"Third\", \"Third\", \"Second\", \"Third\", \"Second\", \"Third\", \"Third\", \"First\", \"Second\", \"Third\", \"First\", \"Third\", \"First\", \"Third\", \"Third\", \"First\", \"Second\", \"First\", \"Third\", \"Third\", \"Third\", \"Third\", \"Third\", \"Second\", \"Third\", \"Third\", \"Second\", \"Second\", \"Third\", \"First\", \"Third\", \"Third\", \"Third\", \"First\", \"Second\", \"First\", \"Third\", \"Third\", \"First\", \"Third\", \"First\", \"First\", \"Third\", \"Second\", \"Third\", \"Second\", \"Third\", \"Third\", \"Third\", \"First\", \"Third\", \"Third\", \"Third\", \"First\", \"Third\", \"First\", \"Third\", \"Third\", \"Third\", \"Second\", \"Third\", \"Third\", \"Third\", \"Second\", \"Third\", \"Third\", \"Second\", \"First\", \"First\", \"Third\", \"First\", \"Third\", \"Third\", \"Second\", \"Second\", \"Third\", \"Third\", \"First\", \"Second\", \"First\", \"Second\", \"Second\", \"Second\", \"Third\", \"Third\", \"Third\", \"Third\", \"First\", \"Third\", \"First\", \"Third\", \"Third\", \"Second\", \"Second\", \"Third\", \"Third\", \"Third\", \"First\", \"First\", \"Third\", \"Third\", \"Third\", \"First\", \"Second\", \"Third\", \"Third\", \"First\", \"Third\", \"First\", \"First\", \"Third\", \"Third\", \"Third\", \"Second\", \"Second\", \"First\", \"First\", \"Third\", \"First\", \"First\", \"First\", \"Third\", \"Second\", \"Third\", \"First\", \"Second\", \"Third\", \"Third\", \"Second\", \"Third\", \"Second\", \"Second\", \"First\", \"Third\", \"Second\", \"Third\", \"Second\", \"Third\", \"First\", \"Third\", \"Second\", \"Second\", \"Second\", \"Third\", \"Third\", \"First\", \"Third\", \"Third\", \"First\", \"First\", \"First\", \"Third\", \"Third\", \"First\", \"Third\", \"Second\", \"First\", \"Third\", \"Second\", \"Third\", \"Third\", \"Third\", \"Second\", \"Second\", \"Third\", \"Second\", \"Third\", \"First\", \"Third\", \"Third\", \"Third\", \"First\", \"Third\", \"First\", \"First\", \"Third\", \"Third\", \"Third\", \"Third\", \"Third\", \"Second\", \"Third\", \"Second\", \"Third\", \"Third\", \"Third\", \"Third\", \"First\", \"Third\", \"First\", \"First\", \"Third\", \"Third\", \"Third\", \"Third\", \"Third\", \"Third\", \"First\", \"Third\", \"Second\", \"Third\", \"First\", \"Third\", \"Second\", \"First\", \"Third\", \"Third\", \"Third\", \"Second\", \"Second\", \"First\", \"Third\", \"Third\", \"Third\", \"First\", \"Third\", \"Second\", \"First\", \"Third\", \"Third\", \"Second\", \"Third\", \"Third\", \"First\", \"Third\", \"Second\", \"Third\", \"Third\", \"First\", \"Third\", \"First\", \"Third\", \"Third\", \"Third\", \"Third\", \"Second\", \"Third\", \"First\", \"Third\", \"Second\", \"Third\", \"Third\", \"Third\", \"First\", \"Third\", \"Third\", \"Third\", \"First\", \"Third\", \"Second\", \"First\", \"Third\", \"Third\", \"Third\", \"Third\", \"Third\", \"Second\", \"First\", \"Third\", \"Third\", \"Third\", \"First\", \"Second\", \"Third\", \"First\", \"First\", \"Third\", \"Third\", \"Third\", \"Second\", \"First\", \"Third\", \"Second\", \"Second\", \"Second\", \"First\", \"Third\", \"Third\", \"Third\", \"First\", \"First\", \"Third\", \"Second\", \"Third\", \"Third\", \"Third\", \"Third\", \"First\", \"Second\", \"Third\", \"Third\", \"Second\", \"Third\", \"Third\", \"Second\", \"First\", \"Third\", \"First\", \"Third\"], \"yaxis\": \"y\"}],\n",
              "                        {\"legend\": {\"tracegroupgap\": 0}, \"margin\": {\"t\": 60}, \"template\": {\"data\": {\"bar\": [{\"error_x\": {\"color\": \"#2a3f5f\"}, \"error_y\": {\"color\": \"#2a3f5f\"}, \"marker\": {\"line\": {\"color\": \"#E5ECF6\", \"width\": 0.5}}, \"type\": \"bar\"}], \"barpolar\": [{\"marker\": {\"line\": {\"color\": \"#E5ECF6\", \"width\": 0.5}}, \"type\": \"barpolar\"}], \"carpet\": [{\"aaxis\": {\"endlinecolor\": \"#2a3f5f\", \"gridcolor\": \"white\", \"linecolor\": \"white\", \"minorgridcolor\": \"white\", \"startlinecolor\": \"#2a3f5f\"}, \"baxis\": {\"endlinecolor\": \"#2a3f5f\", \"gridcolor\": \"white\", \"linecolor\": \"white\", \"minorgridcolor\": \"white\", \"startlinecolor\": \"#2a3f5f\"}, \"type\": \"carpet\"}], \"choropleth\": [{\"colorbar\": {\"outlinewidth\": 0, \"ticks\": \"\"}, \"type\": \"choropleth\"}], \"contour\": [{\"colorbar\": {\"outlinewidth\": 0, \"ticks\": \"\"}, \"colorscale\": [[0.0, \"#0d0887\"], [0.1111111111111111, \"#46039f\"], [0.2222222222222222, \"#7201a8\"], [0.3333333333333333, \"#9c179e\"], [0.4444444444444444, \"#bd3786\"], [0.5555555555555556, \"#d8576b\"], [0.6666666666666666, \"#ed7953\"], [0.7777777777777778, \"#fb9f3a\"], [0.8888888888888888, \"#fdca26\"], [1.0, \"#f0f921\"]], \"type\": \"contour\"}], \"contourcarpet\": [{\"colorbar\": {\"outlinewidth\": 0, \"ticks\": \"\"}, \"type\": \"contourcarpet\"}], \"heatmap\": [{\"colorbar\": {\"outlinewidth\": 0, \"ticks\": \"\"}, \"colorscale\": [[0.0, \"#0d0887\"], [0.1111111111111111, \"#46039f\"], [0.2222222222222222, \"#7201a8\"], [0.3333333333333333, \"#9c179e\"], [0.4444444444444444, \"#bd3786\"], [0.5555555555555556, \"#d8576b\"], [0.6666666666666666, \"#ed7953\"], [0.7777777777777778, \"#fb9f3a\"], [0.8888888888888888, \"#fdca26\"], [1.0, \"#f0f921\"]], \"type\": \"heatmap\"}], \"heatmapgl\": [{\"colorbar\": {\"outlinewidth\": 0, \"ticks\": \"\"}, \"colorscale\": [[0.0, \"#0d0887\"], [0.1111111111111111, \"#46039f\"], [0.2222222222222222, \"#7201a8\"], [0.3333333333333333, \"#9c179e\"], [0.4444444444444444, \"#bd3786\"], [0.5555555555555556, \"#d8576b\"], [0.6666666666666666, \"#ed7953\"], [0.7777777777777778, \"#fb9f3a\"], [0.8888888888888888, \"#fdca26\"], [1.0, \"#f0f921\"]], \"type\": \"heatmapgl\"}], \"histogram\": [{\"marker\": {\"colorbar\": {\"outlinewidth\": 0, \"ticks\": \"\"}}, \"type\": \"histogram\"}], \"histogram2d\": [{\"colorbar\": {\"outlinewidth\": 0, \"ticks\": \"\"}, \"colorscale\": [[0.0, \"#0d0887\"], [0.1111111111111111, \"#46039f\"], [0.2222222222222222, \"#7201a8\"], [0.3333333333333333, \"#9c179e\"], [0.4444444444444444, \"#bd3786\"], [0.5555555555555556, \"#d8576b\"], [0.6666666666666666, \"#ed7953\"], [0.7777777777777778, \"#fb9f3a\"], [0.8888888888888888, \"#fdca26\"], [1.0, \"#f0f921\"]], \"type\": \"histogram2d\"}], \"histogram2dcontour\": [{\"colorbar\": {\"outlinewidth\": 0, \"ticks\": \"\"}, \"colorscale\": [[0.0, \"#0d0887\"], [0.1111111111111111, \"#46039f\"], [0.2222222222222222, \"#7201a8\"], [0.3333333333333333, \"#9c179e\"], [0.4444444444444444, \"#bd3786\"], [0.5555555555555556, \"#d8576b\"], [0.6666666666666666, \"#ed7953\"], [0.7777777777777778, \"#fb9f3a\"], [0.8888888888888888, \"#fdca26\"], [1.0, \"#f0f921\"]], \"type\": \"histogram2dcontour\"}], \"mesh3d\": [{\"colorbar\": {\"outlinewidth\": 0, \"ticks\": \"\"}, \"type\": \"mesh3d\"}], \"parcoords\": [{\"line\": {\"colorbar\": {\"outlinewidth\": 0, \"ticks\": \"\"}}, \"type\": \"parcoords\"}], \"pie\": [{\"automargin\": true, \"type\": \"pie\"}], \"scatter\": [{\"marker\": {\"colorbar\": {\"outlinewidth\": 0, \"ticks\": \"\"}}, \"type\": \"scatter\"}], \"scatter3d\": [{\"line\": {\"colorbar\": {\"outlinewidth\": 0, \"ticks\": \"\"}}, \"marker\": {\"colorbar\": {\"outlinewidth\": 0, \"ticks\": \"\"}}, \"type\": \"scatter3d\"}], \"scattercarpet\": [{\"marker\": {\"colorbar\": {\"outlinewidth\": 0, \"ticks\": \"\"}}, \"type\": \"scattercarpet\"}], \"scattergeo\": [{\"marker\": {\"colorbar\": {\"outlinewidth\": 0, \"ticks\": \"\"}}, \"type\": \"scattergeo\"}], \"scattergl\": [{\"marker\": {\"colorbar\": {\"outlinewidth\": 0, \"ticks\": \"\"}}, \"type\": \"scattergl\"}], \"scattermapbox\": [{\"marker\": {\"colorbar\": {\"outlinewidth\": 0, \"ticks\": \"\"}}, \"type\": \"scattermapbox\"}], \"scatterpolar\": [{\"marker\": {\"colorbar\": {\"outlinewidth\": 0, \"ticks\": \"\"}}, \"type\": \"scatterpolar\"}], \"scatterpolargl\": [{\"marker\": {\"colorbar\": {\"outlinewidth\": 0, \"ticks\": \"\"}}, \"type\": \"scatterpolargl\"}], \"scatterternary\": [{\"marker\": {\"colorbar\": {\"outlinewidth\": 0, \"ticks\": \"\"}}, \"type\": \"scatterternary\"}], \"surface\": [{\"colorbar\": {\"outlinewidth\": 0, \"ticks\": \"\"}, \"colorscale\": [[0.0, \"#0d0887\"], [0.1111111111111111, \"#46039f\"], [0.2222222222222222, \"#7201a8\"], [0.3333333333333333, \"#9c179e\"], [0.4444444444444444, \"#bd3786\"], [0.5555555555555556, \"#d8576b\"], [0.6666666666666666, \"#ed7953\"], [0.7777777777777778, \"#fb9f3a\"], [0.8888888888888888, \"#fdca26\"], [1.0, \"#f0f921\"]], \"type\": \"surface\"}], \"table\": [{\"cells\": {\"fill\": {\"color\": \"#EBF0F8\"}, \"line\": {\"color\": \"white\"}}, \"header\": {\"fill\": {\"color\": \"#C8D4E3\"}, \"line\": {\"color\": \"white\"}}, \"type\": \"table\"}]}, \"layout\": {\"annotationdefaults\": {\"arrowcolor\": \"#2a3f5f\", \"arrowhead\": 0, \"arrowwidth\": 1}, \"coloraxis\": {\"colorbar\": {\"outlinewidth\": 0, \"ticks\": \"\"}}, \"colorscale\": {\"diverging\": [[0, \"#8e0152\"], [0.1, \"#c51b7d\"], [0.2, \"#de77ae\"], [0.3, \"#f1b6da\"], [0.4, \"#fde0ef\"], [0.5, \"#f7f7f7\"], [0.6, \"#e6f5d0\"], [0.7, \"#b8e186\"], [0.8, \"#7fbc41\"], [0.9, \"#4d9221\"], [1, \"#276419\"]], \"sequential\": [[0.0, \"#0d0887\"], [0.1111111111111111, \"#46039f\"], [0.2222222222222222, \"#7201a8\"], [0.3333333333333333, \"#9c179e\"], [0.4444444444444444, \"#bd3786\"], [0.5555555555555556, \"#d8576b\"], [0.6666666666666666, \"#ed7953\"], [0.7777777777777778, \"#fb9f3a\"], [0.8888888888888888, \"#fdca26\"], [1.0, \"#f0f921\"]], \"sequentialminus\": [[0.0, \"#0d0887\"], [0.1111111111111111, \"#46039f\"], [0.2222222222222222, \"#7201a8\"], [0.3333333333333333, \"#9c179e\"], [0.4444444444444444, \"#bd3786\"], [0.5555555555555556, \"#d8576b\"], [0.6666666666666666, \"#ed7953\"], [0.7777777777777778, \"#fb9f3a\"], [0.8888888888888888, \"#fdca26\"], [1.0, \"#f0f921\"]]}, \"colorway\": [\"#636efa\", \"#EF553B\", \"#00cc96\", \"#ab63fa\", \"#FFA15A\", \"#19d3f3\", \"#FF6692\", \"#B6E880\", \"#FF97FF\", \"#FECB52\"], \"font\": {\"color\": \"#2a3f5f\"}, \"geo\": {\"bgcolor\": \"white\", \"lakecolor\": \"white\", \"landcolor\": \"#E5ECF6\", \"showlakes\": true, \"showland\": true, \"subunitcolor\": \"white\"}, \"hoverlabel\": {\"align\": \"left\"}, \"hovermode\": \"closest\", \"mapbox\": {\"style\": \"light\"}, \"paper_bgcolor\": \"white\", \"plot_bgcolor\": \"#E5ECF6\", \"polar\": {\"angularaxis\": {\"gridcolor\": \"white\", \"linecolor\": \"white\", \"ticks\": \"\"}, \"bgcolor\": \"#E5ECF6\", \"radialaxis\": {\"gridcolor\": \"white\", \"linecolor\": \"white\", \"ticks\": \"\"}}, \"scene\": {\"xaxis\": {\"backgroundcolor\": \"#E5ECF6\", \"gridcolor\": \"white\", \"gridwidth\": 2, \"linecolor\": \"white\", \"showbackground\": true, \"ticks\": \"\", \"zerolinecolor\": \"white\"}, \"yaxis\": {\"backgroundcolor\": \"#E5ECF6\", \"gridcolor\": \"white\", \"gridwidth\": 2, \"linecolor\": \"white\", \"showbackground\": true, \"ticks\": \"\", \"zerolinecolor\": \"white\"}, \"zaxis\": {\"backgroundcolor\": \"#E5ECF6\", \"gridcolor\": \"white\", \"gridwidth\": 2, \"linecolor\": \"white\", \"showbackground\": true, \"ticks\": \"\", \"zerolinecolor\": \"white\"}}, \"shapedefaults\": {\"line\": {\"color\": \"#2a3f5f\"}}, \"ternary\": {\"aaxis\": {\"gridcolor\": \"white\", \"linecolor\": \"white\", \"ticks\": \"\"}, \"baxis\": {\"gridcolor\": \"white\", \"linecolor\": \"white\", \"ticks\": \"\"}, \"bgcolor\": \"#E5ECF6\", \"caxis\": {\"gridcolor\": \"white\", \"linecolor\": \"white\", \"ticks\": \"\"}}, \"title\": {\"x\": 0.05}, \"xaxis\": {\"automargin\": true, \"gridcolor\": \"white\", \"linecolor\": \"white\", \"ticks\": \"\", \"title\": {\"standoff\": 15}, \"zerolinecolor\": \"white\", \"zerolinewidth\": 2}, \"yaxis\": {\"automargin\": true, \"gridcolor\": \"white\", \"linecolor\": \"white\", \"ticks\": \"\", \"title\": {\"standoff\": 15}, \"zerolinecolor\": \"white\", \"zerolinewidth\": 2}}}, \"xaxis\": {\"anchor\": \"y\", \"domain\": [0.0, 1.0], \"title\": {\"text\": \"fare\"}}, \"yaxis\": {\"anchor\": \"x\", \"domain\": [0.0, 1.0], \"title\": {\"text\": \"class\"}}},\n",
              "                        {\"responsive\": true}\n",
              "                    ).then(function(){\n",
              "                            \n",
              "var gd = document.getElementById('ea749dc6-38a4-42b5-ad22-6c94269672db');\n",
              "var x = new MutationObserver(function (mutations, observer) {{\n",
              "        var display = window.getComputedStyle(gd).display;\n",
              "        if (!display || display === 'none') {{\n",
              "            console.log([gd, 'removed!']);\n",
              "            Plotly.purge(gd);\n",
              "            observer.disconnect();\n",
              "        }}\n",
              "}});\n",
              "\n",
              "// Listen for the removal of the full notebook cells\n",
              "var notebookContainer = gd.closest('#notebook-container');\n",
              "if (notebookContainer) {{\n",
              "    x.observe(notebookContainer, {childList: true});\n",
              "}}\n",
              "\n",
              "// Listen for the clearing of the current output cell\n",
              "var outputEl = gd.closest('.output');\n",
              "if (outputEl) {{\n",
              "    x.observe(outputEl, {childList: true});\n",
              "}}\n",
              "\n",
              "                        })\n",
              "                };\n",
              "                \n",
              "            </script>\n",
              "        </div>\n",
              "</body>\n",
              "</html>"
            ]
          },
          "metadata": {
            "tags": []
          }
        }
      ]
    },
    {
      "cell_type": "markdown",
      "metadata": {
        "id": "5p5a_tvi8IlA"
      },
      "source": [
        "#Matrix de Correlação"
      ]
    },
    {
      "cell_type": "code",
      "metadata": {
        "colab": {
          "base_uri": "https://localhost:8080/",
          "height": 276
        },
        "id": "-tXEVnXEjfMh",
        "outputId": "da47f75f-61d9-474f-a05a-c8f75bef944b"
      },
      "source": [
        "# Correlation matrix\n",
        "plt.matshow(titanic.corr())\n",
        "continuous_features = titanic.describe().columns\n",
        "plt.xticks(range(len(continuous_features)), continuous_features, rotation='45')\n",
        "plt.yticks(range(len(continuous_features)), continuous_features, rotation='45')\n",
        "plt.colorbar()\n",
        "plt.show()"
      ],
      "execution_count": null,
      "outputs": [
        {
          "output_type": "display_data",
          "data": {
            "image/png": "[encoded data removed]",
            "text/plain": [
              "<Figure size 288x288 with 2 Axes>"
            ]
          },
          "metadata": {
            "tags": [],
            "needs_background": "light"
          }
        }
      ]
    },
    {
      "cell_type": "markdown",
      "metadata": {
        "id": "21eF3MHxcUEG"
      },
      "source": [
        "#Selecionando uns atibutos"
      ]
    },
    {
      "cell_type": "code",
      "metadata": {
        "colab": {
          "base_uri": "https://localhost:8080/"
        },
        "id": "fSESfdsucSck",
        "outputId": "2fcf39bb-afe9-49c1-ee3f-251c25224352"
      },
      "source": [
        "feature_names = ['pclass', 'female', 'age', 'fare']\n",
        "\n",
        "feature_names "
      ],
      "execution_count": null,
      "outputs": [
        {
          "output_type": "execute_result",
          "data": {
            "text/plain": [
              "['pclass', 'female', 'age', 'fare']"
            ]
          },
          "metadata": {
            "tags": []
          },
          "execution_count": 8
        }
      ]
    },
    {
      "cell_type": "code",
      "metadata": {
        "id": "B1K8tSk7BCVS"
      },
      "source": [
        "X = titanic[feature_names].to_numpy()\n",
        "titanic[feature_names]"
      ],
      "execution_count": null,
      "outputs": []
    },
    {
      "cell_type": "code",
      "metadata": {
        "id": "SAveHFE806pJ"
      },
      "source": [
        "titanic.dropna(subset=feature_names, inplace=True)  #891 para 714\n",
        "titanic[feature_names]"
      ],
      "execution_count": null,
      "outputs": []
    },
    {
      "cell_type": "code",
      "metadata": {
        "id": "Oi1VmkDeBDy8"
      },
      "source": [
        "y = titanic['survived'].to_numpy()"
      ],
      "execution_count": null,
      "outputs": []
    },
    {
      "cell_type": "markdown",
      "metadata": {
        "id": "2AieZZcL8aWo"
      },
      "source": [
        "# histograma da feature"
      ]
    },
    {
      "cell_type": "code",
      "metadata": {
        "colab": {
          "base_uri": "https://localhost:8080/",
          "height": 283
        },
        "id": "uvM3ZvTFj4Qe",
        "outputId": "a705e6ed-dca0-48e0-8173-37de9b7a8da1"
      },
      "source": [
        "titanic['age'].hist()"
      ],
      "execution_count": null,
      "outputs": [
        {
          "output_type": "execute_result",
          "data": {
            "text/plain": [
              "<matplotlib.axes._subplots.AxesSubplot at 0x7fdee53337d0>"
            ]
          },
          "metadata": {
            "tags": []
          },
          "execution_count": 14
        },
        {
          "output_type": "display_data",
          "data": {
            "image/png": "[encoded data removed]",
            "text/plain": [
              "<Figure size 432x288 with 1 Axes>"
            ]
          },
          "metadata": {
            "tags": [],
            "needs_background": "light"
          }
        }
      ]
    },
    {
      "cell_type": "markdown",
      "metadata": {
        "id": "hmcaHd0f8fbQ"
      },
      "source": [
        "#Transformando os dados"
      ]
    },
    {
      "cell_type": "code",
      "metadata": {
        "colab": {
          "base_uri": "https://localhost:8080/"
        },
        "id": "7sSOv-PWj_Ki",
        "outputId": "a19d5387-7f4d-4005-dfdb-cb09668faf88"
      },
      "source": [
        "# Unique values\n",
        "titanic['embarked'].unique()"
      ],
      "execution_count": null,
      "outputs": [
        {
          "output_type": "execute_result",
          "data": {
            "text/plain": [
              "array(['S', 'C', 'Q', nan], dtype=object)"
            ]
          },
          "metadata": {
            "tags": []
          },
          "execution_count": 15
        }
      ]
    },
    {
      "cell_type": "code",
      "metadata": {
        "id": "cCPTY7CykMfo",
        "colab": {
          "base_uri": "https://localhost:8080/",
          "height": 143
        },
        "outputId": "123d2df0-3a1a-41b1-c96f-89acdc68cf93"
      },
      "source": [
        "# Grouping\n",
        "survived_group = titanic.groupby('survived')\n",
        "survived_group.mean()"
      ],
      "execution_count": null,
      "outputs": [
        {
          "output_type": "execute_result",
          "data": {
            "text/html": [
              "<div>\n",
              "<style scoped>\n",
              "    .dataframe tbody tr th:only-of-type {\n",
              "        vertical-align: middle;\n",
              "    }\n",
              "\n",
              "    .dataframe tbody tr th {\n",
              "        vertical-align: top;\n",
              "    }\n",
              "\n",
              "    .dataframe thead th {\n",
              "        text-align: right;\n",
              "    }\n",
              "</style>\n",
              "<table border=\"1\" class=\"dataframe\">\n",
              "  <thead>\n",
              "    <tr style=\"text-align: right;\">\n",
              "      <th></th>\n",
              "      <th>pclass</th>\n",
              "      <th>age</th>\n",
              "      <th>sibsp</th>\n",
              "      <th>parch</th>\n",
              "      <th>fare</th>\n",
              "      <th>adult_male</th>\n",
              "      <th>alone</th>\n",
              "      <th>female</th>\n",
              "    </tr>\n",
              "    <tr>\n",
              "      <th>survived</th>\n",
              "      <th></th>\n",
              "      <th></th>\n",
              "      <th></th>\n",
              "      <th></th>\n",
              "      <th></th>\n",
              "      <th></th>\n",
              "      <th></th>\n",
              "      <th></th>\n",
              "    </tr>\n",
              "  </thead>\n",
              "  <tbody>\n",
              "    <tr>\n",
              "      <th>0</th>\n",
              "      <td>2.531876</td>\n",
              "      <td>30.626179</td>\n",
              "      <td>0.553734</td>\n",
              "      <td>0.329690</td>\n",
              "      <td>22.117887</td>\n",
              "      <td>0.817851</td>\n",
              "      <td>0.681239</td>\n",
              "      <td>0.147541</td>\n",
              "    </tr>\n",
              "    <tr>\n",
              "      <th>1</th>\n",
              "      <td>1.950292</td>\n",
              "      <td>28.343690</td>\n",
              "      <td>0.473684</td>\n",
              "      <td>0.464912</td>\n",
              "      <td>48.395408</td>\n",
              "      <td>0.257310</td>\n",
              "      <td>0.476608</td>\n",
              "      <td>0.681287</td>\n",
              "    </tr>\n",
              "  </tbody>\n",
              "</table>\n",
              "</div>"
            ],
            "text/plain": [
              "            pclass        age     sibsp  ...  adult_male     alone    female\n",
              "survived                                 ...                                \n",
              "0         2.531876  30.626179  0.553734  ...    0.817851  0.681239  0.147541\n",
              "1         1.950292  28.343690  0.473684  ...    0.257310  0.476608  0.681287\n",
              "\n",
              "[2 rows x 8 columns]"
            ]
          },
          "metadata": {
            "tags": []
          },
          "execution_count": 16
        }
      ]
    },
    {
      "cell_type": "code",
      "metadata": {
        "id": "hwK93LhRkeGX",
        "colab": {
          "base_uri": "https://localhost:8080/",
          "height": 206
        },
        "outputId": "224a7798-4a4b-497e-b0a6-2f40c9daf465"
      },
      "source": [
        "# Rows with at least one NaN value\n",
        "titanic[pd.isnull(titanic).any(axis=1)].head()"
      ],
      "execution_count": null,
      "outputs": [
        {
          "output_type": "execute_result",
          "data": {
            "text/html": [
              "<div>\n",
              "<style scoped>\n",
              "    .dataframe tbody tr th:only-of-type {\n",
              "        vertical-align: middle;\n",
              "    }\n",
              "\n",
              "    .dataframe tbody tr th {\n",
              "        vertical-align: top;\n",
              "    }\n",
              "\n",
              "    .dataframe thead th {\n",
              "        text-align: right;\n",
              "    }\n",
              "</style>\n",
              "<table border=\"1\" class=\"dataframe\">\n",
              "  <thead>\n",
              "    <tr style=\"text-align: right;\">\n",
              "      <th></th>\n",
              "      <th>survived</th>\n",
              "      <th>pclass</th>\n",
              "      <th>sex</th>\n",
              "      <th>age</th>\n",
              "      <th>sibsp</th>\n",
              "      <th>parch</th>\n",
              "      <th>fare</th>\n",
              "      <th>embarked</th>\n",
              "      <th>class</th>\n",
              "      <th>who</th>\n",
              "      <th>adult_male</th>\n",
              "      <th>deck</th>\n",
              "      <th>embark_town</th>\n",
              "      <th>alive</th>\n",
              "      <th>alone</th>\n",
              "      <th>female</th>\n",
              "    </tr>\n",
              "  </thead>\n",
              "  <tbody>\n",
              "    <tr>\n",
              "      <th>0</th>\n",
              "      <td>0</td>\n",
              "      <td>3</td>\n",
              "      <td>male</td>\n",
              "      <td>22.0</td>\n",
              "      <td>1</td>\n",
              "      <td>0</td>\n",
              "      <td>7.2500</td>\n",
              "      <td>S</td>\n",
              "      <td>Third</td>\n",
              "      <td>man</td>\n",
              "      <td>True</td>\n",
              "      <td>NaN</td>\n",
              "      <td>Southampton</td>\n",
              "      <td>no</td>\n",
              "      <td>False</td>\n",
              "      <td>0</td>\n",
              "    </tr>\n",
              "    <tr>\n",
              "      <th>2</th>\n",
              "      <td>1</td>\n",
              "      <td>3</td>\n",
              "      <td>female</td>\n",
              "      <td>26.0</td>\n",
              "      <td>0</td>\n",
              "      <td>0</td>\n",
              "      <td>7.9250</td>\n",
              "      <td>S</td>\n",
              "      <td>Third</td>\n",
              "      <td>woman</td>\n",
              "      <td>False</td>\n",
              "      <td>NaN</td>\n",
              "      <td>Southampton</td>\n",
              "      <td>yes</td>\n",
              "      <td>True</td>\n",
              "      <td>1</td>\n",
              "    </tr>\n",
              "    <tr>\n",
              "      <th>4</th>\n",
              "      <td>0</td>\n",
              "      <td>3</td>\n",
              "      <td>male</td>\n",
              "      <td>35.0</td>\n",
              "      <td>0</td>\n",
              "      <td>0</td>\n",
              "      <td>8.0500</td>\n",
              "      <td>S</td>\n",
              "      <td>Third</td>\n",
              "      <td>man</td>\n",
              "      <td>True</td>\n",
              "      <td>NaN</td>\n",
              "      <td>Southampton</td>\n",
              "      <td>no</td>\n",
              "      <td>True</td>\n",
              "      <td>0</td>\n",
              "    </tr>\n",
              "    <tr>\n",
              "      <th>5</th>\n",
              "      <td>0</td>\n",
              "      <td>3</td>\n",
              "      <td>male</td>\n",
              "      <td>NaN</td>\n",
              "      <td>0</td>\n",
              "      <td>0</td>\n",
              "      <td>8.4583</td>\n",
              "      <td>Q</td>\n",
              "      <td>Third</td>\n",
              "      <td>man</td>\n",
              "      <td>True</td>\n",
              "      <td>NaN</td>\n",
              "      <td>Queenstown</td>\n",
              "      <td>no</td>\n",
              "      <td>True</td>\n",
              "      <td>0</td>\n",
              "    </tr>\n",
              "    <tr>\n",
              "      <th>7</th>\n",
              "      <td>0</td>\n",
              "      <td>3</td>\n",
              "      <td>male</td>\n",
              "      <td>2.0</td>\n",
              "      <td>3</td>\n",
              "      <td>1</td>\n",
              "      <td>21.0750</td>\n",
              "      <td>S</td>\n",
              "      <td>Third</td>\n",
              "      <td>child</td>\n",
              "      <td>False</td>\n",
              "      <td>NaN</td>\n",
              "      <td>Southampton</td>\n",
              "      <td>no</td>\n",
              "      <td>False</td>\n",
              "      <td>0</td>\n",
              "    </tr>\n",
              "  </tbody>\n",
              "</table>\n",
              "</div>"
            ],
            "text/plain": [
              "   survived  pclass     sex   age  sibsp  ...  deck  embark_town alive  alone female\n",
              "0         0       3    male  22.0      1  ...   NaN  Southampton    no  False      0\n",
              "2         1       3  female  26.0      0  ...   NaN  Southampton   yes   True      1\n",
              "4         0       3    male  35.0      0  ...   NaN  Southampton    no   True      0\n",
              "5         0       3    male   NaN      0  ...   NaN   Queenstown    no   True      0\n",
              "7         0       3    male   2.0      3  ...   NaN  Southampton    no  False      0\n",
              "\n",
              "[5 rows x 16 columns]"
            ]
          },
          "metadata": {
            "tags": []
          },
          "execution_count": 17
        }
      ]
    },
    {
      "cell_type": "code",
      "metadata": {
        "colab": {
          "base_uri": "https://localhost:8080/",
          "height": 206
        },
        "id": "am3UQdMtkmgB",
        "outputId": "b18dccdb-0de7-4a1c-a767-c6c810aaba6a"
      },
      "source": [
        "# Drop rows with Nan values\n",
        "titanic = titanic.dropna() # removes rows with any NaN values\n",
        "#titanic = titanic.reset_index() # reset's row indexes in case any rows were dropped\n",
        "titanic.head()"
      ],
      "execution_count": null,
      "outputs": [
        {
          "output_type": "execute_result",
          "data": {
            "text/html": [
              "<div>\n",
              "<style scoped>\n",
              "    .dataframe tbody tr th:only-of-type {\n",
              "        vertical-align: middle;\n",
              "    }\n",
              "\n",
              "    .dataframe tbody tr th {\n",
              "        vertical-align: top;\n",
              "    }\n",
              "\n",
              "    .dataframe thead th {\n",
              "        text-align: right;\n",
              "    }\n",
              "</style>\n",
              "<table border=\"1\" class=\"dataframe\">\n",
              "  <thead>\n",
              "    <tr style=\"text-align: right;\">\n",
              "      <th></th>\n",
              "      <th>survived</th>\n",
              "      <th>pclass</th>\n",
              "      <th>sex</th>\n",
              "      <th>age</th>\n",
              "      <th>sibsp</th>\n",
              "      <th>parch</th>\n",
              "      <th>fare</th>\n",
              "      <th>embarked</th>\n",
              "      <th>class</th>\n",
              "      <th>who</th>\n",
              "      <th>adult_male</th>\n",
              "      <th>deck</th>\n",
              "      <th>embark_town</th>\n",
              "      <th>alive</th>\n",
              "      <th>alone</th>\n",
              "      <th>female</th>\n",
              "    </tr>\n",
              "  </thead>\n",
              "  <tbody>\n",
              "    <tr>\n",
              "      <th>1</th>\n",
              "      <td>1</td>\n",
              "      <td>1</td>\n",
              "      <td>female</td>\n",
              "      <td>38.0</td>\n",
              "      <td>1</td>\n",
              "      <td>0</td>\n",
              "      <td>71.2833</td>\n",
              "      <td>C</td>\n",
              "      <td>First</td>\n",
              "      <td>woman</td>\n",
              "      <td>False</td>\n",
              "      <td>C</td>\n",
              "      <td>Cherbourg</td>\n",
              "      <td>yes</td>\n",
              "      <td>False</td>\n",
              "      <td>1</td>\n",
              "    </tr>\n",
              "    <tr>\n",
              "      <th>3</th>\n",
              "      <td>1</td>\n",
              "      <td>1</td>\n",
              "      <td>female</td>\n",
              "      <td>35.0</td>\n",
              "      <td>1</td>\n",
              "      <td>0</td>\n",
              "      <td>53.1000</td>\n",
              "      <td>S</td>\n",
              "      <td>First</td>\n",
              "      <td>woman</td>\n",
              "      <td>False</td>\n",
              "      <td>C</td>\n",
              "      <td>Southampton</td>\n",
              "      <td>yes</td>\n",
              "      <td>False</td>\n",
              "      <td>1</td>\n",
              "    </tr>\n",
              "    <tr>\n",
              "      <th>6</th>\n",
              "      <td>0</td>\n",
              "      <td>1</td>\n",
              "      <td>male</td>\n",
              "      <td>54.0</td>\n",
              "      <td>0</td>\n",
              "      <td>0</td>\n",
              "      <td>51.8625</td>\n",
              "      <td>S</td>\n",
              "      <td>First</td>\n",
              "      <td>man</td>\n",
              "      <td>True</td>\n",
              "      <td>E</td>\n",
              "      <td>Southampton</td>\n",
              "      <td>no</td>\n",
              "      <td>True</td>\n",
              "      <td>0</td>\n",
              "    </tr>\n",
              "    <tr>\n",
              "      <th>10</th>\n",
              "      <td>1</td>\n",
              "      <td>3</td>\n",
              "      <td>female</td>\n",
              "      <td>4.0</td>\n",
              "      <td>1</td>\n",
              "      <td>1</td>\n",
              "      <td>16.7000</td>\n",
              "      <td>S</td>\n",
              "      <td>Third</td>\n",
              "      <td>child</td>\n",
              "      <td>False</td>\n",
              "      <td>G</td>\n",
              "      <td>Southampton</td>\n",
              "      <td>yes</td>\n",
              "      <td>False</td>\n",
              "      <td>1</td>\n",
              "    </tr>\n",
              "    <tr>\n",
              "      <th>11</th>\n",
              "      <td>1</td>\n",
              "      <td>1</td>\n",
              "      <td>female</td>\n",
              "      <td>58.0</td>\n",
              "      <td>0</td>\n",
              "      <td>0</td>\n",
              "      <td>26.5500</td>\n",
              "      <td>S</td>\n",
              "      <td>First</td>\n",
              "      <td>woman</td>\n",
              "      <td>False</td>\n",
              "      <td>C</td>\n",
              "      <td>Southampton</td>\n",
              "      <td>yes</td>\n",
              "      <td>True</td>\n",
              "      <td>1</td>\n",
              "    </tr>\n",
              "  </tbody>\n",
              "</table>\n",
              "</div>"
            ],
            "text/plain": [
              "    survived  pclass     sex   age  ...  embark_town  alive  alone female\n",
              "1          1       1  female  38.0  ...    Cherbourg    yes  False      1\n",
              "3          1       1  female  35.0  ...  Southampton    yes  False      1\n",
              "6          0       1    male  54.0  ...  Southampton     no   True      0\n",
              "10         1       3  female   4.0  ...  Southampton    yes  False      1\n",
              "11         1       1  female  58.0  ...  Southampton    yes   True      1\n",
              "\n",
              "[5 rows x 16 columns]"
            ]
          },
          "metadata": {
            "tags": []
          },
          "execution_count": 18
        }
      ]
    },
    {
      "cell_type": "code",
      "metadata": {
        "colab": {
          "base_uri": "https://localhost:8080/"
        },
        "id": "3KAX5z2n97tg",
        "outputId": "eddf830e-3520-4f73-d95d-c3a60cc9915b"
      },
      "source": [
        "# Unique values\n",
        "titanic['deck'].unique()"
      ],
      "execution_count": null,
      "outputs": [
        {
          "output_type": "execute_result",
          "data": {
            "text/plain": [
              "['C', 'E', 'G', 'D', 'A', 'B', 'F']\n",
              "Categories (7, object): ['C', 'E', 'G', 'D', 'A', 'B', 'F']"
            ]
          },
          "metadata": {
            "tags": []
          },
          "execution_count": 19
        }
      ]
    },
    {
      "cell_type": "code",
      "metadata": {
        "colab": {
          "base_uri": "https://localhost:8080/",
          "height": 345
        },
        "id": "JsKCTR8t-YxJ",
        "outputId": "fcb4dafb-65d0-4b82-9ff4-d38b5f36d5d7"
      },
      "source": [
        "# Transforming deck into int value column\n",
        "titanic['level'] = titanic['deck'].map({'C': 0, 'E': 1, 'G': 2, 'D': 3, 'A': 4, 'B': 5, 'F': 6})\n",
        "titanic.head()"
      ],
      "execution_count": null,
      "outputs": [
        {
          "output_type": "stream",
          "text": [
            "/usr/local/lib/python3.7/dist-packages/ipykernel_launcher.py:2: SettingWithCopyWarning:\n",
            "\n",
            "\n",
            "A value is trying to be set on a copy of a slice from a DataFrame.\n",
            "Try using .loc[row_indexer,col_indexer] = value instead\n",
            "\n",
            "See the caveats in the documentation: https://pandas.pydata.org/pandas-docs/stable/user_guide/indexing.html#returning-a-view-versus-a-copy\n",
            "\n"
          ],
          "name": "stderr"
        },
        {
          "output_type": "execute_result",
          "data": {
            "text/html": [
              "<div>\n",
              "<style scoped>\n",
              "    .dataframe tbody tr th:only-of-type {\n",
              "        vertical-align: middle;\n",
              "    }\n",
              "\n",
              "    .dataframe tbody tr th {\n",
              "        vertical-align: top;\n",
              "    }\n",
              "\n",
              "    .dataframe thead th {\n",
              "        text-align: right;\n",
              "    }\n",
              "</style>\n",
              "<table border=\"1\" class=\"dataframe\">\n",
              "  <thead>\n",
              "    <tr style=\"text-align: right;\">\n",
              "      <th></th>\n",
              "      <th>survived</th>\n",
              "      <th>pclass</th>\n",
              "      <th>sex</th>\n",
              "      <th>age</th>\n",
              "      <th>sibsp</th>\n",
              "      <th>parch</th>\n",
              "      <th>fare</th>\n",
              "      <th>embarked</th>\n",
              "      <th>class</th>\n",
              "      <th>who</th>\n",
              "      <th>adult_male</th>\n",
              "      <th>deck</th>\n",
              "      <th>embark_town</th>\n",
              "      <th>alive</th>\n",
              "      <th>alone</th>\n",
              "      <th>female</th>\n",
              "      <th>level</th>\n",
              "    </tr>\n",
              "  </thead>\n",
              "  <tbody>\n",
              "    <tr>\n",
              "      <th>1</th>\n",
              "      <td>1</td>\n",
              "      <td>1</td>\n",
              "      <td>female</td>\n",
              "      <td>38.0</td>\n",
              "      <td>1</td>\n",
              "      <td>0</td>\n",
              "      <td>71.2833</td>\n",
              "      <td>C</td>\n",
              "      <td>First</td>\n",
              "      <td>woman</td>\n",
              "      <td>False</td>\n",
              "      <td>C</td>\n",
              "      <td>Cherbourg</td>\n",
              "      <td>yes</td>\n",
              "      <td>False</td>\n",
              "      <td>1</td>\n",
              "      <td>0</td>\n",
              "    </tr>\n",
              "    <tr>\n",
              "      <th>3</th>\n",
              "      <td>1</td>\n",
              "      <td>1</td>\n",
              "      <td>female</td>\n",
              "      <td>35.0</td>\n",
              "      <td>1</td>\n",
              "      <td>0</td>\n",
              "      <td>53.1000</td>\n",
              "      <td>S</td>\n",
              "      <td>First</td>\n",
              "      <td>woman</td>\n",
              "      <td>False</td>\n",
              "      <td>C</td>\n",
              "      <td>Southampton</td>\n",
              "      <td>yes</td>\n",
              "      <td>False</td>\n",
              "      <td>1</td>\n",
              "      <td>0</td>\n",
              "    </tr>\n",
              "    <tr>\n",
              "      <th>6</th>\n",
              "      <td>0</td>\n",
              "      <td>1</td>\n",
              "      <td>male</td>\n",
              "      <td>54.0</td>\n",
              "      <td>0</td>\n",
              "      <td>0</td>\n",
              "      <td>51.8625</td>\n",
              "      <td>S</td>\n",
              "      <td>First</td>\n",
              "      <td>man</td>\n",
              "      <td>True</td>\n",
              "      <td>E</td>\n",
              "      <td>Southampton</td>\n",
              "      <td>no</td>\n",
              "      <td>True</td>\n",
              "      <td>0</td>\n",
              "      <td>1</td>\n",
              "    </tr>\n",
              "    <tr>\n",
              "      <th>10</th>\n",
              "      <td>1</td>\n",
              "      <td>3</td>\n",
              "      <td>female</td>\n",
              "      <td>4.0</td>\n",
              "      <td>1</td>\n",
              "      <td>1</td>\n",
              "      <td>16.7000</td>\n",
              "      <td>S</td>\n",
              "      <td>Third</td>\n",
              "      <td>child</td>\n",
              "      <td>False</td>\n",
              "      <td>G</td>\n",
              "      <td>Southampton</td>\n",
              "      <td>yes</td>\n",
              "      <td>False</td>\n",
              "      <td>1</td>\n",
              "      <td>2</td>\n",
              "    </tr>\n",
              "    <tr>\n",
              "      <th>11</th>\n",
              "      <td>1</td>\n",
              "      <td>1</td>\n",
              "      <td>female</td>\n",
              "      <td>58.0</td>\n",
              "      <td>0</td>\n",
              "      <td>0</td>\n",
              "      <td>26.5500</td>\n",
              "      <td>S</td>\n",
              "      <td>First</td>\n",
              "      <td>woman</td>\n",
              "      <td>False</td>\n",
              "      <td>C</td>\n",
              "      <td>Southampton</td>\n",
              "      <td>yes</td>\n",
              "      <td>True</td>\n",
              "      <td>1</td>\n",
              "      <td>0</td>\n",
              "    </tr>\n",
              "  </tbody>\n",
              "</table>\n",
              "</div>"
            ],
            "text/plain": [
              "    survived  pclass     sex   age  ...  alive  alone  female level\n",
              "1          1       1  female  38.0  ...    yes  False       1     0\n",
              "3          1       1  female  35.0  ...    yes  False       1     0\n",
              "6          0       1    male  54.0  ...     no   True       0     1\n",
              "10         1       3  female   4.0  ...    yes  False       1     2\n",
              "11         1       1  female  58.0  ...    yes   True       1     0\n",
              "\n",
              "[5 rows x 17 columns]"
            ]
          },
          "metadata": {
            "tags": []
          },
          "execution_count": 20
        }
      ]
    },
    {
      "cell_type": "code",
      "metadata": {
        "colab": {
          "base_uri": "https://localhost:8080/",
          "height": 206
        },
        "id": "E8ww9C1BkwQK",
        "outputId": "2a261899-4502-41e5-df80-7dd10a28ca1c"
      },
      "source": [
        "# Dropping multiple columns\n",
        "titanic = titanic.drop(['alive', 'embark_town', 'deck'], axis=1) # we won't use text features for our initial basic models\n",
        "titanic.head()"
      ],
      "execution_count": null,
      "outputs": [
        {
          "output_type": "execute_result",
          "data": {
            "text/html": [
              "<div>\n",
              "<style scoped>\n",
              "    .dataframe tbody tr th:only-of-type {\n",
              "        vertical-align: middle;\n",
              "    }\n",
              "\n",
              "    .dataframe tbody tr th {\n",
              "        vertical-align: top;\n",
              "    }\n",
              "\n",
              "    .dataframe thead th {\n",
              "        text-align: right;\n",
              "    }\n",
              "</style>\n",
              "<table border=\"1\" class=\"dataframe\">\n",
              "  <thead>\n",
              "    <tr style=\"text-align: right;\">\n",
              "      <th></th>\n",
              "      <th>survived</th>\n",
              "      <th>pclass</th>\n",
              "      <th>sex</th>\n",
              "      <th>age</th>\n",
              "      <th>sibsp</th>\n",
              "      <th>parch</th>\n",
              "      <th>fare</th>\n",
              "      <th>embarked</th>\n",
              "      <th>class</th>\n",
              "      <th>who</th>\n",
              "      <th>adult_male</th>\n",
              "      <th>alone</th>\n",
              "      <th>female</th>\n",
              "      <th>level</th>\n",
              "    </tr>\n",
              "  </thead>\n",
              "  <tbody>\n",
              "    <tr>\n",
              "      <th>1</th>\n",
              "      <td>1</td>\n",
              "      <td>1</td>\n",
              "      <td>female</td>\n",
              "      <td>38.0</td>\n",
              "      <td>1</td>\n",
              "      <td>0</td>\n",
              "      <td>71.2833</td>\n",
              "      <td>C</td>\n",
              "      <td>First</td>\n",
              "      <td>woman</td>\n",
              "      <td>False</td>\n",
              "      <td>False</td>\n",
              "      <td>1</td>\n",
              "      <td>0</td>\n",
              "    </tr>\n",
              "    <tr>\n",
              "      <th>3</th>\n",
              "      <td>1</td>\n",
              "      <td>1</td>\n",
              "      <td>female</td>\n",
              "      <td>35.0</td>\n",
              "      <td>1</td>\n",
              "      <td>0</td>\n",
              "      <td>53.1000</td>\n",
              "      <td>S</td>\n",
              "      <td>First</td>\n",
              "      <td>woman</td>\n",
              "      <td>False</td>\n",
              "      <td>False</td>\n",
              "      <td>1</td>\n",
              "      <td>0</td>\n",
              "    </tr>\n",
              "    <tr>\n",
              "      <th>6</th>\n",
              "      <td>0</td>\n",
              "      <td>1</td>\n",
              "      <td>male</td>\n",
              "      <td>54.0</td>\n",
              "      <td>0</td>\n",
              "      <td>0</td>\n",
              "      <td>51.8625</td>\n",
              "      <td>S</td>\n",
              "      <td>First</td>\n",
              "      <td>man</td>\n",
              "      <td>True</td>\n",
              "      <td>True</td>\n",
              "      <td>0</td>\n",
              "      <td>1</td>\n",
              "    </tr>\n",
              "    <tr>\n",
              "      <th>10</th>\n",
              "      <td>1</td>\n",
              "      <td>3</td>\n",
              "      <td>female</td>\n",
              "      <td>4.0</td>\n",
              "      <td>1</td>\n",
              "      <td>1</td>\n",
              "      <td>16.7000</td>\n",
              "      <td>S</td>\n",
              "      <td>Third</td>\n",
              "      <td>child</td>\n",
              "      <td>False</td>\n",
              "      <td>False</td>\n",
              "      <td>1</td>\n",
              "      <td>2</td>\n",
              "    </tr>\n",
              "    <tr>\n",
              "      <th>11</th>\n",
              "      <td>1</td>\n",
              "      <td>1</td>\n",
              "      <td>female</td>\n",
              "      <td>58.0</td>\n",
              "      <td>0</td>\n",
              "      <td>0</td>\n",
              "      <td>26.5500</td>\n",
              "      <td>S</td>\n",
              "      <td>First</td>\n",
              "      <td>woman</td>\n",
              "      <td>False</td>\n",
              "      <td>True</td>\n",
              "      <td>1</td>\n",
              "      <td>0</td>\n",
              "    </tr>\n",
              "  </tbody>\n",
              "</table>\n",
              "</div>"
            ],
            "text/plain": [
              "    survived  pclass     sex   age  ...  adult_male  alone  female level\n",
              "1          1       1  female  38.0  ...       False  False       1     0\n",
              "3          1       1  female  35.0  ...       False  False       1     0\n",
              "6          0       1    male  54.0  ...        True   True       0     1\n",
              "10         1       3  female   4.0  ...       False  False       1     2\n",
              "11         1       1  female  58.0  ...       False   True       1     0\n",
              "\n",
              "[5 rows x 14 columns]"
            ]
          },
          "metadata": {
            "tags": []
          },
          "execution_count": 21
        }
      ]
    },
    {
      "cell_type": "code",
      "metadata": {
        "colab": {
          "base_uri": "https://localhost:8080/",
          "height": 206
        },
        "id": "IZ2VDR9wk6rM",
        "outputId": "e5c6fd78-58b5-4588-e2bf-3e47be54e700"
      },
      "source": [
        "# Map feature values\n",
        "titanic['sex'] = titanic['sex'].map( {'female': 0, 'male': 1} ).astype(int)\n",
        "titanic['embarked'] = titanic['embarked'].dropna().map( {'S':0, 'C':1, 'Q':2} ).astype(int)\n",
        "titanic.head()"
      ],
      "execution_count": null,
      "outputs": [
        {
          "output_type": "execute_result",
          "data": {
            "text/html": [
              "<div>\n",
              "<style scoped>\n",
              "    .dataframe tbody tr th:only-of-type {\n",
              "        vertical-align: middle;\n",
              "    }\n",
              "\n",
              "    .dataframe tbody tr th {\n",
              "        vertical-align: top;\n",
              "    }\n",
              "\n",
              "    .dataframe thead th {\n",
              "        text-align: right;\n",
              "    }\n",
              "</style>\n",
              "<table border=\"1\" class=\"dataframe\">\n",
              "  <thead>\n",
              "    <tr style=\"text-align: right;\">\n",
              "      <th></th>\n",
              "      <th>survived</th>\n",
              "      <th>pclass</th>\n",
              "      <th>sex</th>\n",
              "      <th>age</th>\n",
              "      <th>sibsp</th>\n",
              "      <th>parch</th>\n",
              "      <th>fare</th>\n",
              "      <th>embarked</th>\n",
              "      <th>class</th>\n",
              "      <th>who</th>\n",
              "      <th>adult_male</th>\n",
              "      <th>alone</th>\n",
              "      <th>female</th>\n",
              "      <th>level</th>\n",
              "    </tr>\n",
              "  </thead>\n",
              "  <tbody>\n",
              "    <tr>\n",
              "      <th>1</th>\n",
              "      <td>1</td>\n",
              "      <td>1</td>\n",
              "      <td>0</td>\n",
              "      <td>38.0</td>\n",
              "      <td>1</td>\n",
              "      <td>0</td>\n",
              "      <td>71.2833</td>\n",
              "      <td>1</td>\n",
              "      <td>First</td>\n",
              "      <td>woman</td>\n",
              "      <td>False</td>\n",
              "      <td>False</td>\n",
              "      <td>1</td>\n",
              "      <td>0</td>\n",
              "    </tr>\n",
              "    <tr>\n",
              "      <th>3</th>\n",
              "      <td>1</td>\n",
              "      <td>1</td>\n",
              "      <td>0</td>\n",
              "      <td>35.0</td>\n",
              "      <td>1</td>\n",
              "      <td>0</td>\n",
              "      <td>53.1000</td>\n",
              "      <td>0</td>\n",
              "      <td>First</td>\n",
              "      <td>woman</td>\n",
              "      <td>False</td>\n",
              "      <td>False</td>\n",
              "      <td>1</td>\n",
              "      <td>0</td>\n",
              "    </tr>\n",
              "    <tr>\n",
              "      <th>6</th>\n",
              "      <td>0</td>\n",
              "      <td>1</td>\n",
              "      <td>1</td>\n",
              "      <td>54.0</td>\n",
              "      <td>0</td>\n",
              "      <td>0</td>\n",
              "      <td>51.8625</td>\n",
              "      <td>0</td>\n",
              "      <td>First</td>\n",
              "      <td>man</td>\n",
              "      <td>True</td>\n",
              "      <td>True</td>\n",
              "      <td>0</td>\n",
              "      <td>1</td>\n",
              "    </tr>\n",
              "    <tr>\n",
              "      <th>10</th>\n",
              "      <td>1</td>\n",
              "      <td>3</td>\n",
              "      <td>0</td>\n",
              "      <td>4.0</td>\n",
              "      <td>1</td>\n",
              "      <td>1</td>\n",
              "      <td>16.7000</td>\n",
              "      <td>0</td>\n",
              "      <td>Third</td>\n",
              "      <td>child</td>\n",
              "      <td>False</td>\n",
              "      <td>False</td>\n",
              "      <td>1</td>\n",
              "      <td>2</td>\n",
              "    </tr>\n",
              "    <tr>\n",
              "      <th>11</th>\n",
              "      <td>1</td>\n",
              "      <td>1</td>\n",
              "      <td>0</td>\n",
              "      <td>58.0</td>\n",
              "      <td>0</td>\n",
              "      <td>0</td>\n",
              "      <td>26.5500</td>\n",
              "      <td>0</td>\n",
              "      <td>First</td>\n",
              "      <td>woman</td>\n",
              "      <td>False</td>\n",
              "      <td>True</td>\n",
              "      <td>1</td>\n",
              "      <td>0</td>\n",
              "    </tr>\n",
              "  </tbody>\n",
              "</table>\n",
              "</div>"
            ],
            "text/plain": [
              "    survived  pclass  sex   age  sibsp  ...    who  adult_male  alone female level\n",
              "1          1       1    0  38.0      1  ...  woman       False  False      1     0\n",
              "3          1       1    0  35.0      1  ...  woman       False  False      1     0\n",
              "6          0       1    1  54.0      0  ...    man        True   True      0     1\n",
              "10         1       3    0   4.0      1  ...  child       False  False      1     2\n",
              "11         1       1    0  58.0      0  ...  woman       False   True      1     0\n",
              "\n",
              "[5 rows x 14 columns]"
            ]
          },
          "metadata": {
            "tags": []
          },
          "execution_count": 22
        }
      ]
    },
    {
      "cell_type": "code",
      "metadata": {
        "colab": {
          "base_uri": "https://localhost:8080/"
        },
        "id": "dcbzsqx2JJxe",
        "outputId": "5b76f2a1-e1bc-443d-ad4d-b1de16ddf05e"
      },
      "source": [
        "titanic['class'].unique()"
      ],
      "execution_count": null,
      "outputs": [
        {
          "output_type": "execute_result",
          "data": {
            "text/plain": [
              "['First', 'Third', 'Second']\n",
              "Categories (3, object): ['First', 'Third', 'Second']"
            ]
          },
          "metadata": {
            "tags": []
          },
          "execution_count": 23
        }
      ]
    },
    {
      "cell_type": "code",
      "metadata": {
        "colab": {
          "base_uri": "https://localhost:8080/"
        },
        "id": "0GTzkBurJo0Y",
        "outputId": "97fd1ae2-27cc-4c8a-e552-c4f6e39d1c55"
      },
      "source": [
        "titanic['who'].unique()"
      ],
      "execution_count": null,
      "outputs": [
        {
          "output_type": "execute_result",
          "data": {
            "text/plain": [
              "array(['woman', 'man', 'child'], dtype=object)"
            ]
          },
          "metadata": {
            "tags": []
          },
          "execution_count": 24
        }
      ]
    },
    {
      "cell_type": "code",
      "metadata": {
        "colab": {
          "base_uri": "https://localhost:8080/"
        },
        "id": "WgqeRoAqKrjY",
        "outputId": "e112c566-e378-409b-ddca-4f7880a7373f"
      },
      "source": [
        "titanic['alone'].unique()"
      ],
      "execution_count": null,
      "outputs": [
        {
          "output_type": "execute_result",
          "data": {
            "text/plain": [
              "array([False,  True])"
            ]
          },
          "metadata": {
            "tags": []
          },
          "execution_count": 25
        }
      ]
    },
    {
      "cell_type": "code",
      "metadata": {
        "colab": {
          "base_uri": "https://localhost:8080/",
          "height": 206
        },
        "id": "ZTKMLyHZJE7-",
        "outputId": "efe51f13-a7bd-440a-c485-9353a5f55d31"
      },
      "source": [
        "# Map feature values\n",
        "titanic['classed'] = titanic['class'].map( {'First': 1, 'Second': 2, 'Third': 3 } ).astype(int)\n",
        "titanic['who'] = titanic['who'].map( {'woman': 0, 'man': 1, 'child': 2 } ).astype(int)\n",
        "titanic.head()"
      ],
      "execution_count": null,
      "outputs": [
        {
          "output_type": "execute_result",
          "data": {
            "text/html": [
              "<div>\n",
              "<style scoped>\n",
              "    .dataframe tbody tr th:only-of-type {\n",
              "        vertical-align: middle;\n",
              "    }\n",
              "\n",
              "    .dataframe tbody tr th {\n",
              "        vertical-align: top;\n",
              "    }\n",
              "\n",
              "    .dataframe thead th {\n",
              "        text-align: right;\n",
              "    }\n",
              "</style>\n",
              "<table border=\"1\" class=\"dataframe\">\n",
              "  <thead>\n",
              "    <tr style=\"text-align: right;\">\n",
              "      <th></th>\n",
              "      <th>survived</th>\n",
              "      <th>pclass</th>\n",
              "      <th>sex</th>\n",
              "      <th>age</th>\n",
              "      <th>sibsp</th>\n",
              "      <th>parch</th>\n",
              "      <th>fare</th>\n",
              "      <th>embarked</th>\n",
              "      <th>class</th>\n",
              "      <th>who</th>\n",
              "      <th>adult_male</th>\n",
              "      <th>alone</th>\n",
              "      <th>female</th>\n",
              "      <th>level</th>\n",
              "      <th>classed</th>\n",
              "    </tr>\n",
              "  </thead>\n",
              "  <tbody>\n",
              "    <tr>\n",
              "      <th>1</th>\n",
              "      <td>1</td>\n",
              "      <td>1</td>\n",
              "      <td>0</td>\n",
              "      <td>38.0</td>\n",
              "      <td>1</td>\n",
              "      <td>0</td>\n",
              "      <td>71.2833</td>\n",
              "      <td>1</td>\n",
              "      <td>First</td>\n",
              "      <td>0</td>\n",
              "      <td>False</td>\n",
              "      <td>False</td>\n",
              "      <td>1</td>\n",
              "      <td>0</td>\n",
              "      <td>1</td>\n",
              "    </tr>\n",
              "    <tr>\n",
              "      <th>3</th>\n",
              "      <td>1</td>\n",
              "      <td>1</td>\n",
              "      <td>0</td>\n",
              "      <td>35.0</td>\n",
              "      <td>1</td>\n",
              "      <td>0</td>\n",
              "      <td>53.1000</td>\n",
              "      <td>0</td>\n",
              "      <td>First</td>\n",
              "      <td>0</td>\n",
              "      <td>False</td>\n",
              "      <td>False</td>\n",
              "      <td>1</td>\n",
              "      <td>0</td>\n",
              "      <td>1</td>\n",
              "    </tr>\n",
              "    <tr>\n",
              "      <th>6</th>\n",
              "      <td>0</td>\n",
              "      <td>1</td>\n",
              "      <td>1</td>\n",
              "      <td>54.0</td>\n",
              "      <td>0</td>\n",
              "      <td>0</td>\n",
              "      <td>51.8625</td>\n",
              "      <td>0</td>\n",
              "      <td>First</td>\n",
              "      <td>1</td>\n",
              "      <td>True</td>\n",
              "      <td>True</td>\n",
              "      <td>0</td>\n",
              "      <td>1</td>\n",
              "      <td>1</td>\n",
              "    </tr>\n",
              "    <tr>\n",
              "      <th>10</th>\n",
              "      <td>1</td>\n",
              "      <td>3</td>\n",
              "      <td>0</td>\n",
              "      <td>4.0</td>\n",
              "      <td>1</td>\n",
              "      <td>1</td>\n",
              "      <td>16.7000</td>\n",
              "      <td>0</td>\n",
              "      <td>Third</td>\n",
              "      <td>2</td>\n",
              "      <td>False</td>\n",
              "      <td>False</td>\n",
              "      <td>1</td>\n",
              "      <td>2</td>\n",
              "      <td>3</td>\n",
              "    </tr>\n",
              "    <tr>\n",
              "      <th>11</th>\n",
              "      <td>1</td>\n",
              "      <td>1</td>\n",
              "      <td>0</td>\n",
              "      <td>58.0</td>\n",
              "      <td>0</td>\n",
              "      <td>0</td>\n",
              "      <td>26.5500</td>\n",
              "      <td>0</td>\n",
              "      <td>First</td>\n",
              "      <td>0</td>\n",
              "      <td>False</td>\n",
              "      <td>True</td>\n",
              "      <td>1</td>\n",
              "      <td>0</td>\n",
              "      <td>1</td>\n",
              "    </tr>\n",
              "  </tbody>\n",
              "</table>\n",
              "</div>"
            ],
            "text/plain": [
              "    survived  pclass  sex   age  ...  alone  female  level  classed\n",
              "1          1       1    0  38.0  ...  False       1      0        1\n",
              "3          1       1    0  35.0  ...  False       1      0        1\n",
              "6          0       1    1  54.0  ...   True       0      1        1\n",
              "10         1       3    0   4.0  ...  False       1      2        3\n",
              "11         1       1    0  58.0  ...   True       1      0        1\n",
              "\n",
              "[5 rows x 15 columns]"
            ]
          },
          "metadata": {
            "tags": []
          },
          "execution_count": 26
        }
      ]
    },
    {
      "cell_type": "markdown",
      "metadata": {
        "id": "rK_X8ZqKLKPR"
      },
      "source": [
        "#somente atributos continuos"
      ]
    },
    {
      "cell_type": "code",
      "metadata": {
        "colab": {
          "base_uri": "https://localhost:8080/"
        },
        "id": "jXLjKz8xK82d",
        "outputId": "6c2918e5-20a5-4ed7-cc87-c96ca19a0526"
      },
      "source": [
        "continuous_features = titanic.describe().columns\n",
        "continuous_features"
      ],
      "execution_count": null,
      "outputs": [
        {
          "output_type": "execute_result",
          "data": {
            "text/plain": [
              "Index(['survived', 'pclass', 'sex', 'age', 'sibsp', 'parch', 'fare',\n",
              "       'embarked', 'who', 'female', 'classed'],\n",
              "      dtype='object')"
            ]
          },
          "metadata": {
            "tags": []
          },
          "execution_count": 27
        }
      ]
    },
    {
      "cell_type": "markdown",
      "metadata": {
        "id": "TfbvHLrm_xlp"
      },
      "source": [
        "#PCA"
      ]
    },
    {
      "cell_type": "code",
      "metadata": {
        "colab": {
          "base_uri": "https://localhost:8080/",
          "height": 206
        },
        "id": "AId-t1USLk6B",
        "outputId": "fb4a604e-ecab-4e7d-dd57-d01d7d341807"
      },
      "source": [
        "X_titanic = titanic[continuous_features]\n",
        "X_titanic.head()"
      ],
      "execution_count": null,
      "outputs": [
        {
          "output_type": "execute_result",
          "data": {
            "text/html": [
              "<div>\n",
              "<style scoped>\n",
              "    .dataframe tbody tr th:only-of-type {\n",
              "        vertical-align: middle;\n",
              "    }\n",
              "\n",
              "    .dataframe tbody tr th {\n",
              "        vertical-align: top;\n",
              "    }\n",
              "\n",
              "    .dataframe thead th {\n",
              "        text-align: right;\n",
              "    }\n",
              "</style>\n",
              "<table border=\"1\" class=\"dataframe\">\n",
              "  <thead>\n",
              "    <tr style=\"text-align: right;\">\n",
              "      <th></th>\n",
              "      <th>survived</th>\n",
              "      <th>pclass</th>\n",
              "      <th>sex</th>\n",
              "      <th>age</th>\n",
              "      <th>sibsp</th>\n",
              "      <th>parch</th>\n",
              "      <th>fare</th>\n",
              "      <th>embarked</th>\n",
              "      <th>who</th>\n",
              "      <th>female</th>\n",
              "      <th>classed</th>\n",
              "    </tr>\n",
              "  </thead>\n",
              "  <tbody>\n",
              "    <tr>\n",
              "      <th>1</th>\n",
              "      <td>1</td>\n",
              "      <td>1</td>\n",
              "      <td>0</td>\n",
              "      <td>38.0</td>\n",
              "      <td>1</td>\n",
              "      <td>0</td>\n",
              "      <td>71.2833</td>\n",
              "      <td>1</td>\n",
              "      <td>0</td>\n",
              "      <td>1</td>\n",
              "      <td>1</td>\n",
              "    </tr>\n",
              "    <tr>\n",
              "      <th>3</th>\n",
              "      <td>1</td>\n",
              "      <td>1</td>\n",
              "      <td>0</td>\n",
              "      <td>35.0</td>\n",
              "      <td>1</td>\n",
              "      <td>0</td>\n",
              "      <td>53.1000</td>\n",
              "      <td>0</td>\n",
              "      <td>0</td>\n",
              "      <td>1</td>\n",
              "      <td>1</td>\n",
              "    </tr>\n",
              "    <tr>\n",
              "      <th>6</th>\n",
              "      <td>0</td>\n",
              "      <td>1</td>\n",
              "      <td>1</td>\n",
              "      <td>54.0</td>\n",
              "      <td>0</td>\n",
              "      <td>0</td>\n",
              "      <td>51.8625</td>\n",
              "      <td>0</td>\n",
              "      <td>1</td>\n",
              "      <td>0</td>\n",
              "      <td>1</td>\n",
              "    </tr>\n",
              "    <tr>\n",
              "      <th>10</th>\n",
              "      <td>1</td>\n",
              "      <td>3</td>\n",
              "      <td>0</td>\n",
              "      <td>4.0</td>\n",
              "      <td>1</td>\n",
              "      <td>1</td>\n",
              "      <td>16.7000</td>\n",
              "      <td>0</td>\n",
              "      <td>2</td>\n",
              "      <td>1</td>\n",
              "      <td>3</td>\n",
              "    </tr>\n",
              "    <tr>\n",
              "      <th>11</th>\n",
              "      <td>1</td>\n",
              "      <td>1</td>\n",
              "      <td>0</td>\n",
              "      <td>58.0</td>\n",
              "      <td>0</td>\n",
              "      <td>0</td>\n",
              "      <td>26.5500</td>\n",
              "      <td>0</td>\n",
              "      <td>0</td>\n",
              "      <td>1</td>\n",
              "      <td>1</td>\n",
              "    </tr>\n",
              "  </tbody>\n",
              "</table>\n",
              "</div>"
            ],
            "text/plain": [
              "    survived  pclass  sex   age  sibsp  ...     fare  embarked  who  female  classed\n",
              "1          1       1    0  38.0      1  ...  71.2833         1    0       1        1\n",
              "3          1       1    0  35.0      1  ...  53.1000         0    0       1        1\n",
              "6          0       1    1  54.0      0  ...  51.8625         0    1       0        1\n",
              "10         1       3    0   4.0      1  ...  16.7000         0    2       1        3\n",
              "11         1       1    0  58.0      0  ...  26.5500         0    0       1        1\n",
              "\n",
              "[5 rows x 11 columns]"
            ]
          },
          "metadata": {
            "tags": []
          },
          "execution_count": 28
        }
      ]
    },
    {
      "cell_type": "markdown",
      "metadata": {
        "id": "LhMUU4ClOR_A"
      },
      "source": [
        "#Normalizando"
      ]
    },
    {
      "cell_type": "code",
      "metadata": {
        "colab": {
          "base_uri": "https://localhost:8080/"
        },
        "id": "XYbVqsV6ORni",
        "outputId": "965d0c2b-3bf7-4a13-be7b-3884d3540741"
      },
      "source": [
        "from sklearn.preprocessing import StandardScaler\n",
        "scaler = StandardScaler()\n",
        "X_titanic = scaler.fit_transform(X_titanic)\n",
        "X_titanic"
      ],
      "execution_count": null,
      "outputs": [
        {
          "output_type": "execute_result",
          "data": {
            "text/plain": [
              "array([[ 0.69258559, -0.37341964, -1.03352882, ..., -1.00953235,\n",
              "         1.03352882, -0.37341964],\n",
              "       [ 0.69258559, -0.37341964, -1.03352882, ..., -1.00953235,\n",
              "         1.03352882, -0.37341964],\n",
              "       [-1.44386487, -0.37341964,  0.96755889, ...,  0.61644011,\n",
              "        -0.96755889, -0.37341964],\n",
              "       ...,\n",
              "       [ 0.69258559, -0.37341964, -1.03352882, ..., -1.00953235,\n",
              "         1.03352882, -0.37341964],\n",
              "       [ 0.69258559, -0.37341964, -1.03352882, ..., -1.00953235,\n",
              "         1.03352882, -0.37341964],\n",
              "       [ 0.69258559, -0.37341964,  0.96755889, ...,  0.61644011,\n",
              "        -0.96755889, -0.37341964]])"
            ]
          },
          "metadata": {
            "tags": []
          },
          "execution_count": 29
        }
      ]
    },
    {
      "cell_type": "code",
      "metadata": {
        "colab": {
          "base_uri": "https://localhost:8080/",
          "height": 269
        },
        "id": "UvZGCEPnDxSs",
        "outputId": "332fec9e-df68-4d57-f577-94eb49e13e4f"
      },
      "source": [
        "plt.scatter(X_titanic[:, 3], X_titanic[:,6])\n",
        "plt.axis('equal');"
      ],
      "execution_count": null,
      "outputs": [
        {
          "output_type": "display_data",
          "data": {
            "image/png": "[encoded data removed]",
            "text/plain": [
              "<Figure size 432x288 with 1 Axes>"
            ]
          },
          "metadata": {
            "tags": [],
            "needs_background": "light"
          }
        }
      ]
    },
    {
      "cell_type": "code",
      "metadata": {
        "colab": {
          "base_uri": "https://localhost:8080/"
        },
        "id": "mNmXinsA_xEe",
        "outputId": "cfed669a-b9b4-4178-8c3e-5b128c65c3f7"
      },
      "source": [
        "from sklearn.decomposition import PCA\n",
        "pca = PCA(n_components=2)\n",
        "pca.fit(X_titanic)\n",
        "#pca = PCA(n_components=20)\n",
        "#pca.fit_transform(X_titanic)"
      ],
      "execution_count": null,
      "outputs": [
        {
          "output_type": "execute_result",
          "data": {
            "text/plain": [
              "PCA(copy=True, iterated_power='auto', n_components=2, random_state=None,\n",
              "    svd_solver='auto', tol=0.0, whiten=False)"
            ]
          },
          "metadata": {
            "tags": []
          },
          "execution_count": 51
        }
      ]
    },
    {
      "cell_type": "code",
      "metadata": {
        "colab": {
          "base_uri": "https://localhost:8080/"
        },
        "id": "oKHmlJzWBW2k",
        "outputId": "3ffe2634-897b-4f40-f958-a84561dc2bd8"
      },
      "source": [
        "print(pca.components_)"
      ],
      "execution_count": null,
      "outputs": [
        {
          "output_type": "stream",
          "text": [
            "[[ 0.37821517 -0.09222055 -0.52826953 -0.08866624  0.11093817  0.06477609\n",
            "   0.17638809  0.112426   -0.46226545  0.52826953 -0.09222055]\n",
            " [ 0.07602604  0.59823226 -0.14537323 -0.3131219  -0.06991344  0.05698482\n",
            "  -0.25302114 -0.25213408  0.04917144  0.14537323  0.59823226]]\n"
          ],
          "name": "stdout"
        }
      ]
    },
    {
      "cell_type": "code",
      "metadata": {
        "colab": {
          "base_uri": "https://localhost:8080/"
        },
        "id": "_4WtNbSsBigy",
        "outputId": "0cc4163e-7bf9-4995-e7e8-2c94603b88fc"
      },
      "source": [
        "print(pca.explained_variance_)"
      ],
      "execution_count": null,
      "outputs": [
        {
          "output_type": "stream",
          "text": [
            "[3.16506596 2.45405649]\n"
          ],
          "name": "stdout"
        }
      ]
    },
    {
      "cell_type": "code",
      "metadata": {
        "colab": {
          "base_uri": "https://localhost:8080/"
        },
        "id": "zsjyKsaQKykF",
        "outputId": "9c7883ae-938a-42fe-c228-df42a37a5971"
      },
      "source": [
        "print(pca.explained_variance_ratio_)"
      ],
      "execution_count": null,
      "outputs": [
        {
          "output_type": "stream",
          "text": [
            "[0.28615232 0.22187024]\n"
          ],
          "name": "stdout"
        }
      ]
    },
    {
      "cell_type": "code",
      "metadata": {
        "colab": {
          "base_uri": "https://localhost:8080/"
        },
        "id": "y4cLqxGpPtYr",
        "outputId": "3c1ec467-610f-4b69-ba42-71eaac9a7570"
      },
      "source": [
        "print(pca.mean_)"
      ],
      "execution_count": null,
      "outputs": [
        {
          "output_type": "stream",
          "text": [
            "[-3.90408097e-17  2.92806072e-17 -1.97644099e-16  1.95204048e-17\n",
            " -6.34413157e-17 -7.80816193e-17  2.56205313e-16  1.95204048e-17\n",
            " -4.63609615e-17  9.76020241e-18  2.92806072e-17]\n"
          ],
          "name": "stdout"
        }
      ]
    },
    {
      "cell_type": "code",
      "metadata": {
        "id": "vac66_OpRCRj"
      },
      "source": [
        "# Define scree plot function\n",
        "def scree_plot(pca):\n",
        "    '''\n",
        "    Creates a scree plot associated with the principal components \n",
        "    \n",
        "    INPUT: pca - the result of instantian of PCA in scikit learn\n",
        "            \n",
        "    OUTPUT:\n",
        "            None\n",
        "    '''\n",
        "    num_components=len(pca.explained_variance_ratio_)\n",
        "    ind = np.arange(num_components)\n",
        "    vals = pca.explained_variance_ratio_\n",
        " \n",
        "    plt.figure(figsize=(18, 6))\n",
        "    ax = plt.subplot(111)\n",
        "    cumvals = np.cumsum(vals)\n",
        "    ax.scatter(ind, vals)\n",
        "    ax.plot(ind, vals, color='r')\n",
        "    ax.plot(ind, cumvals)\n",
        "    for i in range(num_components):\n",
        "        ax.annotate(r\"%s\" % ((str(vals[i]*100)[:3])), (ind[i], vals[i]), va=\"bottom\", ha=\"center\", fontsize=4.5)\n",
        " \n",
        "    ax.xaxis.set_tick_params(width=0)\n",
        "    ax.yaxis.set_tick_params(width=2, length=12)\n",
        " \n",
        "    ax.set_xlabel(\"Principal Component\")\n",
        "    ax.set_ylabel(\"Variance Explained (%)\")\n",
        "    plt.title('Explained Variance Per Principal Component')"
      ],
      "execution_count": null,
      "outputs": []
    },
    {
      "cell_type": "code",
      "metadata": {
        "colab": {
          "base_uri": "https://localhost:8080/",
          "height": 404
        },
        "id": "4Lr7QFzSRLxb",
        "outputId": "33167bf1-945e-4500-ea77-82281e982b17"
      },
      "source": [
        "scree_plot(pca)"
      ],
      "execution_count": null,
      "outputs": [
        {
          "output_type": "display_data",
          "data": {
            "image/png": "[encoded data removed]",
            "text/plain": [
              "<Figure size 1296x432 with 1 Axes>"
            ]
          },
          "metadata": {
            "tags": [],
            "needs_background": "light"
          }
        }
      ]
    },
    {
      "cell_type": "markdown",
      "metadata": {
        "id": "ysfmh1SzfLwI"
      },
      "source": [
        "#plotando os componentes principais da base titanic"
      ]
    },
    {
      "cell_type": "code",
      "metadata": {
        "colab": {
          "base_uri": "https://localhost:8080/"
        },
        "id": "pY-AGTOgfQ8E",
        "outputId": "3581af58-f1c9-40d9-b3b4-8f1bfb2edeb9"
      },
      "source": [
        "features = titanic[continuous_features].columns\n",
        "features[1:11]"
      ],
      "execution_count": null,
      "outputs": [
        {
          "output_type": "execute_result",
          "data": {
            "text/plain": [
              "Index(['pclass', 'sex', 'age', 'sibsp', 'parch', 'fare', 'embarked', 'who',\n",
              "       'female', 'classed'],\n",
              "      dtype='object')"
            ]
          },
          "metadata": {
            "tags": []
          },
          "execution_count": 117
        }
      ]
    },
    {
      "cell_type": "code",
      "metadata": {
        "id": "s88roJiNDUyo",
        "colab": {
          "base_uri": "https://localhost:8080/",
          "height": 542
        },
        "outputId": "391e56d4-c136-456d-b7ee-ec77a88452fc"
      },
      "source": [
        "#df = px.data.iris()\n",
        "features = features[1:11]\n",
        "X = X_titanic[:, 1:11]\n",
        "\n",
        "pca = PCA(n_components=2)\n",
        "components = pca.fit_transform(X)\n",
        "\n",
        "loadings = pca.components_.T * np.sqrt(pca.explained_variance_)\n",
        "\n",
        "fig = px.scatter(components, x=0, y=1, color=X_titanic[:,0])\n",
        "\n",
        "for i, feature in enumerate(features):\n",
        "    fig.add_shape(\n",
        "        type='line',\n",
        "        x0=0, y0=0,\n",
        "        x1=loadings[i, 0],\n",
        "        y1=loadings[i, 1]\n",
        "    )\n",
        "    fig.add_annotation(\n",
        "        x=loadings[i, 0],\n",
        "        y=loadings[i, 1],\n",
        "        ax=0, ay=0,\n",
        "        xanchor=\"center\",\n",
        "        yanchor=\"bottom\",\n",
        "        text=feature,\n",
        "    )\n",
        "fig.show()"
      ],
      "execution_count": null,
      "outputs": [
        {
          "output_type": "display_data",
          "data": {
            "text/html": [
              "<html>\n",
              "<head><meta charset=\"utf-8\" /></head>\n",
              "<body>\n",
              "    <div>\n",
              "            <script src=\"https://cdnjs.cloudflare.com/ajax/libs/mathjax/2.7.5/MathJax.js?config=TeX-AMS-MML_SVG\"></script><script type=\"text/javascript\">if (window.MathJax) {MathJax.Hub.Config({SVG: {font: \"STIX-Web\"}});}</script>\n",
              "                <script type=\"text/javascript\">window.PlotlyConfig = {MathJaxConfig: 'local'};</script>\n",
              "        <script src=\"https://cdn.plot.ly/plotly-latest.min.js\"></script>    \n",
              "            <div id=\"89d62f40-fb86-42b4-bde5-65e4f7826f59\" class=\"plotly-graph-div\" style=\"height:525px; width:100%;\"></div>\n",
              "            <script type=\"text/javascript\">\n",
              "                \n",
              "                    window.PLOTLYENV=window.PLOTLYENV || {};\n",
              "                    \n",
              "                if (document.getElementById(\"89d62f40-fb86-42b4-bde5-65e4f7826f59\")) {\n",
              "                    Plotly.newPlot(\n",
              "                        '89d62f40-fb86-42b4-bde5-65e4f7826f59',\n",
              "                        [{\"hoverlabel\": {\"namelength\": 0}, \"hovertemplate\": \"0=%{x}<br>1=%{y}<br>color=%{marker.color}\", \"legendgroup\": \"\", \"marker\": {\"color\": [0.6925855880307988, 0.6925855880307988, -1.443864869962513, 0.6925855880307988, 0.6925855880307988, 0.6925855880307988, 0.6925855880307988, -1.443864869962513, 0.6925855880307988, -1.443864869962513, -1.443864869962513, 0.6925855880307988, -1.443864869962513, 0.6925855880307988, -1.443864869962513, -1.443864869962513, 0.6925855880307988, -1.443864869962513, -1.443864869962513, -1.443864869962513, 0.6925855880307988, -1.443864869962513, 0.6925855880307988, -1.443864869962513, -1.443864869962513, -1.443864869962513, 0.6925855880307988, -1.443864869962513, -1.443864869962513, -1.443864869962513, 0.6925855880307988, 0.6925855880307988, 0.6925855880307988, 0.6925855880307988, -1.443864869962513, 0.6925855880307988, 0.6925855880307988, 0.6925855880307988, 0.6925855880307988, 0.6925855880307988, -1.443864869962513, 0.6925855880307988, -1.443864869962513, -1.443864869962513, 0.6925855880307988, -1.443864869962513, -1.443864869962513, 0.6925855880307988, 0.6925855880307988, -1.443864869962513, 0.6925855880307988, 0.6925855880307988, -1.443864869962513, -1.443864869962513, 0.6925855880307988, 0.6925855880307988, 0.6925855880307988, 0.6925855880307988, 0.6925855880307988, 0.6925855880307988, 0.6925855880307988, 0.6925855880307988, 0.6925855880307988, 0.6925855880307988, 0.6925855880307988, -1.443864869962513, -1.443864869962513, -1.443864869962513, 0.6925855880307988, 0.6925855880307988, 0.6925855880307988, 0.6925855880307988, 0.6925855880307988, 0.6925855880307988, 0.6925855880307988, 0.6925855880307988, -1.443864869962513, 0.6925855880307988, 0.6925855880307988, 0.6925855880307988, 0.6925855880307988, 0.6925855880307988, 0.6925855880307988, -1.443864869962513, 0.6925855880307988, -1.443864869962513, 0.6925855880307988, 0.6925855880307988, -1.443864869962513, 0.6925855880307988, -1.443864869962513, 0.6925855880307988, -1.443864869962513, 0.6925855880307988, 0.6925855880307988, 0.6925855880307988, -1.443864869962513, -1.443864869962513, 0.6925855880307988, -1.443864869962513, 0.6925855880307988, -1.443864869962513, 0.6925855880307988, -1.443864869962513, 0.6925855880307988, 0.6925855880307988, 0.6925855880307988, -1.443864869962513, 0.6925855880307988, 0.6925855880307988, -1.443864869962513, 0.6925855880307988, 0.6925855880307988, 0.6925855880307988, 0.6925855880307988, 0.6925855880307988, 0.6925855880307988, 0.6925855880307988, -1.443864869962513, 0.6925855880307988, 0.6925855880307988, 0.6925855880307988, 0.6925855880307988, 0.6925855880307988, 0.6925855880307988, 0.6925855880307988, -1.443864869962513, 0.6925855880307988, 0.6925855880307988, 0.6925855880307988, 0.6925855880307988, 0.6925855880307988, 0.6925855880307988, -1.443864869962513, -1.443864869962513, -1.443864869962513, 0.6925855880307988, 0.6925855880307988, 0.6925855880307988, 0.6925855880307988, -1.443864869962513, -1.443864869962513, 0.6925855880307988, 0.6925855880307988, 0.6925855880307988, 0.6925855880307988, 0.6925855880307988, -1.443864869962513, 0.6925855880307988, 0.6925855880307988, 0.6925855880307988, 0.6925855880307988, 0.6925855880307988, -1.443864869962513, 0.6925855880307988, -1.443864869962513, -1.443864869962513, 0.6925855880307988, 0.6925855880307988, 0.6925855880307988, 0.6925855880307988, -1.443864869962513, 0.6925855880307988, 0.6925855880307988, -1.443864869962513, -1.443864869962513, 0.6925855880307988, 0.6925855880307988, -1.443864869962513, 0.6925855880307988, 0.6925855880307988, 0.6925855880307988, 0.6925855880307988, 0.6925855880307988, 0.6925855880307988, 0.6925855880307988, -1.443864869962513, 0.6925855880307988, -1.443864869962513, 0.6925855880307988, 0.6925855880307988, 0.6925855880307988], \"coloraxis\": \"coloraxis\", \"symbol\": \"circle\"}, \"mode\": \"markers\", \"name\": \"\", \"showlegend\": false, \"type\": \"scatter\", \"x\": [-1.9892291297447884, -1.633313573128648, 1.575597577998612, 1.4007700062369164, -1.3295031258112326, 2.3641835394062953, 1.5866042110122365, 0.15228274783114254, -1.989566973235544, 1.1668541737946598, 1.2768222687384434, -0.6203906011790019, 3.070346874596724, -2.826847979663948, 1.3434590301395426, 1.3430309562264988, 1.103297370373187, 1.366712555994434, 1.5652748682012003, 0.5661050447573918, -0.6227419227579837, 1.4134809640095556, -1.559510014426467, 1.3543205012782848, 1.1461408472312757, 2.1541911068236335, -1.691220170736432, 1.6392219048494023, 1.333349495445888, -1.6541530326168408, 2.592874354221205, 2.827294175902829, -1.6597560111538208, -1.9873624461889479, 1.6097430322915267, 1.3097842273074474, -2.1219604288686957, -1.818815243344463, 1.2478184023468775, -1.7221496015509423, 0.4487815931348561, 1.2681592034028002, -0.19833199392966103, 1.6609653975663126, -1.544517753915594, 1.210172031293929, 1.7074357281772006, -1.788434437232642, -1.6811289890291812, 1.2215770216595352, -1.6663329384151184, -2.0740523335679133, 2.060395998112717, -0.4907531392297872, -2.3818467440609514, 1.666128347534027, -2.1290062589272685, -1.765021293950412, -1.8502353922397408, -2.9455287560314383, -1.9478102789981215, -2.2590385222636997, -1.986699335171943, -0.61778163705941, -1.8756908797775993, 1.6318781398822586, 1.168020698497542, 1.3035000260970333, -1.976298714934348, 2.825876951417522, -2.8254307551786417, -0.6347883308830907, -1.5514868660771735, -1.9696513721031865, -1.8097048133859237, 1.023477600521795, 0.5879471276063349, 0.9817295300929606, -2.1332982247511496, -0.11785312962229232, -2.3580424867721126, 3.079097588829463, 1.6127797650658837, 1.3645554194364102, -0.38147396156335983, 0.4276727434527514, 2.067881750178572, 1.635240813214708, 1.3051170719152019, 0.9590401961768759, 1.6652170710222327, 1.6411242547720184, 1.6047575474999978, -0.9455085657891226, 0.9192506387802458, -1.741232896545361, 1.3390963038272972, 1.6394924866706282, -1.9869774892847072, -2.1109320485244787, -1.564358896709888, 0.8572105909943568, 1.624885279712481, 1.617857608027048, -0.6133044787524683, -1.5649902542927483, -1.8360085941890116, 1.6368725813160983, -1.9301464686709418, -1.6661975778355533, 0.9098002657289515, 0.8680428011387021, -1.8823945461489306, -1.7930515124513764, -1.7966282860306644, 1.6245928154213787, -1.6358336753382816, -2.1913853325122714, 1.2774279628031442, -1.717005779751415, 0.9158383458582738, -1.989811938255321, 1.0531405818390107, -1.726186909991842, 0.438713938469179, 1.3630028938056546, 1.6426706437700798, -1.5322913519302772, 1.6763854202588073, 1.2999087528805044, -1.8097048133859237, 0.9938154277154675, 1.3192989259727557, 0.9191541365859864, 1.6425219990885704, 1.3490342615685689, -0.19135827125802357, 1.1576187283917492, -0.36586372611948753, 1.3344110470134585, 0.8075865377771145, 3.0944396908469387, -2.474524799761955, 1.6234680552271743, 1.633388626624321, -1.751809167247913, 1.3731270778187832, 3.0618435276848848, -2.2526152951880967, -0.6232250501496154, 1.3401482564252176, -1.9110400878056184, -0.1050179277670099, 1.27759372183416, -2.9412770825755183, 1.2609802332097912, 1.3288104605427642, 3.7679381755822674, -1.5402660804596737, -2.0030700953433582, -1.683339632238799, -0.5807083155904138, -1.9789565129876452, -1.670229721217154, 1.6041069715081642, 1.177319785908024, -1.3404425278598306, 1.772686454188665, 1.7060185036918936, -1.6361480220992606, -1.8151338984600451, -0.013487271890982954, -2.1102996078041842, -1.5143657835770694, 1.6453759282279385, -1.3418597523451374, 1.5469985243030515, -1.7024681771804513, 1.6828919422249433, -1.8926417766862464, -1.394864898781221, 1.2928677274241758], \"xaxis\": \"x\", \"y\": [-0.2705041578475818, 0.2936384312429356, -1.0668703994016568, 5.463661322882614, -0.016018617383111104, 1.694963508953383, -0.4953024531479801, -1.0129431468795391, -0.5080889795997195, -1.6753688072330621, -1.054238273555587, 2.8620488736174847, 4.1387703919193575, -0.03463999132660542, -1.0105034862647861, -1.812091663769833, -0.8317758789012358, -0.3798511795593256, -0.9260068919624862, -1.3797870981943834, 2.7842547778047235, -1.0457798593497707, 0.9596756077264335, -0.8057426660900795, -0.9913213313739866, 1.7951780347662536, 0.5172813709847849, -1.1554988957855863, -1.4980515655467328, -0.31226746738771827, 2.1498018504167216, 2.2250816913104776, -0.1883471958154026, -0.8113572801808588, 5.600277664756723, -1.1760489274041306, -0.2495997505295776, -0.08540127101864, -0.9316820985232945, 0.20658007948420218, -2.0341159022101256, -0.7102167337137261, 5.124594580506457, -1.1557590286428199, 0.3771879689342685, -1.090571363886868, -0.6357111272452604, -0.28580328635556923, 0.13546782026675686, -1.0178223975074008, -0.3426387991389768, 0.05617192772906937, 1.203474335558866, 0.7177736798124983, -0.8454363958350797, -0.24568044052985857, 0.04545471572911189, 0.010453263843970405, 0.05635549487129449, -0.30505889336248393, 0.32032326704293895, -0.3980884251268526, -0.3361999609864647, 2.7136259784330097, 0.3839206416829296, -0.8283836199716149, -0.9412319304949541, -0.6829980111649642, -0.43385007362054306, 2.2452613482738246, -0.05481964828995228, 2.9557818619931706, 0.7228695646555919, -0.7258256435982955, 0.09607502593888466, -1.0217864966901935, -1.2431245802095994, -0.7893831321744892, -0.088162494822803, 5.379956668887121, -0.6747382788799894, 3.996366345745363, -0.46965069188902814, -1.076103338627562, 0.5660438373383619, -1.5763452738614576, -0.02970949465773253, -0.9652836273862078, -0.9649374723972997, -1.6025789803892285, -1.2162979995328604, -0.8732438311559645, -0.887314291180827, 2.5222042885896925, -1.1239277974573327, 0.18787865577306692, -1.5355567985950285, -1.0258225982762479, -0.613393921727698, 0.40118883674262124, 0.6597031664211239, -1.0337467246405563, -0.6303355914694926, -0.8744763728533302, 2.761150588800751, 0.3571251388993341, -0.1811097532907814, -0.8127048602659239, 0.38110669739336617, 0.48845807480337305, -1.672402103991017, -0.7529486176081334, -0.38149263278878903, 0.23078596004296226, -0.14332960243564752, -0.6306222033271346, 0.20489467137557438, -0.3102205055797865, -1.121483631560568, 0.8268999744575898, -1.7022069905241284, -0.5730346078010046, -1.5103616151929409, -0.01653106587267038, 3.074511029389453, -0.905076623387804, -1.152119168760273, 0.5832864066485898, -1.5288809630717088, -1.013178612409146, 0.09607502593888466, -1.546931106042694, -1.5118209724115659, -1.5871694489045753, -0.8503055350628141, -0.6815119938759375, -2.3809152561863907, -1.0447786964854104, 0.2684980833709829, -0.6958425867580335, -1.571038858619576, 3.795716223542463, -0.31471825736196263, -0.6101559345061458, -0.7514135332495735, 0.15281213605396396, -1.0245661622528335, 4.2598483336994395, -0.6399317833018988, 2.902408187544179, -0.603946096456611, 0.03956854811388333, -2.4546972040803885, -0.8593655624695271, -0.36559786425252455, -1.4290132635410842, -0.4425088407498367, 4.52854282340552, 0.316648998044228, 0.269638651231832, -0.10048291557881506, 2.2970184786437744, -0.1489850445156281, 0.6456943941351432, -0.4997184579410212, -1.4352737845676167, 0.16737758169925096, -0.35866534163436875, -0.6155314702819135, 0.33399774516962893, -0.07124532276395223, 5.237565444125107, -0.23075736804856414, 0.8886589562278121, -0.9337828020460048, 0.18755723866259785, -0.5988211649862873, 0.1470084800591271, -0.5087841213839285, -0.49543192309845974, 0.7610998950987684, -0.8906676113408557], \"yaxis\": \"y\"}],\n",
              "                        {\"annotations\": [{\"ax\": 0, \"ay\": 0, \"text\": \"pclass\", \"x\": 0.30382146651679287, \"xanchor\": \"center\", \"y\": 0.9025309573072036, \"yanchor\": \"bottom\"}, {\"ax\": 0, \"ay\": 0, \"text\": \"sex\", \"x\": 0.9048241271976998, \"xanchor\": \"center\", \"y\": -0.38403148367535533, \"yanchor\": \"bottom\"}, {\"ax\": 0, \"ay\": 0, \"text\": \"age\", \"x\": 0.03716053285357248, \"xanchor\": \"center\", \"y\": -0.4919811457252401, \"yanchor\": \"bottom\"}, {\"ax\": 0, \"ay\": 0, \"text\": \"sibsp\", \"x\": -0.20889157564247227, \"xanchor\": \"center\", \"y\": -0.07864816088751485, \"yanchor\": \"bottom\"}, {\"ax\": 0, \"ay\": 0, \"text\": \"parch\", \"x\": -0.11098402396237039, \"xanchor\": \"center\", \"y\": 0.11048866042694268, \"yanchor\": \"bottom\"}, {\"ax\": 0, \"ay\": 0, \"text\": \"fare\", \"x\": -0.37429275892373387, \"xanchor\": \"center\", \"y\": -0.34105476839872495, \"yanchor\": \"bottom\"}, {\"ax\": 0, \"ay\": 0, \"text\": \"embarked\", \"x\": -0.26128984209026196, \"xanchor\": \"center\", \"y\": -0.35730530154209533, \"yanchor\": \"bottom\"}, {\"ax\": 0, \"ay\": 0, \"text\": \"who\", \"x\": 0.8527004724199367, \"xanchor\": \"center\", \"y\": -0.07077914525392166, \"yanchor\": \"bottom\"}, {\"ax\": 0, \"ay\": 0, \"text\": \"female\", \"x\": -0.9048241271977003, \"xanchor\": \"center\", \"y\": 0.38403148367535545, \"yanchor\": \"bottom\"}, {\"ax\": 0, \"ay\": 0, \"text\": \"classed\", \"x\": 0.30382146651679315, \"xanchor\": \"center\", \"y\": 0.9025309573072038, \"yanchor\": \"bottom\"}], \"coloraxis\": {\"colorbar\": {\"title\": {\"text\": \"color\"}}, \"colorscale\": [[0.0, \"#0d0887\"], [0.1111111111111111, \"#46039f\"], [0.2222222222222222, \"#7201a8\"], [0.3333333333333333, \"#9c179e\"], [0.4444444444444444, \"#bd3786\"], [0.5555555555555556, \"#d8576b\"], [0.6666666666666666, \"#ed7953\"], [0.7777777777777778, \"#fb9f3a\"], [0.8888888888888888, \"#fdca26\"], [1.0, \"#f0f921\"]]}, \"legend\": {\"tracegroupgap\": 0}, \"margin\": {\"t\": 60}, \"shapes\": [{\"type\": \"line\", \"x0\": 0, \"x1\": 0.30382146651679287, \"y0\": 0, \"y1\": 0.9025309573072036}, {\"type\": \"line\", \"x0\": 0, \"x1\": 0.9048241271976998, \"y0\": 0, \"y1\": -0.38403148367535533}, {\"type\": \"line\", \"x0\": 0, \"x1\": 0.03716053285357248, \"y0\": 0, \"y1\": -0.4919811457252401}, {\"type\": \"line\", \"x0\": 0, \"x1\": -0.20889157564247227, \"y0\": 0, \"y1\": -0.07864816088751485}, {\"type\": \"line\", \"x0\": 0, \"x1\": -0.11098402396237039, \"y0\": 0, \"y1\": 0.11048866042694268}, {\"type\": \"line\", \"x0\": 0, \"x1\": -0.37429275892373387, \"y0\": 0, \"y1\": -0.34105476839872495}, {\"type\": \"line\", \"x0\": 0, \"x1\": -0.26128984209026196, \"y0\": 0, \"y1\": -0.35730530154209533}, {\"type\": \"line\", \"x0\": 0, \"x1\": 0.8527004724199367, \"y0\": 0, \"y1\": -0.07077914525392166}, {\"type\": \"line\", \"x0\": 0, \"x1\": -0.9048241271977003, \"y0\": 0, \"y1\": 0.38403148367535545}, {\"type\": \"line\", \"x0\": 0, \"x1\": 0.30382146651679315, \"y0\": 0, \"y1\": 0.9025309573072038}], \"template\": {\"data\": {\"bar\": [{\"error_x\": {\"color\": \"#2a3f5f\"}, \"error_y\": {\"color\": \"#2a3f5f\"}, \"marker\": {\"line\": {\"color\": \"#E5ECF6\", \"width\": 0.5}}, \"type\": \"bar\"}], \"barpolar\": [{\"marker\": {\"line\": {\"color\": \"#E5ECF6\", \"width\": 0.5}}, \"type\": \"barpolar\"}], \"carpet\": [{\"aaxis\": {\"endlinecolor\": \"#2a3f5f\", \"gridcolor\": \"white\", \"linecolor\": \"white\", \"minorgridcolor\": \"white\", \"startlinecolor\": \"#2a3f5f\"}, \"baxis\": {\"endlinecolor\": \"#2a3f5f\", \"gridcolor\": \"white\", \"linecolor\": \"white\", \"minorgridcolor\": \"white\", \"startlinecolor\": \"#2a3f5f\"}, \"type\": \"carpet\"}], \"choropleth\": [{\"colorbar\": {\"outlinewidth\": 0, \"ticks\": \"\"}, \"type\": \"choropleth\"}], \"contour\": [{\"colorbar\": {\"outlinewidth\": 0, \"ticks\": \"\"}, \"colorscale\": [[0.0, \"#0d0887\"], [0.1111111111111111, \"#46039f\"], [0.2222222222222222, \"#7201a8\"], [0.3333333333333333, \"#9c179e\"], [0.4444444444444444, \"#bd3786\"], [0.5555555555555556, \"#d8576b\"], [0.6666666666666666, \"#ed7953\"], [0.7777777777777778, \"#fb9f3a\"], [0.8888888888888888, \"#fdca26\"], [1.0, \"#f0f921\"]], \"type\": \"contour\"}], \"contourcarpet\": [{\"colorbar\": {\"outlinewidth\": 0, \"ticks\": \"\"}, \"type\": \"contourcarpet\"}], \"heatmap\": [{\"colorbar\": {\"outlinewidth\": 0, \"ticks\": \"\"}, \"colorscale\": [[0.0, \"#0d0887\"], [0.1111111111111111, \"#46039f\"], [0.2222222222222222, \"#7201a8\"], [0.3333333333333333, \"#9c179e\"], [0.4444444444444444, \"#bd3786\"], [0.5555555555555556, \"#d8576b\"], [0.6666666666666666, \"#ed7953\"], [0.7777777777777778, \"#fb9f3a\"], [0.8888888888888888, \"#fdca26\"], [1.0, \"#f0f921\"]], \"type\": \"heatmap\"}], \"heatmapgl\": [{\"colorbar\": {\"outlinewidth\": 0, \"ticks\": \"\"}, \"colorscale\": [[0.0, \"#0d0887\"], [0.1111111111111111, \"#46039f\"], [0.2222222222222222, \"#7201a8\"], [0.3333333333333333, \"#9c179e\"], [0.4444444444444444, \"#bd3786\"], [0.5555555555555556, \"#d8576b\"], [0.6666666666666666, \"#ed7953\"], [0.7777777777777778, \"#fb9f3a\"], [0.8888888888888888, \"#fdca26\"], [1.0, \"#f0f921\"]], \"type\": \"heatmapgl\"}], \"histogram\": [{\"marker\": {\"colorbar\": {\"outlinewidth\": 0, \"ticks\": \"\"}}, \"type\": \"histogram\"}], \"histogram2d\": [{\"colorbar\": {\"outlinewidth\": 0, \"ticks\": \"\"}, \"colorscale\": [[0.0, \"#0d0887\"], [0.1111111111111111, \"#46039f\"], [0.2222222222222222, \"#7201a8\"], [0.3333333333333333, \"#9c179e\"], [0.4444444444444444, \"#bd3786\"], [0.5555555555555556, \"#d8576b\"], [0.6666666666666666, \"#ed7953\"], [0.7777777777777778, \"#fb9f3a\"], [0.8888888888888888, \"#fdca26\"], [1.0, \"#f0f921\"]], \"type\": \"histogram2d\"}], \"histogram2dcontour\": [{\"colorbar\": {\"outlinewidth\": 0, \"ticks\": \"\"}, \"colorscale\": [[0.0, \"#0d0887\"], [0.1111111111111111, \"#46039f\"], [0.2222222222222222, \"#7201a8\"], [0.3333333333333333, \"#9c179e\"], [0.4444444444444444, \"#bd3786\"], [0.5555555555555556, \"#d8576b\"], [0.6666666666666666, \"#ed7953\"], [0.7777777777777778, \"#fb9f3a\"], [0.8888888888888888, \"#fdca26\"], [1.0, \"#f0f921\"]], \"type\": \"histogram2dcontour\"}], \"mesh3d\": [{\"colorbar\": {\"outlinewidth\": 0, \"ticks\": \"\"}, \"type\": \"mesh3d\"}], \"parcoords\": [{\"line\": {\"colorbar\": {\"outlinewidth\": 0, \"ticks\": \"\"}}, \"type\": \"parcoords\"}], \"pie\": [{\"automargin\": true, \"type\": \"pie\"}], \"scatter\": [{\"marker\": {\"colorbar\": {\"outlinewidth\": 0, \"ticks\": \"\"}}, \"type\": \"scatter\"}], \"scatter3d\": [{\"line\": {\"colorbar\": {\"outlinewidth\": 0, \"ticks\": \"\"}}, \"marker\": {\"colorbar\": {\"outlinewidth\": 0, \"ticks\": \"\"}}, \"type\": \"scatter3d\"}], \"scattercarpet\": [{\"marker\": {\"colorbar\": {\"outlinewidth\": 0, \"ticks\": \"\"}}, \"type\": \"scattercarpet\"}], \"scattergeo\": [{\"marker\": {\"colorbar\": {\"outlinewidth\": 0, \"ticks\": \"\"}}, \"type\": \"scattergeo\"}], \"scattergl\": [{\"marker\": {\"colorbar\": {\"outlinewidth\": 0, \"ticks\": \"\"}}, \"type\": \"scattergl\"}], \"scattermapbox\": [{\"marker\": {\"colorbar\": {\"outlinewidth\": 0, \"ticks\": \"\"}}, \"type\": \"scattermapbox\"}], \"scatterpolar\": [{\"marker\": {\"colorbar\": {\"outlinewidth\": 0, \"ticks\": \"\"}}, \"type\": \"scatterpolar\"}], \"scatterpolargl\": [{\"marker\": {\"colorbar\": {\"outlinewidth\": 0, \"ticks\": \"\"}}, \"type\": \"scatterpolargl\"}], \"scatterternary\": [{\"marker\": {\"colorbar\": {\"outlinewidth\": 0, \"ticks\": \"\"}}, \"type\": \"scatterternary\"}], \"surface\": [{\"colorbar\": {\"outlinewidth\": 0, \"ticks\": \"\"}, \"colorscale\": [[0.0, \"#0d0887\"], [0.1111111111111111, \"#46039f\"], [0.2222222222222222, \"#7201a8\"], [0.3333333333333333, \"#9c179e\"], [0.4444444444444444, \"#bd3786\"], [0.5555555555555556, \"#d8576b\"], [0.6666666666666666, \"#ed7953\"], [0.7777777777777778, \"#fb9f3a\"], [0.8888888888888888, \"#fdca26\"], [1.0, \"#f0f921\"]], \"type\": \"surface\"}], \"table\": [{\"cells\": {\"fill\": {\"color\": \"#EBF0F8\"}, \"line\": {\"color\": \"white\"}}, \"header\": {\"fill\": {\"color\": \"#C8D4E3\"}, \"line\": {\"color\": \"white\"}}, \"type\": \"table\"}]}, \"layout\": {\"annotationdefaults\": {\"arrowcolor\": \"#2a3f5f\", \"arrowhead\": 0, \"arrowwidth\": 1}, \"coloraxis\": {\"colorbar\": {\"outlinewidth\": 0, \"ticks\": \"\"}}, \"colorscale\": {\"diverging\": [[0, \"#8e0152\"], [0.1, \"#c51b7d\"], [0.2, \"#de77ae\"], [0.3, \"#f1b6da\"], [0.4, \"#fde0ef\"], [0.5, \"#f7f7f7\"], [0.6, \"#e6f5d0\"], [0.7, \"#b8e186\"], [0.8, \"#7fbc41\"], [0.9, \"#4d9221\"], [1, \"#276419\"]], \"sequential\": [[0.0, \"#0d0887\"], [0.1111111111111111, \"#46039f\"], [0.2222222222222222, \"#7201a8\"], [0.3333333333333333, \"#9c179e\"], [0.4444444444444444, \"#bd3786\"], [0.5555555555555556, \"#d8576b\"], [0.6666666666666666, \"#ed7953\"], [0.7777777777777778, \"#fb9f3a\"], [0.8888888888888888, \"#fdca26\"], [1.0, \"#f0f921\"]], \"sequentialminus\": [[0.0, \"#0d0887\"], [0.1111111111111111, \"#46039f\"], [0.2222222222222222, \"#7201a8\"], [0.3333333333333333, \"#9c179e\"], [0.4444444444444444, \"#bd3786\"], [0.5555555555555556, \"#d8576b\"], [0.6666666666666666, \"#ed7953\"], [0.7777777777777778, \"#fb9f3a\"], [0.8888888888888888, \"#fdca26\"], [1.0, \"#f0f921\"]]}, \"colorway\": [\"#636efa\", \"#EF553B\", \"#00cc96\", \"#ab63fa\", \"#FFA15A\", \"#19d3f3\", \"#FF6692\", \"#B6E880\", \"#FF97FF\", \"#FECB52\"], \"font\": {\"color\": \"#2a3f5f\"}, \"geo\": {\"bgcolor\": \"white\", \"lakecolor\": \"white\", \"landcolor\": \"#E5ECF6\", \"showlakes\": true, \"showland\": true, \"subunitcolor\": \"white\"}, \"hoverlabel\": {\"align\": \"left\"}, \"hovermode\": \"closest\", \"mapbox\": {\"style\": \"light\"}, \"paper_bgcolor\": \"white\", \"plot_bgcolor\": \"#E5ECF6\", \"polar\": {\"angularaxis\": {\"gridcolor\": \"white\", \"linecolor\": \"white\", \"ticks\": \"\"}, \"bgcolor\": \"#E5ECF6\", \"radialaxis\": {\"gridcolor\": \"white\", \"linecolor\": \"white\", \"ticks\": \"\"}}, \"scene\": {\"xaxis\": {\"backgroundcolor\": \"#E5ECF6\", \"gridcolor\": \"white\", \"gridwidth\": 2, \"linecolor\": \"white\", \"showbackground\": true, \"ticks\": \"\", \"zerolinecolor\": \"white\"}, \"yaxis\": {\"backgroundcolor\": \"#E5ECF6\", \"gridcolor\": \"white\", \"gridwidth\": 2, \"linecolor\": \"white\", \"showbackground\": true, \"ticks\": \"\", \"zerolinecolor\": \"white\"}, \"zaxis\": {\"backgroundcolor\": \"#E5ECF6\", \"gridcolor\": \"white\", \"gridwidth\": 2, \"linecolor\": \"white\", \"showbackground\": true, \"ticks\": \"\", \"zerolinecolor\": \"white\"}}, \"shapedefaults\": {\"line\": {\"color\": \"#2a3f5f\"}}, \"ternary\": {\"aaxis\": {\"gridcolor\": \"white\", \"linecolor\": \"white\", \"ticks\": \"\"}, \"baxis\": {\"gridcolor\": \"white\", \"linecolor\": \"white\", \"ticks\": \"\"}, \"bgcolor\": \"#E5ECF6\", \"caxis\": {\"gridcolor\": \"white\", \"linecolor\": \"white\", \"ticks\": \"\"}}, \"title\": {\"x\": 0.05}, \"xaxis\": {\"automargin\": true, \"gridcolor\": \"white\", \"linecolor\": \"white\", \"ticks\": \"\", \"title\": {\"standoff\": 15}, \"zerolinecolor\": \"white\", \"zerolinewidth\": 2}, \"yaxis\": {\"automargin\": true, \"gridcolor\": \"white\", \"linecolor\": \"white\", \"ticks\": \"\", \"title\": {\"standoff\": 15}, \"zerolinecolor\": \"white\", \"zerolinewidth\": 2}}}, \"xaxis\": {\"anchor\": \"y\", \"domain\": [0.0, 1.0], \"title\": {\"text\": \"0\"}}, \"yaxis\": {\"anchor\": \"x\", \"domain\": [0.0, 1.0], \"title\": {\"text\": \"1\"}}},\n",
              "                        {\"responsive\": true}\n",
              "                    ).then(function(){\n",
              "                            \n",
              "var gd = document.getElementById('89d62f40-fb86-42b4-bde5-65e4f7826f59');\n",
              "var x = new MutationObserver(function (mutations, observer) {{\n",
              "        var display = window.getComputedStyle(gd).display;\n",
              "        if (!display || display === 'none') {{\n",
              "            console.log([gd, 'removed!']);\n",
              "            Plotly.purge(gd);\n",
              "            observer.disconnect();\n",
              "        }}\n",
              "}});\n",
              "\n",
              "// Listen for the removal of the full notebook cells\n",
              "var notebookContainer = gd.closest('#notebook-container');\n",
              "if (notebookContainer) {{\n",
              "    x.observe(notebookContainer, {childList: true});\n",
              "}}\n",
              "\n",
              "// Listen for the clearing of the current output cell\n",
              "var outputEl = gd.closest('.output');\n",
              "if (outputEl) {{\n",
              "    x.observe(outputEl, {childList: true});\n",
              "}}\n",
              "\n",
              "                        })\n",
              "                };\n",
              "                \n",
              "            </script>\n",
              "        </div>\n",
              "</body>\n",
              "</html>"
            ]
          },
          "metadata": {
            "tags": []
          }
        }
      ]
    },
    {
      "cell_type": "markdown",
      "metadata": {
        "id": "YNbuG0KoBJsJ"
      },
      "source": [
        "#Saving into CSV"
      ]
    },
    {
      "cell_type": "code",
      "metadata": {
        "id": "nXjBBrhJlPYU"
      },
      "source": [
        "# Saving dataframe to CSV\n",
        "titanic.to_csv('preprocessed_titanic.csv', index=False)"
      ],
      "execution_count": null,
      "outputs": []
    },
    {
      "cell_type": "markdown",
      "metadata": {
        "id": "EAM8ocGfWKkZ"
      },
      "source": [
        "#Iris Dataset - PCA na base IRIS"
      ]
    },
    {
      "cell_type": "code",
      "metadata": {
        "colab": {
          "base_uri": "https://localhost:8080/",
          "height": 206
        },
        "id": "f8tjjxsiWKKj",
        "outputId": "5fdf9439-f9b8-4989-bc3d-9d1e8c325d0f"
      },
      "source": [
        "iris = sns.load_dataset('iris')\n",
        "iris = iris.iloc[:, 0:4]\n",
        "iris.head()\n",
        "\n",
        "\n",
        "\n"
      ],
      "execution_count": null,
      "outputs": [
        {
          "output_type": "execute_result",
          "data": {
            "text/html": [
              "<div>\n",
              "<style scoped>\n",
              "    .dataframe tbody tr th:only-of-type {\n",
              "        vertical-align: middle;\n",
              "    }\n",
              "\n",
              "    .dataframe tbody tr th {\n",
              "        vertical-align: top;\n",
              "    }\n",
              "\n",
              "    .dataframe thead th {\n",
              "        text-align: right;\n",
              "    }\n",
              "</style>\n",
              "<table border=\"1\" class=\"dataframe\">\n",
              "  <thead>\n",
              "    <tr style=\"text-align: right;\">\n",
              "      <th></th>\n",
              "      <th>sepal_length</th>\n",
              "      <th>sepal_width</th>\n",
              "      <th>petal_length</th>\n",
              "      <th>petal_width</th>\n",
              "    </tr>\n",
              "  </thead>\n",
              "  <tbody>\n",
              "    <tr>\n",
              "      <th>0</th>\n",
              "      <td>5.1</td>\n",
              "      <td>3.5</td>\n",
              "      <td>1.4</td>\n",
              "      <td>0.2</td>\n",
              "    </tr>\n",
              "    <tr>\n",
              "      <th>1</th>\n",
              "      <td>4.9</td>\n",
              "      <td>3.0</td>\n",
              "      <td>1.4</td>\n",
              "      <td>0.2</td>\n",
              "    </tr>\n",
              "    <tr>\n",
              "      <th>2</th>\n",
              "      <td>4.7</td>\n",
              "      <td>3.2</td>\n",
              "      <td>1.3</td>\n",
              "      <td>0.2</td>\n",
              "    </tr>\n",
              "    <tr>\n",
              "      <th>3</th>\n",
              "      <td>4.6</td>\n",
              "      <td>3.1</td>\n",
              "      <td>1.5</td>\n",
              "      <td>0.2</td>\n",
              "    </tr>\n",
              "    <tr>\n",
              "      <th>4</th>\n",
              "      <td>5.0</td>\n",
              "      <td>3.6</td>\n",
              "      <td>1.4</td>\n",
              "      <td>0.2</td>\n",
              "    </tr>\n",
              "  </tbody>\n",
              "</table>\n",
              "</div>"
            ],
            "text/plain": [
              "   sepal_length  sepal_width  petal_length  petal_width\n",
              "0           5.1          3.5           1.4          0.2\n",
              "1           4.9          3.0           1.4          0.2\n",
              "2           4.7          3.2           1.3          0.2\n",
              "3           4.6          3.1           1.5          0.2\n",
              "4           5.0          3.6           1.4          0.2"
            ]
          },
          "metadata": {
            "tags": []
          },
          "execution_count": 70
        }
      ]
    },
    {
      "cell_type": "code",
      "metadata": {
        "colab": {
          "base_uri": "https://localhost:8080/"
        },
        "id": "hD9SkH1RXZKW",
        "outputId": "e9ed4252-d056-4c80-ef51-14b56ae4a6b2"
      },
      "source": [
        "from sklearn.decomposition import PCA\n",
        "pca_iris = PCA(n_components=3)\n",
        "pca_iris.fit(iris)\n",
        "print(pca_iris.explained_variance_)"
      ],
      "execution_count": null,
      "outputs": [
        {
          "output_type": "stream",
          "text": [
            "[4.22824171 0.24267075 0.0782095 ]\n"
          ],
          "name": "stdout"
        }
      ]
    },
    {
      "cell_type": "code",
      "metadata": {
        "colab": {
          "base_uri": "https://localhost:8080/"
        },
        "id": "wpHV_X8BYHIQ",
        "outputId": "230f51bb-2d57-4f63-93c5-6ff5a3587ce6"
      },
      "source": [
        "print(pca_iris.explained_variance_ratio_)"
      ],
      "execution_count": null,
      "outputs": [
        {
          "output_type": "stream",
          "text": [
            "[0.92461872 0.05306648 0.01710261]\n"
          ],
          "name": "stdout"
        }
      ]
    },
    {
      "cell_type": "code",
      "metadata": {
        "colab": {
          "base_uri": "https://localhost:8080/",
          "height": 404
        },
        "id": "wWgwQIrNbO4s",
        "outputId": "5402ec47-af61-43b0-ed00-51fb34397a03"
      },
      "source": [
        "scree_plot(pca_iris)"
      ],
      "execution_count": null,
      "outputs": [
        {
          "output_type": "display_data",
          "data": {
            "image/png": "[encoded data removed]",
            "text/plain": [
              "<Figure size 1296x432 with 1 Axes>"
            ]
          },
          "metadata": {
            "tags": [],
            "needs_background": "light"
          }
        }
      ]
    },
    {
      "cell_type": "code",
      "metadata": {
        "colab": {
          "base_uri": "https://localhost:8080/",
          "height": 265
        },
        "id": "Ct3XmzHmb14D",
        "outputId": "20fc8b3a-d8bc-4da0-adf5-88d545df8691"
      },
      "source": [
        "plt.scatter(iris.iloc[:, 0], iris.iloc[:,2])\n",
        "plt.axis('equal');\n",
        " "
      ],
      "execution_count": null,
      "outputs": [
        {
          "output_type": "display_data",
          "data": {
            "image/png": "[encoded data removed]",
            "text/plain": [
              "<Figure size 432x288 with 1 Axes>"
            ]
          },
          "metadata": {
            "tags": [],
            "needs_background": "light"
          }
        }
      ]
    },
    {
      "cell_type": "markdown",
      "metadata": {
        "id": "nT4PA5VdedxR"
      },
      "source": [
        "#Plotando os componentes principais na base IRIS"
      ]
    },
    {
      "cell_type": "code",
      "metadata": {
        "colab": {
          "base_uri": "https://localhost:8080/",
          "height": 542
        },
        "id": "bMId0W5tehTi",
        "outputId": "68267a41-38bd-4af0-923a-49bd3d4eb4b3"
      },
      "source": [
        "import plotly.express as px\n",
        "from sklearn.decomposition import PCA\n",
        "from sklearn import datasets\n",
        "from sklearn.preprocessing import StandardScaler\n",
        "\n",
        "df = px.data.iris()\n",
        "features = ['sepal_length', 'sepal_width', 'petal_length', 'petal_width']\n",
        "X = df[features]\n",
        "\n",
        "pca = PCA(n_components=2)\n",
        "components = pca.fit_transform(X)\n",
        "\n",
        "loadings = pca.components_.T * np.sqrt(pca.explained_variance_)\n",
        "\n",
        "fig = px.scatter(components, x=0, y=1, color=df['species'])\n",
        "\n",
        "for i, feature in enumerate(features):\n",
        "    fig.add_shape(\n",
        "        type='line',\n",
        "        x0=0, y0=0,\n",
        "        x1=loadings[i, 0],\n",
        "        y1=loadings[i, 1]\n",
        "    )\n",
        "    fig.add_annotation(\n",
        "        x=loadings[i, 0],\n",
        "        y=loadings[i, 1],\n",
        "        ax=0, ay=0,\n",
        "        xanchor=\"center\",\n",
        "        yanchor=\"bottom\",\n",
        "        text=feature,\n",
        "    )\n",
        "fig.show()"
      ],
      "execution_count": null,
      "outputs": [
        {
          "output_type": "display_data",
          "data": {
            "text/html": [
              "<html>\n",
              "<head><meta charset=\"utf-8\" /></head>\n",
              "<body>\n",
              "    <div>\n",
              "            <script src=\"https://cdnjs.cloudflare.com/ajax/libs/mathjax/2.7.5/MathJax.js?config=TeX-AMS-MML_SVG\"></script><script type=\"text/javascript\">if (window.MathJax) {MathJax.Hub.Config({SVG: {font: \"STIX-Web\"}});}</script>\n",
              "                <script type=\"text/javascript\">window.PlotlyConfig = {MathJaxConfig: 'local'};</script>\n",
              "        <script src=\"https://cdn.plot.ly/plotly-latest.min.js\"></script>    \n",
              "            <div id=\"9207aad7-6e0c-4f4e-a1d2-588d7b7b6f65\" class=\"plotly-graph-div\" style=\"height:525px; width:100%;\"></div>\n",
              "            <script type=\"text/javascript\">\n",
              "                \n",
              "                    window.PLOTLYENV=window.PLOTLYENV || {};\n",
              "                    \n",
              "                if (document.getElementById(\"9207aad7-6e0c-4f4e-a1d2-588d7b7b6f65\")) {\n",
              "                    Plotly.newPlot(\n",
              "                        '9207aad7-6e0c-4f4e-a1d2-588d7b7b6f65',\n",
              "                        [{\"hoverlabel\": {\"namelength\": 0}, \"hovertemplate\": \"color=setosa<br>0=%{x}<br>1=%{y}\", \"legendgroup\": \"color=setosa\", \"marker\": {\"color\": \"#636efa\", \"symbol\": \"circle\"}, \"mode\": \"markers\", \"name\": \"color=setosa\", \"showlegend\": true, \"type\": \"scatter\", \"x\": [-2.6842071251039483, -2.71539061563413, -2.889819539617916, -2.746437197308734, -2.7285929818313144, -2.279897361009598, -2.8208906821806297, -2.6264819933238184, -2.887958565335634, -2.6738446867191206, -2.5065267893389036, -2.613142718271056, -2.787433975997097, -3.22520044627498, -2.643543216941146, -2.3838693237993756, -2.6225262031258083, -2.6483227324791265, -2.1990779614307634, -2.587346188917738, -2.3105317013131335, -2.5432349073036953, -3.215857694900105, -2.3031285376638824, -2.3561710866838976, -2.5079172268378804, -2.4690559975451225, -2.5623909468367505, -2.6398212683765814, -2.632847908030758, -2.588462051303391, -2.4100773371215958, -2.647636673396901, -2.5971594770759183, -2.6738446867191206, -2.866999846932534, -2.625228464680421, -2.6738446867191206, -2.981842664853908, -2.590323025585674, -2.770138910746324, -2.8522110815663906, -2.9982964428323506, -2.4055141012847012, -2.2088329541767058, -2.715665190747454, -2.537573371013507, -2.8403212968270086, -2.5426857570770482, -2.70391231486365], \"xaxis\": \"x\", \"y\": [0.3266073147643885, -0.16955684755602624, -0.13734560960502795, -0.31112431575199184, 0.33392456356845474, 0.7477827132251336, -0.082104511024681, 0.17040534896028983, -0.5707980263315918, -0.10669170375273856, 0.651935013672572, 0.021520631960257896, -0.22774018887110628, -0.5032799094854259, 1.1861948994134495, 1.3447543445598622, 0.8180896745965952, 0.3191366677508846, 0.8792440880917367, 0.520473638805968, 0.397867821588892, 0.44003175465981526, 0.14161557162558355, 0.10552267842998224, -0.03120958906833842, -0.139056339913174, 0.1378873145904177, 0.3746845627501061, 0.3192900659603219, -0.19007583063362415, -0.19739307943769085, 0.41808000824761615, 0.8199826325595069, 1.1000219280072685, -0.10669170375273856, 0.07719309572358721, 0.6068000084215864, -0.10669170375273856, -0.4802500488560767, 0.23605933728887282, 0.2710594197651671, -0.9328653674695444, -0.3343075745907773, 0.19591725769606078, 0.4426960304210028, -0.24268148289811298, 0.5103675454766059, -0.2205763382764767, 0.5862810253439884, 0.11501085217050566], \"yaxis\": \"y\"}, {\"hoverlabel\": {\"namelength\": 0}, \"hovertemplate\": \"color=versicolor<br>0=%{x}<br>1=%{y}\", \"legendgroup\": \"color=versicolor\", \"marker\": {\"color\": \"#EF553B\", \"symbol\": \"circle\"}, \"mode\": \"markers\", \"name\": \"color=versicolor\", \"showlegend\": true, \"type\": \"scatter\", \"x\": [1.284794587845071, 0.9324107529829175, 1.4640613227790753, 0.1809672063476993, 1.0871344872070012, 0.6404367495231457, 1.095223709938478, -0.7514671406482263, 1.0432977807062809, -0.010190070727852822, -0.5110861958950897, 0.5110980606834775, 0.2623357561531805, 0.984044545169431, -0.1748640019656959, 0.9275729420326997, 0.6595927890562004, 0.23454058625983584, 0.9423617073988423, 0.04324640032870497, 1.1162407237538159, 0.3567865678304614, 1.2964688502855342, 0.9205026489090096, 0.7140082136428333, 0.8996408632837759, 1.33104141885472, 1.557396272070702, 0.812455548998002, -0.30733475566340396, -0.07034288894927106, -0.19188449210314515, 0.13499495045137355, 1.378736982775583, 0.5872748535799112, 0.8072054966767166, 1.2204289662446792, 0.81286779036907, 0.2451951616903462, 0.16451342836925617, 0.4630309888714247, 0.8901604456511564, 0.2288790499696479, -0.7070812839208597, 0.35553303918706386, 0.33112694733272313, 0.375238228946766, 0.6416902781665432, -0.9084633331234948, 0.2978079074069342], \"xaxis\": \"x\", \"y\": [0.6854391861329202, 0.3191980898336488, 0.5041898329724531, -0.8256039435761133, 0.0753903892887675, -0.41732348297002575, 0.28389121093848035, -1.0011075129743943, 0.22895690877700686, -0.7205748667019015, -1.2624919538621404, -0.1022841050459702, -0.5478932980253367, -0.12436042022227789, -0.25181557108017066, 0.46823620504311714, -0.3519762910603165, -0.33192182936212034, -0.541822258150014, -0.5814894466123587, -0.08421401387837349, -0.06682382794136613, -0.3275615197949442, -0.18239036332792097, 0.15037915314843728, 0.32961097958188407, 0.24466952060228936, 0.26739258481276484, -0.16233157487863326, -0.36508661276616033, -0.7025379317307259, -0.6774905443743572, -0.3117096427033962, -0.4212051382146283, -0.4832842677174825, 0.19505396377111148, 0.4080353370010176, -0.37067899831890966, -0.266728035661848, -0.6796614693108137, -0.6695265465361225, -0.03381244274676266, -0.4022576201789113, -1.0084247617784612, -0.5032184874026623, -0.21118014066262672, -0.2916220248087798, 0.019071176491270835, -0.7515687251694855, -0.34701652159856394], \"yaxis\": \"y\"}, {\"hoverlabel\": {\"namelength\": 0}, \"hovertemplate\": \"color=virginica<br>0=%{x}<br>1=%{y}\", \"legendgroup\": \"color=virginica\", \"marker\": {\"color\": \"#00cc96\", \"symbol\": \"circle\"}, \"mode\": \"markers\", \"name\": \"color=virginica\", \"showlegend\": true, \"type\": \"scatter\", \"x\": [2.5317269804395583, 1.4140722251737576, 2.6164846082840434, 1.970814945906482, 2.349757983950943, 3.3968799206781375, 0.5193832450849368, 2.932005096991301, 2.319672793874053, 2.9181342336442513, 1.6619349470194866, 1.8023404526607334, 2.165378862953397, 1.3445942175098249, 1.585267299308644, 1.9047435782139124, 1.949248781864498, 3.488765379656386, 3.79468686120997, 1.2983298245678165, 2.4281672590208476, 1.1980973722749628, 3.4992654842989572, 1.3876682501815556, 2.2758536493056933, 2.6141938306983334, 1.2576251829251366, 1.2906696477376016, 2.1228539805083133, 2.3875644023690277, 2.840960925285384, 3.232342898295874, 2.158738373133135, 1.4431026043759747, 1.7796401068985703, 3.076521621020662, 2.144986856709304, 1.9048629251371318, 1.1688534694704038, 2.107653731173268, 2.314303394629548, 1.9224508848357522, 1.4140722251737576, 2.563322712340809, 2.41939121980498, 1.9440170488777369, 1.5256636313138727, 1.764045935526983, 1.901629075288233, 1.3896661333194171], \"xaxis\": \"x\", \"y\": [-0.011842236640300523, -0.5749250559123048, 0.3419352869872948, -0.18112569470491371, -0.04188254965484184, 0.5471680462301528, -1.1913516890506533, 0.3523770061808598, -0.2455481706069101, 0.7803806293720322, 0.2420384010375224, -0.21615460662653627, 0.21528028337300723, -0.7764154251768252, -0.539307053847172, 0.11881899098269857, 0.040730259427767854, 1.1715445442635644, 0.25326557097253466, -0.7610139365215078, 0.3767819712541526, -0.6055789617645945, 0.4567734669640746, -0.20403098657015473, 0.3333865257566422, 0.5583669502788224, -0.17913699742322278, -0.11642525182937251, -0.2108548845494899, 0.46251925072626066, 0.37274259104902147, 1.3705240359763338, -0.21832553156299322, -0.14380128908272616, -0.5014647947060157, 0.6857644422460568, 0.13890660887731443, 0.048047508231834596, -0.16450249981508994, 0.3714822491771058, 0.1826088507936986, 0.4092711761786957, -0.5749250559123048, 0.27597450223983816, 0.30350393770262885, 0.18741522204601396, -0.3750208481918228, 0.07851918642935747, 0.11587674824796555, -0.28288670917226916], \"yaxis\": \"y\"}],\n",
              "                        {\"annotations\": [{\"ax\": 0, \"ay\": 0, \"text\": \"sepal_length\", \"x\": 0.7432265175592326, \"xanchor\": \"center\", \"y\": 0.3231374133069487, \"yanchor\": \"bottom\"}, {\"ax\": 0, \"ay\": 0, \"text\": \"sepal_width\", \"x\": -0.16909891062391022, \"xanchor\": \"center\", \"y\": 0.3591516283038463, \"yanchor\": \"bottom\"}, {\"ax\": 0, \"ay\": 0, \"text\": \"petal_length\", \"x\": 1.7606340630732842, \"xanchor\": \"center\", \"y\": -0.08650963259590294, \"yanchor\": \"bottom\"}, {\"ax\": 0, \"ay\": 0, \"text\": \"petal_width\", \"x\": 0.7375827860577797, \"xanchor\": \"center\", \"y\": -0.03676921407410933, \"yanchor\": \"bottom\"}], \"legend\": {\"tracegroupgap\": 0}, \"margin\": {\"t\": 60}, \"shapes\": [{\"type\": \"line\", \"x0\": 0, \"x1\": 0.7432265175592326, \"y0\": 0, \"y1\": 0.3231374133069487}, {\"type\": \"line\", \"x0\": 0, \"x1\": -0.16909891062391022, \"y0\": 0, \"y1\": 0.3591516283038463}, {\"type\": \"line\", \"x0\": 0, \"x1\": 1.7606340630732842, \"y0\": 0, \"y1\": -0.08650963259590294}, {\"type\": \"line\", \"x0\": 0, \"x1\": 0.7375827860577797, \"y0\": 0, \"y1\": -0.03676921407410933}], \"template\": {\"data\": {\"bar\": [{\"error_x\": {\"color\": \"#2a3f5f\"}, \"error_y\": {\"color\": \"#2a3f5f\"}, \"marker\": {\"line\": {\"color\": \"#E5ECF6\", \"width\": 0.5}}, \"type\": \"bar\"}], \"barpolar\": [{\"marker\": {\"line\": {\"color\": \"#E5ECF6\", \"width\": 0.5}}, \"type\": \"barpolar\"}], \"carpet\": [{\"aaxis\": {\"endlinecolor\": \"#2a3f5f\", \"gridcolor\": \"white\", \"linecolor\": \"white\", \"minorgridcolor\": \"white\", \"startlinecolor\": \"#2a3f5f\"}, \"baxis\": {\"endlinecolor\": \"#2a3f5f\", \"gridcolor\": \"white\", \"linecolor\": \"white\", \"minorgridcolor\": \"white\", \"startlinecolor\": \"#2a3f5f\"}, \"type\": \"carpet\"}], \"choropleth\": [{\"colorbar\": {\"outlinewidth\": 0, \"ticks\": \"\"}, \"type\": \"choropleth\"}], \"contour\": [{\"colorbar\": {\"outlinewidth\": 0, \"ticks\": \"\"}, \"colorscale\": [[0.0, \"#0d0887\"], [0.1111111111111111, \"#46039f\"], [0.2222222222222222, \"#7201a8\"], [0.3333333333333333, \"#9c179e\"], [0.4444444444444444, \"#bd3786\"], [0.5555555555555556, \"#d8576b\"], [0.6666666666666666, \"#ed7953\"], [0.7777777777777778, \"#fb9f3a\"], [0.8888888888888888, \"#fdca26\"], [1.0, \"#f0f921\"]], \"type\": \"contour\"}], \"contourcarpet\": [{\"colorbar\": {\"outlinewidth\": 0, \"ticks\": \"\"}, \"type\": \"contourcarpet\"}], \"heatmap\": [{\"colorbar\": {\"outlinewidth\": 0, \"ticks\": \"\"}, \"colorscale\": [[0.0, \"#0d0887\"], [0.1111111111111111, \"#46039f\"], [0.2222222222222222, \"#7201a8\"], [0.3333333333333333, \"#9c179e\"], [0.4444444444444444, \"#bd3786\"], [0.5555555555555556, \"#d8576b\"], [0.6666666666666666, \"#ed7953\"], [0.7777777777777778, \"#fb9f3a\"], [0.8888888888888888, \"#fdca26\"], [1.0, \"#f0f921\"]], \"type\": \"heatmap\"}], \"heatmapgl\": [{\"colorbar\": {\"outlinewidth\": 0, \"ticks\": \"\"}, \"colorscale\": [[0.0, \"#0d0887\"], [0.1111111111111111, \"#46039f\"], [0.2222222222222222, \"#7201a8\"], [0.3333333333333333, \"#9c179e\"], [0.4444444444444444, \"#bd3786\"], [0.5555555555555556, \"#d8576b\"], [0.6666666666666666, \"#ed7953\"], [0.7777777777777778, \"#fb9f3a\"], [0.8888888888888888, \"#fdca26\"], [1.0, \"#f0f921\"]], \"type\": \"heatmapgl\"}], \"histogram\": [{\"marker\": {\"colorbar\": {\"outlinewidth\": 0, \"ticks\": \"\"}}, \"type\": \"histogram\"}], \"histogram2d\": [{\"colorbar\": {\"outlinewidth\": 0, \"ticks\": \"\"}, \"colorscale\": [[0.0, \"#0d0887\"], [0.1111111111111111, \"#46039f\"], [0.2222222222222222, \"#7201a8\"], [0.3333333333333333, \"#9c179e\"], [0.4444444444444444, \"#bd3786\"], [0.5555555555555556, \"#d8576b\"], [0.6666666666666666, \"#ed7953\"], [0.7777777777777778, \"#fb9f3a\"], [0.8888888888888888, \"#fdca26\"], [1.0, \"#f0f921\"]], \"type\": \"histogram2d\"}], \"histogram2dcontour\": [{\"colorbar\": {\"outlinewidth\": 0, \"ticks\": \"\"}, \"colorscale\": [[0.0, \"#0d0887\"], [0.1111111111111111, \"#46039f\"], [0.2222222222222222, \"#7201a8\"], [0.3333333333333333, \"#9c179e\"], [0.4444444444444444, \"#bd3786\"], [0.5555555555555556, \"#d8576b\"], [0.6666666666666666, \"#ed7953\"], [0.7777777777777778, \"#fb9f3a\"], [0.8888888888888888, \"#fdca26\"], [1.0, \"#f0f921\"]], \"type\": \"histogram2dcontour\"}], \"mesh3d\": [{\"colorbar\": {\"outlinewidth\": 0, \"ticks\": \"\"}, \"type\": \"mesh3d\"}], \"parcoords\": [{\"line\": {\"colorbar\": {\"outlinewidth\": 0, \"ticks\": \"\"}}, \"type\": \"parcoords\"}], \"pie\": [{\"automargin\": true, \"type\": \"pie\"}], \"scatter\": [{\"marker\": {\"colorbar\": {\"outlinewidth\": 0, \"ticks\": \"\"}}, \"type\": \"scatter\"}], \"scatter3d\": [{\"line\": {\"colorbar\": {\"outlinewidth\": 0, \"ticks\": \"\"}}, \"marker\": {\"colorbar\": {\"outlinewidth\": 0, \"ticks\": \"\"}}, \"type\": \"scatter3d\"}], \"scattercarpet\": [{\"marker\": {\"colorbar\": {\"outlinewidth\": 0, \"ticks\": \"\"}}, \"type\": \"scattercarpet\"}], \"scattergeo\": [{\"marker\": {\"colorbar\": {\"outlinewidth\": 0, \"ticks\": \"\"}}, \"type\": \"scattergeo\"}], \"scattergl\": [{\"marker\": {\"colorbar\": {\"outlinewidth\": 0, \"ticks\": \"\"}}, \"type\": \"scattergl\"}], \"scattermapbox\": [{\"marker\": {\"colorbar\": {\"outlinewidth\": 0, \"ticks\": \"\"}}, \"type\": \"scattermapbox\"}], \"scatterpolar\": [{\"marker\": {\"colorbar\": {\"outlinewidth\": 0, \"ticks\": \"\"}}, \"type\": \"scatterpolar\"}], \"scatterpolargl\": [{\"marker\": {\"colorbar\": {\"outlinewidth\": 0, \"ticks\": \"\"}}, \"type\": \"scatterpolargl\"}], \"scatterternary\": [{\"marker\": {\"colorbar\": {\"outlinewidth\": 0, \"ticks\": \"\"}}, \"type\": \"scatterternary\"}], \"surface\": [{\"colorbar\": {\"outlinewidth\": 0, \"ticks\": \"\"}, \"colorscale\": [[0.0, \"#0d0887\"], [0.1111111111111111, \"#46039f\"], [0.2222222222222222, \"#7201a8\"], [0.3333333333333333, \"#9c179e\"], [0.4444444444444444, \"#bd3786\"], [0.5555555555555556, \"#d8576b\"], [0.6666666666666666, \"#ed7953\"], [0.7777777777777778, \"#fb9f3a\"], [0.8888888888888888, \"#fdca26\"], [1.0, \"#f0f921\"]], \"type\": \"surface\"}], \"table\": [{\"cells\": {\"fill\": {\"color\": \"#EBF0F8\"}, \"line\": {\"color\": \"white\"}}, \"header\": {\"fill\": {\"color\": \"#C8D4E3\"}, \"line\": {\"color\": \"white\"}}, \"type\": \"table\"}]}, \"layout\": {\"annotationdefaults\": {\"arrowcolor\": \"#2a3f5f\", \"arrowhead\": 0, \"arrowwidth\": 1}, \"coloraxis\": {\"colorbar\": {\"outlinewidth\": 0, \"ticks\": \"\"}}, \"colorscale\": {\"diverging\": [[0, \"#8e0152\"], [0.1, \"#c51b7d\"], [0.2, \"#de77ae\"], [0.3, \"#f1b6da\"], [0.4, \"#fde0ef\"], [0.5, \"#f7f7f7\"], [0.6, \"#e6f5d0\"], [0.7, \"#b8e186\"], [0.8, \"#7fbc41\"], [0.9, \"#4d9221\"], [1, \"#276419\"]], \"sequential\": [[0.0, \"#0d0887\"], [0.1111111111111111, \"#46039f\"], [0.2222222222222222, \"#7201a8\"], [0.3333333333333333, \"#9c179e\"], [0.4444444444444444, \"#bd3786\"], [0.5555555555555556, \"#d8576b\"], [0.6666666666666666, \"#ed7953\"], [0.7777777777777778, \"#fb9f3a\"], [0.8888888888888888, \"#fdca26\"], [1.0, \"#f0f921\"]], \"sequentialminus\": [[0.0, \"#0d0887\"], [0.1111111111111111, \"#46039f\"], [0.2222222222222222, \"#7201a8\"], [0.3333333333333333, \"#9c179e\"], [0.4444444444444444, \"#bd3786\"], [0.5555555555555556, \"#d8576b\"], [0.6666666666666666, \"#ed7953\"], [0.7777777777777778, \"#fb9f3a\"], [0.8888888888888888, \"#fdca26\"], [1.0, \"#f0f921\"]]}, \"colorway\": [\"#636efa\", \"#EF553B\", \"#00cc96\", \"#ab63fa\", \"#FFA15A\", \"#19d3f3\", \"#FF6692\", \"#B6E880\", \"#FF97FF\", \"#FECB52\"], \"font\": {\"color\": \"#2a3f5f\"}, \"geo\": {\"bgcolor\": \"white\", \"lakecolor\": \"white\", \"landcolor\": \"#E5ECF6\", \"showlakes\": true, \"showland\": true, \"subunitcolor\": \"white\"}, \"hoverlabel\": {\"align\": \"left\"}, \"hovermode\": \"closest\", \"mapbox\": {\"style\": \"light\"}, \"paper_bgcolor\": \"white\", \"plot_bgcolor\": \"#E5ECF6\", \"polar\": {\"angularaxis\": {\"gridcolor\": \"white\", \"linecolor\": \"white\", \"ticks\": \"\"}, \"bgcolor\": \"#E5ECF6\", \"radialaxis\": {\"gridcolor\": \"white\", \"linecolor\": \"white\", \"ticks\": \"\"}}, \"scene\": {\"xaxis\": {\"backgroundcolor\": \"#E5ECF6\", \"gridcolor\": \"white\", \"gridwidth\": 2, \"linecolor\": \"white\", \"showbackground\": true, \"ticks\": \"\", \"zerolinecolor\": \"white\"}, \"yaxis\": {\"backgroundcolor\": \"#E5ECF6\", \"gridcolor\": \"white\", \"gridwidth\": 2, \"linecolor\": \"white\", \"showbackground\": true, \"ticks\": \"\", \"zerolinecolor\": \"white\"}, \"zaxis\": {\"backgroundcolor\": \"#E5ECF6\", \"gridcolor\": \"white\", \"gridwidth\": 2, \"linecolor\": \"white\", \"showbackground\": true, \"ticks\": \"\", \"zerolinecolor\": \"white\"}}, \"shapedefaults\": {\"line\": {\"color\": \"#2a3f5f\"}}, \"ternary\": {\"aaxis\": {\"gridcolor\": \"white\", \"linecolor\": \"white\", \"ticks\": \"\"}, \"baxis\": {\"gridcolor\": \"white\", \"linecolor\": \"white\", \"ticks\": \"\"}, \"bgcolor\": \"#E5ECF6\", \"caxis\": {\"gridcolor\": \"white\", \"linecolor\": \"white\", \"ticks\": \"\"}}, \"title\": {\"x\": 0.05}, \"xaxis\": {\"automargin\": true, \"gridcolor\": \"white\", \"linecolor\": \"white\", \"ticks\": \"\", \"title\": {\"standoff\": 15}, \"zerolinecolor\": \"white\", \"zerolinewidth\": 2}, \"yaxis\": {\"automargin\": true, \"gridcolor\": \"white\", \"linecolor\": \"white\", \"ticks\": \"\", \"title\": {\"standoff\": 15}, \"zerolinecolor\": \"white\", \"zerolinewidth\": 2}}}, \"xaxis\": {\"anchor\": \"y\", \"domain\": [0.0, 1.0], \"title\": {\"text\": \"0\"}}, \"yaxis\": {\"anchor\": \"x\", \"domain\": [0.0, 1.0], \"title\": {\"text\": \"1\"}}},\n",
              "                        {\"responsive\": true}\n",
              "                    ).then(function(){\n",
              "                            \n",
              "var gd = document.getElementById('9207aad7-6e0c-4f4e-a1d2-588d7b7b6f65');\n",
              "var x = new MutationObserver(function (mutations, observer) {{\n",
              "        var display = window.getComputedStyle(gd).display;\n",
              "        if (!display || display === 'none') {{\n",
              "            console.log([gd, 'removed!']);\n",
              "            Plotly.purge(gd);\n",
              "            observer.disconnect();\n",
              "        }}\n",
              "}});\n",
              "\n",
              "// Listen for the removal of the full notebook cells\n",
              "var notebookContainer = gd.closest('#notebook-container');\n",
              "if (notebookContainer) {{\n",
              "    x.observe(notebookContainer, {childList: true});\n",
              "}}\n",
              "\n",
              "// Listen for the clearing of the current output cell\n",
              "var outputEl = gd.closest('.output');\n",
              "if (outputEl) {{\n",
              "    x.observe(outputEl, {childList: true});\n",
              "}}\n",
              "\n",
              "                        })\n",
              "                };\n",
              "                \n",
              "            </script>\n",
              "        </div>\n",
              "</body>\n",
              "</html>"
            ]
          },
          "metadata": {
            "tags": []
          }
        }
      ]
    }
  ]
}